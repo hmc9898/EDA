{
 "cells": [
  {
   "cell_type": "markdown",
   "id": "ae7c8abc",
   "metadata": {},
   "source": [
    "EDA Final Project\n",
    "    The goal of this project is to clean up multiple datasets to analyze the information to better understand (with the help of vizuals) the shopping habits of the customers. \n",
    "    First we will read and break down the data, start to organize organize and begin to examine the data. Next, we will start adressing any missing or dulicate values which can skew our results. Then, we further analyze the data. This is when we will start answering specific questions and really start understanding the data in front of us.\n",
    "Heather Marie Culligan\n",
    "11/03/2024"
   ]
  },
  {
   "cell_type": "code",
   "execution_count": 212,
   "id": "fbf1adab",
   "metadata": {},
   "outputs": [],
   "source": [
    "import pandas as pd\n",
    "import numpy as np\n",
    "from matplotlib import pyplot as plt\n",
    "#import all needed software libraries"
   ]
  },
  {
   "cell_type": "code",
   "execution_count": 213,
   "id": "ad36396d",
   "metadata": {},
   "outputs": [],
   "source": [
    "order= pd.read_csv('/datasets/instacart_orders.csv', sep=';')\n",
    "products= pd.read_csv('/datasets/products.csv', sep=';')\n",
    "order_products= pd.read_csv('/datasets/order_products.csv', sep=';')\n",
    "aisles= pd.read_csv('/datasets/aisles.csv', sep=';')\n",
    "departments= pd.read_csv('/datasets/departments.csv', sep=';')\n",
    "\n",
    "#read all datasets and label the dataframes accordingly"
   ]
  },
  {
   "cell_type": "code",
   "execution_count": 214,
   "id": "ad6a1efa",
   "metadata": {},
   "outputs": [
    {
     "name": "stdout",
     "output_type": "stream",
     "text": [
      "<class 'pandas.core.frame.DataFrame'>\n",
      "RangeIndex: 478967 entries, 0 to 478966\n",
      "Data columns (total 6 columns):\n",
      " #   Column                  Non-Null Count   Dtype  \n",
      "---  ------                  --------------   -----  \n",
      " 0   order_id                478967 non-null  int64  \n",
      " 1   user_id                 478967 non-null  int64  \n",
      " 2   order_number            478967 non-null  int64  \n",
      " 3   order_dow               478967 non-null  int64  \n",
      " 4   order_hour_of_day       478967 non-null  int64  \n",
      " 5   days_since_prior_order  450148 non-null  float64\n",
      "dtypes: float64(1), int64(5)\n",
      "memory usage: 21.9 MB\n"
     ]
    }
   ],
   "source": [
    "order.info()\n",
    "#using info helps us verify the columns are in the correct format. as we see the ID columns are int64.\n",
    "#it also quickly shows we have missing info in a column to address later. (repeat for each dataset)."
   ]
  },
  {
   "cell_type": "code",
   "execution_count": 215,
   "id": "11aa7ef8",
   "metadata": {},
   "outputs": [
    {
     "data": {
      "text/html": [
       "<div>\n",
       "<style scoped>\n",
       "    .dataframe tbody tr th:only-of-type {\n",
       "        vertical-align: middle;\n",
       "    }\n",
       "\n",
       "    .dataframe tbody tr th {\n",
       "        vertical-align: top;\n",
       "    }\n",
       "\n",
       "    .dataframe thead th {\n",
       "        text-align: right;\n",
       "    }\n",
       "</style>\n",
       "<table border=\"1\" class=\"dataframe\">\n",
       "  <thead>\n",
       "    <tr style=\"text-align: right;\">\n",
       "      <th></th>\n",
       "      <th>order_id</th>\n",
       "      <th>user_id</th>\n",
       "      <th>order_number</th>\n",
       "      <th>order_dow</th>\n",
       "      <th>order_hour_of_day</th>\n",
       "      <th>days_since_prior_order</th>\n",
       "    </tr>\n",
       "  </thead>\n",
       "  <tbody>\n",
       "    <tr>\n",
       "      <th>0</th>\n",
       "      <td>1515936</td>\n",
       "      <td>183418</td>\n",
       "      <td>11</td>\n",
       "      <td>6</td>\n",
       "      <td>13</td>\n",
       "      <td>30.0</td>\n",
       "    </tr>\n",
       "    <tr>\n",
       "      <th>1</th>\n",
       "      <td>1690866</td>\n",
       "      <td>163593</td>\n",
       "      <td>5</td>\n",
       "      <td>5</td>\n",
       "      <td>12</td>\n",
       "      <td>9.0</td>\n",
       "    </tr>\n",
       "    <tr>\n",
       "      <th>2</th>\n",
       "      <td>1454967</td>\n",
       "      <td>39980</td>\n",
       "      <td>4</td>\n",
       "      <td>5</td>\n",
       "      <td>19</td>\n",
       "      <td>2.0</td>\n",
       "    </tr>\n",
       "    <tr>\n",
       "      <th>3</th>\n",
       "      <td>1768857</td>\n",
       "      <td>82516</td>\n",
       "      <td>56</td>\n",
       "      <td>0</td>\n",
       "      <td>20</td>\n",
       "      <td>10.0</td>\n",
       "    </tr>\n",
       "    <tr>\n",
       "      <th>4</th>\n",
       "      <td>3007858</td>\n",
       "      <td>196724</td>\n",
       "      <td>2</td>\n",
       "      <td>4</td>\n",
       "      <td>12</td>\n",
       "      <td>17.0</td>\n",
       "    </tr>\n",
       "  </tbody>\n",
       "</table>\n",
       "</div>"
      ],
      "text/plain": [
       "   order_id  user_id  order_number  order_dow  order_hour_of_day  \\\n",
       "0   1515936   183418            11          6                 13   \n",
       "1   1690866   163593             5          5                 12   \n",
       "2   1454967    39980             4          5                 19   \n",
       "3   1768857    82516            56          0                 20   \n",
       "4   3007858   196724             2          4                 12   \n",
       "\n",
       "   days_since_prior_order  \n",
       "0                    30.0  \n",
       "1                     9.0  \n",
       "2                     2.0  \n",
       "3                    10.0  \n",
       "4                    17.0  "
      ]
     },
     "execution_count": 215,
     "metadata": {},
     "output_type": "execute_result"
    }
   ],
   "source": [
    "order.head()\n",
    "#using head and/or tail gives us a quick glance of how the data set is currently looking. for me it helps me visualize what \n",
    "#I am doing to what column down the line. (repeat for each dataset)."
   ]
  },
  {
   "cell_type": "code",
   "execution_count": 216,
   "id": "5130e05e",
   "metadata": {},
   "outputs": [
    {
     "name": "stdout",
     "output_type": "stream",
     "text": [
      "<class 'pandas.core.frame.DataFrame'>\n",
      "RangeIndex: 49694 entries, 0 to 49693\n",
      "Data columns (total 4 columns):\n",
      " #   Column         Non-Null Count  Dtype \n",
      "---  ------         --------------  ----- \n",
      " 0   product_id     49694 non-null  int64 \n",
      " 1   product_name   48436 non-null  object\n",
      " 2   aisle_id       49694 non-null  int64 \n",
      " 3   department_id  49694 non-null  int64 \n",
      "dtypes: int64(3), object(1)\n",
      "memory usage: 1.5+ MB\n"
     ]
    }
   ],
   "source": [
    "products.info()"
   ]
  },
  {
   "cell_type": "code",
   "execution_count": 217,
   "id": "c5c82bb8",
   "metadata": {},
   "outputs": [
    {
     "data": {
      "text/html": [
       "<div>\n",
       "<style scoped>\n",
       "    .dataframe tbody tr th:only-of-type {\n",
       "        vertical-align: middle;\n",
       "    }\n",
       "\n",
       "    .dataframe tbody tr th {\n",
       "        vertical-align: top;\n",
       "    }\n",
       "\n",
       "    .dataframe thead th {\n",
       "        text-align: right;\n",
       "    }\n",
       "</style>\n",
       "<table border=\"1\" class=\"dataframe\">\n",
       "  <thead>\n",
       "    <tr style=\"text-align: right;\">\n",
       "      <th></th>\n",
       "      <th>product_id</th>\n",
       "      <th>product_name</th>\n",
       "      <th>aisle_id</th>\n",
       "      <th>department_id</th>\n",
       "    </tr>\n",
       "  </thead>\n",
       "  <tbody>\n",
       "    <tr>\n",
       "      <th>0</th>\n",
       "      <td>1</td>\n",
       "      <td>Chocolate Sandwich Cookies</td>\n",
       "      <td>61</td>\n",
       "      <td>19</td>\n",
       "    </tr>\n",
       "    <tr>\n",
       "      <th>1</th>\n",
       "      <td>2</td>\n",
       "      <td>All-Seasons Salt</td>\n",
       "      <td>104</td>\n",
       "      <td>13</td>\n",
       "    </tr>\n",
       "    <tr>\n",
       "      <th>2</th>\n",
       "      <td>3</td>\n",
       "      <td>Robust Golden Unsweetened Oolong Tea</td>\n",
       "      <td>94</td>\n",
       "      <td>7</td>\n",
       "    </tr>\n",
       "    <tr>\n",
       "      <th>3</th>\n",
       "      <td>4</td>\n",
       "      <td>Smart Ones Classic Favorites Mini Rigatoni Wit...</td>\n",
       "      <td>38</td>\n",
       "      <td>1</td>\n",
       "    </tr>\n",
       "    <tr>\n",
       "      <th>4</th>\n",
       "      <td>5</td>\n",
       "      <td>Green Chile Anytime Sauce</td>\n",
       "      <td>5</td>\n",
       "      <td>13</td>\n",
       "    </tr>\n",
       "  </tbody>\n",
       "</table>\n",
       "</div>"
      ],
      "text/plain": [
       "   product_id                                       product_name  aisle_id  \\\n",
       "0           1                         Chocolate Sandwich Cookies        61   \n",
       "1           2                                   All-Seasons Salt       104   \n",
       "2           3               Robust Golden Unsweetened Oolong Tea        94   \n",
       "3           4  Smart Ones Classic Favorites Mini Rigatoni Wit...        38   \n",
       "4           5                          Green Chile Anytime Sauce         5   \n",
       "\n",
       "   department_id  \n",
       "0             19  \n",
       "1             13  \n",
       "2              7  \n",
       "3              1  \n",
       "4             13  "
      ]
     },
     "execution_count": 217,
     "metadata": {},
     "output_type": "execute_result"
    }
   ],
   "source": [
    "products.head()"
   ]
  },
  {
   "cell_type": "code",
   "execution_count": 218,
   "id": "5cc774a8",
   "metadata": {},
   "outputs": [
    {
     "name": "stdout",
     "output_type": "stream",
     "text": [
      "<class 'pandas.core.frame.DataFrame'>\n",
      "RangeIndex: 4545007 entries, 0 to 4545006\n",
      "Data columns (total 4 columns):\n",
      " #   Column             Non-Null Count    Dtype  \n",
      "---  ------             --------------    -----  \n",
      " 0   order_id           4545007 non-null  int64  \n",
      " 1   product_id         4545007 non-null  int64  \n",
      " 2   add_to_cart_order  4544171 non-null  float64\n",
      " 3   reordered          4545007 non-null  int64  \n",
      "dtypes: float64(1), int64(3)\n",
      "memory usage: 138.7 MB\n"
     ]
    }
   ],
   "source": [
    "order_products.info(show_counts=True)"
   ]
  },
  {
   "cell_type": "code",
   "execution_count": 219,
   "id": "9cdcb921",
   "metadata": {},
   "outputs": [
    {
     "data": {
      "text/html": [
       "<div>\n",
       "<style scoped>\n",
       "    .dataframe tbody tr th:only-of-type {\n",
       "        vertical-align: middle;\n",
       "    }\n",
       "\n",
       "    .dataframe tbody tr th {\n",
       "        vertical-align: top;\n",
       "    }\n",
       "\n",
       "    .dataframe thead th {\n",
       "        text-align: right;\n",
       "    }\n",
       "</style>\n",
       "<table border=\"1\" class=\"dataframe\">\n",
       "  <thead>\n",
       "    <tr style=\"text-align: right;\">\n",
       "      <th></th>\n",
       "      <th>order_id</th>\n",
       "      <th>product_id</th>\n",
       "      <th>add_to_cart_order</th>\n",
       "      <th>reordered</th>\n",
       "    </tr>\n",
       "  </thead>\n",
       "  <tbody>\n",
       "    <tr>\n",
       "      <th>0</th>\n",
       "      <td>2141543</td>\n",
       "      <td>11440</td>\n",
       "      <td>17.0</td>\n",
       "      <td>0</td>\n",
       "    </tr>\n",
       "    <tr>\n",
       "      <th>1</th>\n",
       "      <td>567889</td>\n",
       "      <td>1560</td>\n",
       "      <td>1.0</td>\n",
       "      <td>1</td>\n",
       "    </tr>\n",
       "    <tr>\n",
       "      <th>2</th>\n",
       "      <td>2261212</td>\n",
       "      <td>26683</td>\n",
       "      <td>1.0</td>\n",
       "      <td>1</td>\n",
       "    </tr>\n",
       "    <tr>\n",
       "      <th>3</th>\n",
       "      <td>491251</td>\n",
       "      <td>8670</td>\n",
       "      <td>35.0</td>\n",
       "      <td>1</td>\n",
       "    </tr>\n",
       "    <tr>\n",
       "      <th>4</th>\n",
       "      <td>2571142</td>\n",
       "      <td>1940</td>\n",
       "      <td>5.0</td>\n",
       "      <td>1</td>\n",
       "    </tr>\n",
       "  </tbody>\n",
       "</table>\n",
       "</div>"
      ],
      "text/plain": [
       "   order_id  product_id  add_to_cart_order  reordered\n",
       "0   2141543       11440               17.0          0\n",
       "1    567889        1560                1.0          1\n",
       "2   2261212       26683                1.0          1\n",
       "3    491251        8670               35.0          1\n",
       "4   2571142        1940                5.0          1"
      ]
     },
     "execution_count": 219,
     "metadata": {},
     "output_type": "execute_result"
    }
   ],
   "source": [
    "order_products.head()"
   ]
  },
  {
   "cell_type": "code",
   "execution_count": 220,
   "id": "d8370c05",
   "metadata": {},
   "outputs": [
    {
     "name": "stdout",
     "output_type": "stream",
     "text": [
      "<class 'pandas.core.frame.DataFrame'>\n",
      "RangeIndex: 134 entries, 0 to 133\n",
      "Data columns (total 2 columns):\n",
      " #   Column    Non-Null Count  Dtype \n",
      "---  ------    --------------  ----- \n",
      " 0   aisle_id  134 non-null    int64 \n",
      " 1   aisle     134 non-null    object\n",
      "dtypes: int64(1), object(1)\n",
      "memory usage: 2.2+ KB\n"
     ]
    }
   ],
   "source": [
    "aisles.info()"
   ]
  },
  {
   "cell_type": "code",
   "execution_count": 221,
   "id": "dc138c10",
   "metadata": {},
   "outputs": [
    {
     "data": {
      "text/html": [
       "<div>\n",
       "<style scoped>\n",
       "    .dataframe tbody tr th:only-of-type {\n",
       "        vertical-align: middle;\n",
       "    }\n",
       "\n",
       "    .dataframe tbody tr th {\n",
       "        vertical-align: top;\n",
       "    }\n",
       "\n",
       "    .dataframe thead th {\n",
       "        text-align: right;\n",
       "    }\n",
       "</style>\n",
       "<table border=\"1\" class=\"dataframe\">\n",
       "  <thead>\n",
       "    <tr style=\"text-align: right;\">\n",
       "      <th></th>\n",
       "      <th>aisle_id</th>\n",
       "      <th>aisle</th>\n",
       "    </tr>\n",
       "  </thead>\n",
       "  <tbody>\n",
       "    <tr>\n",
       "      <th>0</th>\n",
       "      <td>1</td>\n",
       "      <td>prepared soups salads</td>\n",
       "    </tr>\n",
       "    <tr>\n",
       "      <th>1</th>\n",
       "      <td>2</td>\n",
       "      <td>specialty cheeses</td>\n",
       "    </tr>\n",
       "    <tr>\n",
       "      <th>2</th>\n",
       "      <td>3</td>\n",
       "      <td>energy granola bars</td>\n",
       "    </tr>\n",
       "    <tr>\n",
       "      <th>3</th>\n",
       "      <td>4</td>\n",
       "      <td>instant foods</td>\n",
       "    </tr>\n",
       "    <tr>\n",
       "      <th>4</th>\n",
       "      <td>5</td>\n",
       "      <td>marinades meat preparation</td>\n",
       "    </tr>\n",
       "  </tbody>\n",
       "</table>\n",
       "</div>"
      ],
      "text/plain": [
       "   aisle_id                       aisle\n",
       "0         1       prepared soups salads\n",
       "1         2           specialty cheeses\n",
       "2         3         energy granola bars\n",
       "3         4               instant foods\n",
       "4         5  marinades meat preparation"
      ]
     },
     "execution_count": 221,
     "metadata": {},
     "output_type": "execute_result"
    }
   ],
   "source": [
    "aisles.head()"
   ]
  },
  {
   "cell_type": "code",
   "execution_count": 222,
   "id": "59e2090f",
   "metadata": {},
   "outputs": [
    {
     "name": "stdout",
     "output_type": "stream",
     "text": [
      "<class 'pandas.core.frame.DataFrame'>\n",
      "RangeIndex: 21 entries, 0 to 20\n",
      "Data columns (total 2 columns):\n",
      " #   Column         Non-Null Count  Dtype \n",
      "---  ------         --------------  ----- \n",
      " 0   department_id  21 non-null     int64 \n",
      " 1   department     21 non-null     object\n",
      "dtypes: int64(1), object(1)\n",
      "memory usage: 464.0+ bytes\n"
     ]
    }
   ],
   "source": [
    "departments.info()"
   ]
  },
  {
   "cell_type": "code",
   "execution_count": 223,
   "id": "d4861a35",
   "metadata": {},
   "outputs": [
    {
     "data": {
      "text/html": [
       "<div>\n",
       "<style scoped>\n",
       "    .dataframe tbody tr th:only-of-type {\n",
       "        vertical-align: middle;\n",
       "    }\n",
       "\n",
       "    .dataframe tbody tr th {\n",
       "        vertical-align: top;\n",
       "    }\n",
       "\n",
       "    .dataframe thead th {\n",
       "        text-align: right;\n",
       "    }\n",
       "</style>\n",
       "<table border=\"1\" class=\"dataframe\">\n",
       "  <thead>\n",
       "    <tr style=\"text-align: right;\">\n",
       "      <th></th>\n",
       "      <th>department_id</th>\n",
       "      <th>department</th>\n",
       "    </tr>\n",
       "  </thead>\n",
       "  <tbody>\n",
       "    <tr>\n",
       "      <th>0</th>\n",
       "      <td>1</td>\n",
       "      <td>frozen</td>\n",
       "    </tr>\n",
       "    <tr>\n",
       "      <th>1</th>\n",
       "      <td>2</td>\n",
       "      <td>other</td>\n",
       "    </tr>\n",
       "    <tr>\n",
       "      <th>2</th>\n",
       "      <td>3</td>\n",
       "      <td>bakery</td>\n",
       "    </tr>\n",
       "    <tr>\n",
       "      <th>3</th>\n",
       "      <td>4</td>\n",
       "      <td>produce</td>\n",
       "    </tr>\n",
       "    <tr>\n",
       "      <th>4</th>\n",
       "      <td>5</td>\n",
       "      <td>alcohol</td>\n",
       "    </tr>\n",
       "  </tbody>\n",
       "</table>\n",
       "</div>"
      ],
      "text/plain": [
       "   department_id department\n",
       "0              1     frozen\n",
       "1              2      other\n",
       "2              3     bakery\n",
       "3              4    produce\n",
       "4              5    alcohol"
      ]
     },
     "execution_count": 223,
     "metadata": {},
     "output_type": "execute_result"
    }
   ],
   "source": [
    "departments.head()"
   ]
  },
  {
   "cell_type": "markdown",
   "id": "6de632ba",
   "metadata": {},
   "source": [
    "The datasets above will give us all of the information needed throughout this project. We can see from the datasets above, there are missing values to be addressed later in three of the five datsets.\n",
    "The biggest of the datasets has over 4 million entries, while the smallest has only 21. \n",
    "Utilizing all the datasets together can provide a lot of information.  "
   ]
  },
  {
   "cell_type": "markdown",
   "id": "07357848-dc64-4156-9cc3-01ff4365226d",
   "metadata": {},
   "source": [
    "## Find and remove duplicate values (and describe why you make your choices)"
   ]
  },
  {
   "cell_type": "markdown",
   "id": "f179f0a9",
   "metadata": {},
   "source": [
    "### `orders` data frame"
   ]
  },
  {
   "cell_type": "code",
   "execution_count": 224,
   "id": "b99297a5-405a-463d-8535-9adc3da4ad74",
   "metadata": {},
   "outputs": [
    {
     "data": {
      "text/plain": [
       "15"
      ]
     },
     "execution_count": 224,
     "metadata": {},
     "output_type": "execute_result"
    }
   ],
   "source": [
    "# Check for duplicated orders\n",
    "duplicate_orders= order.duplicated()\n",
    "duplicate_orders.sum()\n",
    "#above used duplicated to find duplicates in the whole dataset"
   ]
  },
  {
   "cell_type": "code",
   "execution_count": 225,
   "id": "0d44de5d",
   "metadata": {},
   "outputs": [
    {
     "data": {
      "text/html": [
       "<div>\n",
       "<style scoped>\n",
       "    .dataframe tbody tr th:only-of-type {\n",
       "        vertical-align: middle;\n",
       "    }\n",
       "\n",
       "    .dataframe tbody tr th {\n",
       "        vertical-align: top;\n",
       "    }\n",
       "\n",
       "    .dataframe thead th {\n",
       "        text-align: right;\n",
       "    }\n",
       "</style>\n",
       "<table border=\"1\" class=\"dataframe\">\n",
       "  <thead>\n",
       "    <tr style=\"text-align: right;\">\n",
       "      <th></th>\n",
       "      <th>order_id</th>\n",
       "      <th>user_id</th>\n",
       "      <th>order_number</th>\n",
       "      <th>order_dow</th>\n",
       "      <th>order_hour_of_day</th>\n",
       "      <th>days_since_prior_order</th>\n",
       "    </tr>\n",
       "  </thead>\n",
       "  <tbody>\n",
       "    <tr>\n",
       "      <th>4838</th>\n",
       "      <td>2766110</td>\n",
       "      <td>162084</td>\n",
       "      <td>41</td>\n",
       "      <td>3</td>\n",
       "      <td>2</td>\n",
       "      <td>16.0</td>\n",
       "    </tr>\n",
       "    <tr>\n",
       "      <th>5156</th>\n",
       "      <td>2190225</td>\n",
       "      <td>138285</td>\n",
       "      <td>18</td>\n",
       "      <td>3</td>\n",
       "      <td>2</td>\n",
       "      <td>11.0</td>\n",
       "    </tr>\n",
       "    <tr>\n",
       "      <th>15506</th>\n",
       "      <td>553049</td>\n",
       "      <td>58599</td>\n",
       "      <td>13</td>\n",
       "      <td>3</td>\n",
       "      <td>2</td>\n",
       "      <td>7.0</td>\n",
       "    </tr>\n",
       "    <tr>\n",
       "      <th>18420</th>\n",
       "      <td>382357</td>\n",
       "      <td>120200</td>\n",
       "      <td>19</td>\n",
       "      <td>3</td>\n",
       "      <td>2</td>\n",
       "      <td>11.0</td>\n",
       "    </tr>\n",
       "    <tr>\n",
       "      <th>24691</th>\n",
       "      <td>690242</td>\n",
       "      <td>77357</td>\n",
       "      <td>2</td>\n",
       "      <td>3</td>\n",
       "      <td>2</td>\n",
       "      <td>9.0</td>\n",
       "    </tr>\n",
       "    <tr>\n",
       "      <th>...</th>\n",
       "      <td>...</td>\n",
       "      <td>...</td>\n",
       "      <td>...</td>\n",
       "      <td>...</td>\n",
       "      <td>...</td>\n",
       "      <td>...</td>\n",
       "    </tr>\n",
       "    <tr>\n",
       "      <th>457013</th>\n",
       "      <td>3384021</td>\n",
       "      <td>14881</td>\n",
       "      <td>6</td>\n",
       "      <td>3</td>\n",
       "      <td>2</td>\n",
       "      <td>30.0</td>\n",
       "    </tr>\n",
       "    <tr>\n",
       "      <th>458816</th>\n",
       "      <td>910166</td>\n",
       "      <td>164782</td>\n",
       "      <td>18</td>\n",
       "      <td>3</td>\n",
       "      <td>2</td>\n",
       "      <td>4.0</td>\n",
       "    </tr>\n",
       "    <tr>\n",
       "      <th>459635</th>\n",
       "      <td>1680532</td>\n",
       "      <td>106435</td>\n",
       "      <td>6</td>\n",
       "      <td>3</td>\n",
       "      <td>2</td>\n",
       "      <td>21.0</td>\n",
       "    </tr>\n",
       "    <tr>\n",
       "      <th>468324</th>\n",
       "      <td>222962</td>\n",
       "      <td>54979</td>\n",
       "      <td>59</td>\n",
       "      <td>3</td>\n",
       "      <td>2</td>\n",
       "      <td>3.0</td>\n",
       "    </tr>\n",
       "    <tr>\n",
       "      <th>477526</th>\n",
       "      <td>2592344</td>\n",
       "      <td>46860</td>\n",
       "      <td>38</td>\n",
       "      <td>3</td>\n",
       "      <td>2</td>\n",
       "      <td>3.0</td>\n",
       "    </tr>\n",
       "  </tbody>\n",
       "</table>\n",
       "<p>121 rows × 6 columns</p>\n",
       "</div>"
      ],
      "text/plain": [
       "        order_id  user_id  order_number  order_dow  order_hour_of_day  \\\n",
       "4838     2766110   162084            41          3                  2   \n",
       "5156     2190225   138285            18          3                  2   \n",
       "15506     553049    58599            13          3                  2   \n",
       "18420     382357   120200            19          3                  2   \n",
       "24691     690242    77357             2          3                  2   \n",
       "...          ...      ...           ...        ...                ...   \n",
       "457013   3384021    14881             6          3                  2   \n",
       "458816    910166   164782            18          3                  2   \n",
       "459635   1680532   106435             6          3                  2   \n",
       "468324    222962    54979            59          3                  2   \n",
       "477526   2592344    46860            38          3                  2   \n",
       "\n",
       "        days_since_prior_order  \n",
       "4838                      16.0  \n",
       "5156                      11.0  \n",
       "15506                      7.0  \n",
       "18420                     11.0  \n",
       "24691                      9.0  \n",
       "...                        ...  \n",
       "457013                    30.0  \n",
       "458816                     4.0  \n",
       "459635                    21.0  \n",
       "468324                     3.0  \n",
       "477526                     3.0  \n",
       "\n",
       "[121 rows x 6 columns]"
      ]
     },
     "execution_count": 225,
     "metadata": {},
     "output_type": "execute_result"
    }
   ],
   "source": [
    "# Check for all orders placed Wednesday at 2:00 AM\n",
    "wednesday_2am_orders= order[(order['order_dow']==3) & (order['order_hour_of_day']==2)]\n",
    "wednesday_2am_orders\n",
    "#looks like 121 orders were placed at 2am on wednesday (based on amount of rows found below)"
   ]
  },
  {
   "cell_type": "code",
   "execution_count": 226,
   "id": "480563c7",
   "metadata": {},
   "outputs": [],
   "source": [
    "# Remove duplicate orders\n",
    "dup_orders= duplicate_orders.drop_duplicates() \n",
    "#using drop.duplicate to remove duplicates in the dataset"
   ]
  },
  {
   "cell_type": "code",
   "execution_count": 227,
   "id": "0b2396a2",
   "metadata": {},
   "outputs": [
    {
     "data": {
      "text/plain": [
       "0"
      ]
     },
     "execution_count": 227,
     "metadata": {},
     "output_type": "execute_result"
    }
   ],
   "source": [
    "# Double check for duplicate rows\n",
    "duplicate_orders= dup_orders.duplicated()\n",
    "duplicate_orders.sum()\n",
    "#recheck :)"
   ]
  },
  {
   "cell_type": "code",
   "execution_count": 228,
   "id": "f6113ef1",
   "metadata": {},
   "outputs": [
    {
     "data": {
      "text/plain": [
       "15"
      ]
     },
     "execution_count": 228,
     "metadata": {},
     "output_type": "execute_result"
    }
   ],
   "source": [
    "# Double check for duplicate order IDs only\n",
    "order.duplicated(subset = ['order_id']).sum()\n",
    "#orignial dataset to locate the duplicates to the 'order_id' column"
   ]
  },
  {
   "cell_type": "markdown",
   "id": "5e8905ae",
   "metadata": {},
   "source": [
    "Under the 'order' dataset, we have checked for duplicated values, then addressed them and then went back to double check they have all been removed from the dataset. "
   ]
  },
  {
   "cell_type": "markdown",
   "id": "45e6bc46",
   "metadata": {},
   "source": [
    "### `products` data frame"
   ]
  },
  {
   "cell_type": "code",
   "execution_count": 229,
   "id": "5f526b5b-8175-46fa-a0fd-441767d50e64",
   "metadata": {},
   "outputs": [
    {
     "data": {
      "text/plain": [
       "0"
      ]
     },
     "execution_count": 229,
     "metadata": {},
     "output_type": "execute_result"
    }
   ],
   "source": [
    "# Check for fully duplicate rows\n",
    "duplicate_products= products.duplicated()\n",
    "duplicate_products.sum()"
   ]
  },
  {
   "cell_type": "code",
   "execution_count": 230,
   "id": "88daa4f4",
   "metadata": {},
   "outputs": [
    {
     "data": {
      "text/plain": [
       "0"
      ]
     },
     "execution_count": 230,
     "metadata": {},
     "output_type": "execute_result"
    }
   ],
   "source": [
    "# Check for just duplicate product IDs\n",
    "products.duplicated(subset = ['product_id']).sum()"
   ]
  },
  {
   "cell_type": "code",
   "execution_count": 231,
   "id": "c773f0bf",
   "metadata": {},
   "outputs": [
    {
     "data": {
      "text/plain": [
       "1361"
      ]
     },
     "execution_count": 231,
     "metadata": {},
     "output_type": "execute_result"
    }
   ],
   "source": [
    "# Check for just duplicate product names (convert names to lowercase to compare better)\n",
    "duplicate_products= products['product_name'].str.lower()\n",
    "duplicate_products.duplicated().sum()\n",
    "#making sure the set is lowercase after making sure it is read as a string as it was previously read as an object"
   ]
  },
  {
   "cell_type": "code",
   "execution_count": 232,
   "id": "01efd02e",
   "metadata": {},
   "outputs": [
    {
     "data": {
      "text/plain": [
       "1258"
      ]
     },
     "execution_count": 232,
     "metadata": {},
     "output_type": "execute_result"
    }
   ],
   "source": [
    "# Check for duplicate product names that aren't missing\n",
    "products['product_name'].duplicated(keep=False).dropna().sum()\n",
    "#getting the sum of duplicates"
   ]
  },
  {
   "cell_type": "markdown",
   "id": "9da8d293",
   "metadata": {},
   "source": [
    "Under the 'products' datset we checked for duplicate rows, specifically duplicate product IDs, specifically finding the sum duplicate product names (in lowercase to cover our bases) and finally the sum of duplicate product names, excluding missing values. "
   ]
  },
  {
   "cell_type": "markdown",
   "id": "60f30db1",
   "metadata": {},
   "source": [
    "### `departments` data frame"
   ]
  },
  {
   "cell_type": "code",
   "execution_count": 233,
   "id": "fb410ad4-0fbf-4b80-bb09-23fdea79afe3",
   "metadata": {},
   "outputs": [
    {
     "data": {
      "text/plain": [
       "0"
      ]
     },
     "execution_count": 233,
     "metadata": {},
     "output_type": "execute_result"
    }
   ],
   "source": [
    "duplicate_departments= departments.duplicated()\n",
    "duplicate_departments.sum() # this verifies there are no duplicate values"
   ]
  },
  {
   "cell_type": "code",
   "execution_count": 234,
   "id": "332b12bb",
   "metadata": {},
   "outputs": [
    {
     "data": {
      "text/plain": [
       "department_id    0\n",
       "department       0\n",
       "dtype: int64"
      ]
     },
     "execution_count": 234,
     "metadata": {},
     "output_type": "execute_result"
    }
   ],
   "source": [
    "departments.isna().sum() #this verifies there are no missing values"
   ]
  },
  {
   "cell_type": "markdown",
   "id": "bd30d78e",
   "metadata": {},
   "source": [
    "We see above that the 'departments' dataset is free of duplicates and missing values. "
   ]
  },
  {
   "cell_type": "markdown",
   "id": "889349c1",
   "metadata": {},
   "source": [
    "### `aisles` data frame"
   ]
  },
  {
   "cell_type": "code",
   "execution_count": 235,
   "id": "9da89fb9-4679-40f5-ad0d-c34df753a3f8",
   "metadata": {},
   "outputs": [
    {
     "data": {
      "text/plain": [
       "0"
      ]
     },
     "execution_count": 235,
     "metadata": {},
     "output_type": "execute_result"
    }
   ],
   "source": [
    "duplicate_aisles= aisles.duplicated()\n",
    "duplicate_aisles.sum() #this verifies there are no duplicate values"
   ]
  },
  {
   "cell_type": "code",
   "execution_count": 236,
   "id": "da7c2822",
   "metadata": {},
   "outputs": [
    {
     "data": {
      "text/plain": [
       "aisle_id    0\n",
       "aisle       0\n",
       "dtype: int64"
      ]
     },
     "execution_count": 236,
     "metadata": {},
     "output_type": "execute_result"
    }
   ],
   "source": [
    "aisles.isna().sum() #this verifies there are no missing values"
   ]
  },
  {
   "cell_type": "markdown",
   "id": "ac63826f",
   "metadata": {},
   "source": [
    "We see above that the 'aisles' dataset is free of duplicates and missing values. "
   ]
  },
  {
   "cell_type": "markdown",
   "id": "274cd06a",
   "metadata": {},
   "source": [
    "### `order_products` data frame"
   ]
  },
  {
   "cell_type": "code",
   "execution_count": 237,
   "id": "52326689-84a8-4b8f-a881-7c68780f62c9",
   "metadata": {},
   "outputs": [
    {
     "data": {
      "text/plain": [
       "0"
      ]
     },
     "execution_count": 237,
     "metadata": {},
     "output_type": "execute_result"
    }
   ],
   "source": [
    "# Check for fullly duplicate rows\n",
    "duplicate_order_products= order_products.duplicated()\n",
    "duplicate_order_products.sum()"
   ]
  },
  {
   "cell_type": "code",
   "execution_count": 238,
   "id": "7b861391",
   "metadata": {},
   "outputs": [
    {
     "data": {
      "text/plain": [
       "0"
      ]
     },
     "execution_count": 238,
     "metadata": {},
     "output_type": "execute_result"
    }
   ],
   "source": [
    "# Double check for any other tricky duplicates\n",
    "order_products.duplicated(subset = ['order_id', 'product_id']).sum()"
   ]
  },
  {
   "cell_type": "markdown",
   "id": "1291d570",
   "metadata": {},
   "source": [
    "Under the 'order_products' dataset we check the whole dataset for duplicates and double check for duplicates that are harder to find."
   ]
  },
  {
   "cell_type": "markdown",
   "id": "1e46de76",
   "metadata": {},
   "source": [
    "## Find and remove missing values\n"
   ]
  },
  {
   "cell_type": "markdown",
   "id": "c0aebd78",
   "metadata": {},
   "source": [
    "### `products` data frame"
   ]
  },
  {
   "cell_type": "code",
   "execution_count": 239,
   "id": "fe4a8b0f",
   "metadata": {},
   "outputs": [
    {
     "data": {
      "text/plain": [
       "product_id          0\n",
       "product_name     1258\n",
       "aisle_id            0\n",
       "department_id       0\n",
       "dtype: int64"
      ]
     },
     "execution_count": 239,
     "metadata": {},
     "output_type": "execute_result"
    }
   ],
   "source": [
    "products.isna().sum() #we see there is 1258 missing values in 'product_name'. \n",
    "#This tells us there is extra steps to take to address these missing values."
   ]
  },
  {
   "cell_type": "code",
   "execution_count": 240,
   "id": "e96167bc",
   "metadata": {},
   "outputs": [
    {
     "name": "stdout",
     "output_type": "stream",
     "text": [
      "Yes, all the missing products are associated with aisle ID 100.\n"
     ]
    }
   ],
   "source": [
    "# Are all of the missing product names associated with aisle ID 100?\n",
    "missing_product_names= products[products['product_name'].isna()]\n",
    "\n",
    "if(missing_product_names['aisle_id']==100).all():\n",
    "    print('Yes, all the missing products are associated with aisle ID 100.')\n",
    "else:\n",
    "    print('No, not all the missing products are associated with aisle ID 100.')"
   ]
  },
  {
   "cell_type": "code",
   "execution_count": 241,
   "id": "8fd0a541",
   "metadata": {},
   "outputs": [
    {
     "name": "stdout",
     "output_type": "stream",
     "text": [
      "Yes, all the missing products are associated with department ID 21.\n"
     ]
    }
   ],
   "source": [
    "# Are all of the missing product names associated with department ID 21?\n",
    "if(missing_product_names['department_id']==21).all():\n",
    "    print('Yes, all the missing products are associated with department ID 21.')\n",
    "else:\n",
    "    print('No, not all the missing products are associated with department ID 21.')"
   ]
  },
  {
   "cell_type": "code",
   "execution_count": 242,
   "id": "325c3464",
   "metadata": {},
   "outputs": [
    {
     "name": "stdout",
     "output_type": "stream",
     "text": [
      "missing\n",
      "\n",
      "missing\n"
     ]
    }
   ],
   "source": [
    "# What is this ailse and department?\n",
    "print(aisles['aisle'][99])\n",
    "print()\n",
    "print(departments['department'][20]) #using print here for spacing and to print both answers in one cell"
   ]
  },
  {
   "cell_type": "code",
   "execution_count": 243,
   "id": "6b295120",
   "metadata": {},
   "outputs": [],
   "source": [
    "products['product_name'] = products['product_name'].fillna('Unknown')"
   ]
  },
  {
   "cell_type": "markdown",
   "id": "fc70e5ad",
   "metadata": {},
   "source": [
    "Under the 'products' dataset we see there are 1258 missing values, all withing the 'product_name' column. With further investigation all the missing values are all from the same aisle withing the same department. We also learn that we do not even know what aisle or Department it is supposed to be as those values are missing also. We then fill any empty values in the 'product_name' column with \"Unknown\". "
   ]
  },
  {
   "cell_type": "markdown",
   "id": "7eb45c86",
   "metadata": {},
   "source": [
    "### `orders` data frame"
   ]
  },
  {
   "cell_type": "code",
   "execution_count": 244,
   "id": "93e41d96",
   "metadata": {},
   "outputs": [
    {
     "data": {
      "text/plain": [
       "order_id                      0\n",
       "user_id                       0\n",
       "order_number                  0\n",
       "order_dow                     0\n",
       "order_hour_of_day             0\n",
       "days_since_prior_order    28819\n",
       "dtype: int64"
      ]
     },
     "execution_count": 244,
     "metadata": {},
     "output_type": "execute_result"
    }
   ],
   "source": [
    "order.isna().sum() #we see there is 28819 missing values in 'days_since_prior_order'.\n",
    "#This tells us there is extra steps to take to address these missing values."
   ]
  },
  {
   "cell_type": "code",
   "execution_count": 245,
   "id": "166e5a86",
   "metadata": {},
   "outputs": [
    {
     "name": "stdout",
     "output_type": "stream",
     "text": [
      "No, there are not missing values where it is not a customer's first order.\n"
     ]
    }
   ],
   "source": [
    "# Are there any missing values where it's not a customer's first order?\n",
    "missing_orders= order.iloc[:2].isna().all()\n",
    "if(missing_orders >=1).all():\n",
    "    print(\"Yes, there are missing values where it is not a customer's first order.\" )\n",
    "else:\n",
    "    print(\"No, there are not missing values where it is not a customer's first order.\")"
   ]
  },
  {
   "cell_type": "markdown",
   "id": "484ee570",
   "metadata": {},
   "source": [
    "Under the dataset 'order' again, we see there are 28819 missing values all in the 'days_since_prior_order' column. \n",
    "We also observe all the missing values are found in the customers first order. "
   ]
  },
  {
   "cell_type": "markdown",
   "id": "69dc9ca4",
   "metadata": {},
   "source": [
    "### `order_products` data frame"
   ]
  },
  {
   "cell_type": "code",
   "execution_count": 246,
   "id": "b8240253",
   "metadata": {},
   "outputs": [
    {
     "data": {
      "text/plain": [
       "order_id               0\n",
       "product_id             0\n",
       "add_to_cart_order    836\n",
       "reordered              0\n",
       "dtype: int64"
      ]
     },
     "execution_count": 246,
     "metadata": {},
     "output_type": "execute_result"
    }
   ],
   "source": [
    "order_products.isna().sum() # we see there is 836 missing values in 'add_to_cart_order'. \n",
    "#This tells us there is extra steps to take to address these missing values."
   ]
  },
  {
   "cell_type": "code",
   "execution_count": 247,
   "id": "9a78e5ee",
   "metadata": {},
   "outputs": [
    {
     "data": {
      "text/plain": [
       "count    4.544171e+06\n",
       "mean     8.351669e+00\n",
       "std      7.080368e+00\n",
       "min      1.000000e+00\n",
       "25%      3.000000e+00\n",
       "50%      6.000000e+00\n",
       "75%      1.100000e+01\n",
       "max      6.400000e+01\n",
       "Name: add_to_cart_order, dtype: float64"
      ]
     },
     "execution_count": 247,
     "metadata": {},
     "output_type": "execute_result"
    }
   ],
   "source": [
    "# What are the min and max values in this column?\n",
    "order_products['add_to_cart_order'].describe()\n",
    "#assuming \"this column\" refers to the column with missing values the min would be 1.000000e+00 and the max would be 6.400000e+01"
   ]
  },
  {
   "cell_type": "code",
   "execution_count": 248,
   "id": "ab9d0c2b",
   "metadata": {},
   "outputs": [],
   "source": [
    "# Save all order IDs with at least one missing value in 'add_to_cart_order'\n",
    "id_missing_carts= order_products[order_products['add_to_cart_order'].isna()]['order_id']"
   ]
  },
  {
   "cell_type": "code",
   "execution_count": 249,
   "id": "54c31695",
   "metadata": {},
   "outputs": [],
   "source": [
    "# Do all orders with missing values have more than 64 products?\n",
    "orders_by_size= order_products.iloc[:0].isna()\n",
    "orders_over_64= orders_by_size[orders_by_size >64].sum()"
   ]
  },
  {
   "cell_type": "code",
   "execution_count": 250,
   "id": "7a987d08",
   "metadata": {},
   "outputs": [],
   "source": [
    "# Replace missing values with 999 and convert column to integer type\n",
    "order_products['add_to_cart_order'] = order_products['add_to_cart_order'].astype('Int64', errors='ignore')"
   ]
  },
  {
   "cell_type": "markdown",
   "id": "16022f45",
   "metadata": {},
   "source": [
    "Under the 'order_products' dataset again, we see there is 836 missing values in the 'add_to_cart_order' column. We then use describe() to see the min and max values within the column. \n",
    "We then see how many orders with missing values have over 64 items. Finally, we replace missing values for the set. "
   ]
  },
  {
   "cell_type": "markdown",
   "id": "turkish-kidney",
   "metadata": {},
   "source": [
    "# [A] Easy (must complete all to pass)"
   ]
  },
  {
   "cell_type": "markdown",
   "id": "short-capability",
   "metadata": {},
   "source": [
    "### [A1] Verify that the `'order_hour_of_day'` and `'order_dow'` values in the `orders` tables are sensible (i.e. `'order_hour_of_day'` ranges from 0 to 23 and `'order_dow'` ranges from 0 to 6)"
   ]
  },
  {
   "cell_type": "code",
   "execution_count": 251,
   "id": "growing-fruit",
   "metadata": {},
   "outputs": [
    {
     "name": "stdout",
     "output_type": "stream",
     "text": [
      "Yes, the order hour of the day range is reasonable.\n"
     ]
    }
   ],
   "source": [
    "order_hour_of_day= order['order_hour_of_day']\n",
    "if((order_hour_of_day >=0) & (order_hour_of_day <=23)).all():\n",
    "    print('Yes, the order hour of the day range is reasonable.')\n",
    "else:\n",
    "    print('No, the order hour of the day range is not reasonable.')"
   ]
  },
  {
   "cell_type": "code",
   "execution_count": 252,
   "id": "accessory-malaysia",
   "metadata": {},
   "outputs": [
    {
     "name": "stdout",
     "output_type": "stream",
     "text": [
      "No, the order day of the week range is not reasonable.\n"
     ]
    }
   ],
   "source": [
    "order_dow= order['order_hour_of_day']\n",
    "if((order_dow >=0) & (order_hour_of_day <=6)).all():\n",
    "    print('Yes, the order day of the week range is reasonable.')\n",
    "else:\n",
    "    print('No, the order day of the week range is not reasonable.')"
   ]
  },
  {
   "cell_type": "markdown",
   "id": "a6743a70",
   "metadata": {},
   "source": [
    "### [A2] What time of day do people shop for groceries?"
   ]
  },
  {
   "cell_type": "code",
   "execution_count": 253,
   "id": "a36cca27",
   "metadata": {},
   "outputs": [
    {
     "data": {
      "image/png": "[encoded data removed]",
      "text/plain": [
       "<Figure size 640x480 with 1 Axes>"
      ]
     },
     "metadata": {},
     "output_type": "display_data"
    }
   ],
   "source": [
    "orders_by_hour = order['order_hour_of_day'].value_counts()\n",
    "\n",
    "busiest_hour = orders_by_hour.idxmax()\n",
    "\n",
    "plt.bar(orders_by_hour.index, orders_by_hour.values)\n",
    "plt.xlabel('Hour of Day')\n",
    "plt.ylabel('Number of Orders')\n",
    "plt.title('Order Distribution by Hour of Day')\n",
    "plt.bar(busiest_hour, orders_by_hour[busiest_hour], color='red')\n",
    "plt.show()"
   ]
  },
  {
   "cell_type": "markdown",
   "id": "documented-command",
   "metadata": {},
   "source": [
    "### [A3] What day of the week do people shop for groceries?"
   ]
  },
  {
   "cell_type": "code",
   "execution_count": 254,
   "id": "906c549b",
   "metadata": {},
   "outputs": [],
   "source": [
    "days_of_week= { 0: 'Sunday', 1: 'Monday', 2: 'Tuesday', 3: 'Wednesday', 4: 'Thursday', 5: 'Friday', 6: 'Saturday'}"
   ]
  },
  {
   "cell_type": "code",
   "execution_count": 255,
   "id": "chief-digit",
   "metadata": {},
   "outputs": [
    {
     "data": {
      "text/plain": [
       "'The most common shopping day is: Sunday'"
      ]
     },
     "execution_count": 255,
     "metadata": {},
     "output_type": "execute_result"
    }
   ],
   "source": [
    "most_common_day_number= order['order_dow'].value_counts().idxmax()\n",
    "most_common_day= days_of_week[most_common_day_number]\n",
    "(f\"The most common shopping day is: {most_common_day}\")"
   ]
  },
  {
   "cell_type": "markdown",
   "id": "dominant-lightning",
   "metadata": {},
   "source": [
    "Looks like most people do their shopping on Sundays. "
   ]
  },
  {
   "cell_type": "markdown",
   "id": "cutting-concert",
   "metadata": {},
   "source": [
    "### [A4] How long do people wait until placing another order?"
   ]
  },
  {
   "cell_type": "code",
   "execution_count": 256,
   "id": "c231f523",
   "metadata": {},
   "outputs": [],
   "source": [
    "days_between_orders= order['days_since_prior_order'].value_counts().idxmax()"
   ]
  },
  {
   "cell_type": "code",
   "execution_count": 257,
   "id": "exciting-fantasy",
   "metadata": {},
   "outputs": [
    {
     "data": {
      "text/plain": [
       "'Typically, customers wait 30.0 days before placing another order.'"
      ]
     },
     "execution_count": 257,
     "metadata": {},
     "output_type": "execute_result"
    }
   ],
   "source": [
    "f\"Typically, customers wait {days_between_orders} days before placing another order.\""
   ]
  },
  {
   "cell_type": "markdown",
   "id": "8d926614",
   "metadata": {},
   "source": [
    "\n",
    "\n",
    "# [B] Medium (must complete all to pass)"
   ]
  },
  {
   "cell_type": "markdown",
   "id": "packed-classic",
   "metadata": {},
   "source": [
    "### [B1] Is there a difference in `'order_hour_of_day'` distributions on Wednesdays and Saturdays? Plot the histograms for both days and describe the differences that you see."
   ]
  },
  {
   "cell_type": "code",
   "execution_count": 258,
   "id": "94e54e8a",
   "metadata": {
    "scrolled": false
   },
   "outputs": [
    {
     "data": {
      "image/png": "[encoded data removed]",
      "text/plain": [
       "<Figure size 640x480 with 1 Axes>"
      ]
     },
     "metadata": {},
     "output_type": "display_data"
    }
   ],
   "source": [
    "saturday_orders= order[order['order_dow'] ==6]\n",
    "wednesday_orders = order[order['order_dow'] == 3]\n",
    "\n",
    "saturday_orders['order_hour_of_day'].hist(edgecolor='black', label='Saturday', alpha=0.5, bins=24)\n",
    "wednesday_orders['order_hour_of_day'].hist(edgecolor='black', label='Wednesday', alpha= 0.5, bins=24)\n",
    "plt.title('Order hour distribution on Saturdays and Wednesdays')\n",
    "plt.xlim(left=0, right=23)\n",
    "plt.ylim(bottom=0)\n",
    "plt.xlabel('Hour of the day')\n",
    "plt.ylabel('Number of orders')\n",
    "plt.xticks(np.arange(0,24,1))\n",
    "plt.legend(['Saturday','Wednesday']) \n",
    "plt.show()"
   ]
  },
  {
   "cell_type": "markdown",
   "id": "acbf930f",
   "metadata": {},
   "source": [
    "The graphs are fairly the same, but it appears Saturday is buiser between 1100 and 1400, although Wednesday is slightly busier at 0600 and 0900. For the most part they follow the same curve. The buisest times for both days are within the hours of 1000 and 1500. Saturday has the busiest time at 1400 while Wednesday has the busiest time of 1500. "
   ]
  },
  {
   "cell_type": "markdown",
   "id": "e3891143",
   "metadata": {},
   "source": [
    "### [B2] What's the distribution for the number of orders per customer?"
   ]
  },
  {
   "cell_type": "code",
   "execution_count": 259,
   "id": "d8c26c23",
   "metadata": {},
   "outputs": [
    {
     "data": {
      "image/png": "[encoded data removed]",
      "text/plain": [
       "<Figure size 1000x500 with 1 Axes>"
      ]
     },
     "metadata": {},
     "output_type": "display_data"
    }
   ],
   "source": [
    "orders_per_customer= order.groupby('user_id')['order_id'].count().reset_index()\n",
    "orders_per_customer.columns= ['user_id', 'order_id']\n",
    "\n",
    "plt.figure(figsize=(10,5))\n",
    "bins= range(100)\n",
    "\n",
    "orders_per_customer['order_id'].hist(bins=bins, edgecolor='black')\n",
    "\n",
    "plt.title('Number of orders per customer distribution')\n",
    "plt.xlabel('Number of orders placed')\n",
    "plt.ylabel('Number of customers')\n",
    "plt.xlim(left=1)\n",
    "plt.ylim(bottom=0)\n",
    "plt.show()"
   ]
  },
  {
   "cell_type": "markdown",
   "id": "d2eff7d5",
   "metadata": {},
   "source": [
    "Above we see not many customers reorder (especially more than once or twice)."
   ]
  },
  {
   "cell_type": "markdown",
   "id": "54a0319c",
   "metadata": {},
   "source": [
    "### [B3] What are the top 20 popular products (display their id and name)?"
   ]
  },
  {
   "cell_type": "code",
   "execution_count": 260,
   "id": "exterior-arizona",
   "metadata": {
    "scrolled": true
   },
   "outputs": [],
   "source": [
    "prodor_df= pd.merge(products, order_products, on='product_id')"
   ]
  },
  {
   "cell_type": "code",
   "execution_count": 261,
   "id": "universal-facial",
   "metadata": {},
   "outputs": [
    {
     "data": {
      "text/html": [
       "<div>\n",
       "<style scoped>\n",
       "    .dataframe tbody tr th:only-of-type {\n",
       "        vertical-align: middle;\n",
       "    }\n",
       "\n",
       "    .dataframe tbody tr th {\n",
       "        vertical-align: top;\n",
       "    }\n",
       "\n",
       "    .dataframe thead th {\n",
       "        text-align: right;\n",
       "    }\n",
       "</style>\n",
       "<table border=\"1\" class=\"dataframe\">\n",
       "  <thead>\n",
       "    <tr style=\"text-align: right;\">\n",
       "      <th></th>\n",
       "      <th>product_id</th>\n",
       "      <th>product_name</th>\n",
       "      <th>add_to_cart_order</th>\n",
       "    </tr>\n",
       "  </thead>\n",
       "  <tbody>\n",
       "    <tr>\n",
       "      <th>22808</th>\n",
       "      <td>24852</td>\n",
       "      <td>Banana</td>\n",
       "      <td>321962</td>\n",
       "    </tr>\n",
       "    <tr>\n",
       "      <th>12025</th>\n",
       "      <td>13176</td>\n",
       "      <td>Bag of Organic Bananas</td>\n",
       "      <td>271774</td>\n",
       "    </tr>\n",
       "    <tr>\n",
       "      <th>19370</th>\n",
       "      <td>21137</td>\n",
       "      <td>Organic Strawberries</td>\n",
       "      <td>268494</td>\n",
       "    </tr>\n",
       "    <tr>\n",
       "      <th>20077</th>\n",
       "      <td>21903</td>\n",
       "      <td>Organic Baby Spinach</td>\n",
       "      <td>254234</td>\n",
       "    </tr>\n",
       "    <tr>\n",
       "      <th>43271</th>\n",
       "      <td>47209</td>\n",
       "      <td>Organic Hass Avocado</td>\n",
       "      <td>201977</td>\n",
       "    </tr>\n",
       "    <tr>\n",
       "      <th>43663</th>\n",
       "      <td>47626</td>\n",
       "      <td>Large Lemon</td>\n",
       "      <td>171731</td>\n",
       "    </tr>\n",
       "    <tr>\n",
       "      <th>24047</th>\n",
       "      <td>26209</td>\n",
       "      <td>Limes</td>\n",
       "      <td>170864</td>\n",
       "    </tr>\n",
       "    <tr>\n",
       "      <th>43788</th>\n",
       "      <td>47766</td>\n",
       "      <td>Organic Avocado</td>\n",
       "      <td>160678</td>\n",
       "    </tr>\n",
       "    <tr>\n",
       "      <th>15364</th>\n",
       "      <td>16797</td>\n",
       "      <td>Strawberries</td>\n",
       "      <td>141625</td>\n",
       "    </tr>\n",
       "    <tr>\n",
       "      <th>25666</th>\n",
       "      <td>27966</td>\n",
       "      <td>Organic Raspberries</td>\n",
       "      <td>138046</td>\n",
       "    </tr>\n",
       "    <tr>\n",
       "      <th>21025</th>\n",
       "      <td>22935</td>\n",
       "      <td>Organic Yellow Onion</td>\n",
       "      <td>135630</td>\n",
       "    </tr>\n",
       "    <tr>\n",
       "      <th>22908</th>\n",
       "      <td>24964</td>\n",
       "      <td>Organic Garlic</td>\n",
       "      <td>133601</td>\n",
       "    </tr>\n",
       "    <tr>\n",
       "      <th>41244</th>\n",
       "      <td>45007</td>\n",
       "      <td>Organic Zucchini</td>\n",
       "      <td>131134</td>\n",
       "    </tr>\n",
       "    <tr>\n",
       "      <th>35996</th>\n",
       "      <td>39275</td>\n",
       "      <td>Organic Blueberries</td>\n",
       "      <td>112502</td>\n",
       "    </tr>\n",
       "    <tr>\n",
       "      <th>37301</th>\n",
       "      <td>40706</td>\n",
       "      <td>Organic Grape Tomatoes</td>\n",
       "      <td>111363</td>\n",
       "    </tr>\n",
       "    <tr>\n",
       "      <th>25556</th>\n",
       "      <td>27845</td>\n",
       "      <td>Organic Whole Milk</td>\n",
       "      <td>106867</td>\n",
       "    </tr>\n",
       "    <tr>\n",
       "      <th>45561</th>\n",
       "      <td>49683</td>\n",
       "      <td>Cucumber Kirby</td>\n",
       "      <td>105291</td>\n",
       "    </tr>\n",
       "    <tr>\n",
       "      <th>5375</th>\n",
       "      <td>5876</td>\n",
       "      <td>Organic Lemon</td>\n",
       "      <td>99616</td>\n",
       "    </tr>\n",
       "    <tr>\n",
       "      <th>4487</th>\n",
       "      <td>4920</td>\n",
       "      <td>Seedless Red Grapes</td>\n",
       "      <td>96152</td>\n",
       "    </tr>\n",
       "    <tr>\n",
       "      <th>27876</th>\n",
       "      <td>30391</td>\n",
       "      <td>Organic Cucumber</td>\n",
       "      <td>95983</td>\n",
       "    </tr>\n",
       "  </tbody>\n",
       "</table>\n",
       "</div>"
      ],
      "text/plain": [
       "       product_id            product_name  add_to_cart_order\n",
       "22808       24852                  Banana             321962\n",
       "12025       13176  Bag of Organic Bananas             271774\n",
       "19370       21137    Organic Strawberries             268494\n",
       "20077       21903    Organic Baby Spinach             254234\n",
       "43271       47209    Organic Hass Avocado             201977\n",
       "43663       47626             Large Lemon             171731\n",
       "24047       26209                   Limes             170864\n",
       "43788       47766         Organic Avocado             160678\n",
       "15364       16797            Strawberries             141625\n",
       "25666       27966     Organic Raspberries             138046\n",
       "21025       22935    Organic Yellow Onion             135630\n",
       "22908       24964          Organic Garlic             133601\n",
       "41244       45007        Organic Zucchini             131134\n",
       "35996       39275     Organic Blueberries             112502\n",
       "37301       40706  Organic Grape Tomatoes             111363\n",
       "25556       27845      Organic Whole Milk             106867\n",
       "45561       49683          Cucumber Kirby             105291\n",
       "5375         5876           Organic Lemon              99616\n",
       "4487         4920     Seedless Red Grapes              96152\n",
       "27876       30391        Organic Cucumber              95983"
      ]
     },
     "execution_count": 261,
     "metadata": {},
     "output_type": "execute_result"
    }
   ],
   "source": [
    "top_products= prodor_df.groupby(['product_id', 'product_name'])['add_to_cart_order'].sum().reset_index().nlargest(20, 'add_to_cart_order')\n",
    "top_products"
   ]
  },
  {
   "cell_type": "markdown",
   "id": "7df00f47",
   "metadata": {},
   "source": [
    "Above we see the top 20 products sold, most of which are fresh fruit or veggies. "
   ]
  },
  {
   "cell_type": "markdown",
   "id": "gross-theme",
   "metadata": {},
   "source": [
    "# [C] Hard (must complete at least two to pass)"
   ]
  },
  {
   "cell_type": "markdown",
   "id": "romantic-deposit",
   "metadata": {},
   "source": [
    "### [C1] How many items do people typically buy in one order? What does the distribution look like?"
   ]
  },
  {
   "cell_type": "code",
   "execution_count": null,
   "id": "virtual-punch",
   "metadata": {},
   "outputs": [],
   "source": []
  },
  {
   "cell_type": "code",
   "execution_count": null,
   "id": "sensitive-breathing",
   "metadata": {},
   "outputs": [],
   "source": []
  },
  {
   "cell_type": "code",
   "execution_count": null,
   "id": "completed-frank",
   "metadata": {},
   "outputs": [],
   "source": []
  },
  {
   "cell_type": "markdown",
   "id": "designed-mortality",
   "metadata": {},
   "source": []
  },
  {
   "cell_type": "markdown",
   "id": "5e6b5537",
   "metadata": {},
   "source": [
    "### [C2] What are the top 20 items that are reordered most frequently (display their names and product IDs)?"
   ]
  },
  {
   "cell_type": "code",
   "execution_count": 262,
   "id": "9374e55a",
   "metadata": {},
   "outputs": [
    {
     "data": {
      "text/html": [
       "<div>\n",
       "<style scoped>\n",
       "    .dataframe tbody tr th:only-of-type {\n",
       "        vertical-align: middle;\n",
       "    }\n",
       "\n",
       "    .dataframe tbody tr th {\n",
       "        vertical-align: top;\n",
       "    }\n",
       "\n",
       "    .dataframe thead th {\n",
       "        text-align: right;\n",
       "    }\n",
       "</style>\n",
       "<table border=\"1\" class=\"dataframe\">\n",
       "  <thead>\n",
       "    <tr style=\"text-align: right;\">\n",
       "      <th></th>\n",
       "      <th>product_id</th>\n",
       "      <th>product_name</th>\n",
       "      <th>reordered</th>\n",
       "    </tr>\n",
       "  </thead>\n",
       "  <tbody>\n",
       "    <tr>\n",
       "      <th>22808</th>\n",
       "      <td>24852</td>\n",
       "      <td>Banana</td>\n",
       "      <td>55763</td>\n",
       "    </tr>\n",
       "    <tr>\n",
       "      <th>12025</th>\n",
       "      <td>13176</td>\n",
       "      <td>Bag of Organic Bananas</td>\n",
       "      <td>44450</td>\n",
       "    </tr>\n",
       "    <tr>\n",
       "      <th>19370</th>\n",
       "      <td>21137</td>\n",
       "      <td>Organic Strawberries</td>\n",
       "      <td>28639</td>\n",
       "    </tr>\n",
       "    <tr>\n",
       "      <th>20077</th>\n",
       "      <td>21903</td>\n",
       "      <td>Organic Baby Spinach</td>\n",
       "      <td>26233</td>\n",
       "    </tr>\n",
       "    <tr>\n",
       "      <th>43271</th>\n",
       "      <td>47209</td>\n",
       "      <td>Organic Hass Avocado</td>\n",
       "      <td>23629</td>\n",
       "    </tr>\n",
       "    <tr>\n",
       "      <th>43788</th>\n",
       "      <td>47766</td>\n",
       "      <td>Organic Avocado</td>\n",
       "      <td>18743</td>\n",
       "    </tr>\n",
       "    <tr>\n",
       "      <th>25556</th>\n",
       "      <td>27845</td>\n",
       "      <td>Organic Whole Milk</td>\n",
       "      <td>16251</td>\n",
       "    </tr>\n",
       "    <tr>\n",
       "      <th>43663</th>\n",
       "      <td>47626</td>\n",
       "      <td>Large Lemon</td>\n",
       "      <td>15044</td>\n",
       "    </tr>\n",
       "    <tr>\n",
       "      <th>25666</th>\n",
       "      <td>27966</td>\n",
       "      <td>Organic Raspberries</td>\n",
       "      <td>14748</td>\n",
       "    </tr>\n",
       "    <tr>\n",
       "      <th>15364</th>\n",
       "      <td>16797</td>\n",
       "      <td>Strawberries</td>\n",
       "      <td>13945</td>\n",
       "    </tr>\n",
       "    <tr>\n",
       "      <th>24047</th>\n",
       "      <td>26209</td>\n",
       "      <td>Limes</td>\n",
       "      <td>13327</td>\n",
       "    </tr>\n",
       "    <tr>\n",
       "      <th>21025</th>\n",
       "      <td>22935</td>\n",
       "      <td>Organic Yellow Onion</td>\n",
       "      <td>11145</td>\n",
       "    </tr>\n",
       "    <tr>\n",
       "      <th>22908</th>\n",
       "      <td>24964</td>\n",
       "      <td>Organic Garlic</td>\n",
       "      <td>10411</td>\n",
       "    </tr>\n",
       "    <tr>\n",
       "      <th>41244</th>\n",
       "      <td>45007</td>\n",
       "      <td>Organic Zucchini</td>\n",
       "      <td>10076</td>\n",
       "    </tr>\n",
       "    <tr>\n",
       "      <th>45561</th>\n",
       "      <td>49683</td>\n",
       "      <td>Cucumber Kirby</td>\n",
       "      <td>9538</td>\n",
       "    </tr>\n",
       "    <tr>\n",
       "      <th>25889</th>\n",
       "      <td>28204</td>\n",
       "      <td>Organic Fuji Apple</td>\n",
       "      <td>8989</td>\n",
       "    </tr>\n",
       "    <tr>\n",
       "      <th>7543</th>\n",
       "      <td>8277</td>\n",
       "      <td>Apple Honeycrisp Organic</td>\n",
       "      <td>8836</td>\n",
       "    </tr>\n",
       "    <tr>\n",
       "      <th>35996</th>\n",
       "      <td>39275</td>\n",
       "      <td>Organic Blueberries</td>\n",
       "      <td>8799</td>\n",
       "    </tr>\n",
       "    <tr>\n",
       "      <th>5375</th>\n",
       "      <td>5876</td>\n",
       "      <td>Organic Lemon</td>\n",
       "      <td>8412</td>\n",
       "    </tr>\n",
       "    <tr>\n",
       "      <th>45155</th>\n",
       "      <td>49235</td>\n",
       "      <td>Organic Half &amp; Half</td>\n",
       "      <td>8389</td>\n",
       "    </tr>\n",
       "  </tbody>\n",
       "</table>\n",
       "</div>"
      ],
      "text/plain": [
       "       product_id              product_name  reordered\n",
       "22808       24852                    Banana      55763\n",
       "12025       13176    Bag of Organic Bananas      44450\n",
       "19370       21137      Organic Strawberries      28639\n",
       "20077       21903      Organic Baby Spinach      26233\n",
       "43271       47209      Organic Hass Avocado      23629\n",
       "43788       47766           Organic Avocado      18743\n",
       "25556       27845        Organic Whole Milk      16251\n",
       "43663       47626               Large Lemon      15044\n",
       "25666       27966       Organic Raspberries      14748\n",
       "15364       16797              Strawberries      13945\n",
       "24047       26209                     Limes      13327\n",
       "21025       22935      Organic Yellow Onion      11145\n",
       "22908       24964            Organic Garlic      10411\n",
       "41244       45007          Organic Zucchini      10076\n",
       "45561       49683            Cucumber Kirby       9538\n",
       "25889       28204        Organic Fuji Apple       8989\n",
       "7543         8277  Apple Honeycrisp Organic       8836\n",
       "35996       39275       Organic Blueberries       8799\n",
       "5375         5876             Organic Lemon       8412\n",
       "45155       49235       Organic Half & Half       8389"
      ]
     },
     "execution_count": 262,
     "metadata": {},
     "output_type": "execute_result"
    }
   ],
   "source": [
    "top_products_reordered= prodor_df.groupby(['product_id', 'product_name'])['reordered'].sum().reset_index().nlargest(20, 'reordered')\n",
    "top_products_reordered"
   ]
  },
  {
   "cell_type": "markdown",
   "id": "80e70c74",
   "metadata": {},
   "source": [
    "There appears to be a decent overlap in the top 20 sold products and the top 20 reordered, which makes logical sense, the more it is reordered, the more it is sold. "
   ]
  },
  {
   "cell_type": "markdown",
   "id": "9d312b14",
   "metadata": {},
   "source": [
    "### [C3] For each product, what proportion of its orders are reorders?"
   ]
  },
  {
   "cell_type": "code",
   "execution_count": null,
   "id": "8ae9f4b1",
   "metadata": {},
   "outputs": [],
   "source": []
  },
  {
   "cell_type": "code",
   "execution_count": null,
   "id": "103e7fe1",
   "metadata": {},
   "outputs": [],
   "source": []
  },
  {
   "cell_type": "code",
   "execution_count": null,
   "id": "social-individual",
   "metadata": {},
   "outputs": [],
   "source": []
  },
  {
   "cell_type": "markdown",
   "id": "subject-boxing",
   "metadata": {},
   "source": [
    "### [C4] For each customer, what proportion of their products ordered are reorders?"
   ]
  },
  {
   "cell_type": "code",
   "execution_count": null,
   "id": "medical-couple",
   "metadata": {
    "scrolled": true
   },
   "outputs": [],
   "source": []
  },
  {
   "cell_type": "code",
   "execution_count": null,
   "id": "8892e4b4",
   "metadata": {},
   "outputs": [],
   "source": []
  },
  {
   "cell_type": "markdown",
   "id": "92d35137",
   "metadata": {},
   "source": [
    "### [C5] What are the top 20 items that people put in their carts first? "
   ]
  },
  {
   "cell_type": "code",
   "execution_count": 263,
   "id": "0ae57274",
   "metadata": {
    "scrolled": false
   },
   "outputs": [
    {
     "data": {
      "text/html": [
       "<div>\n",
       "<style scoped>\n",
       "    .dataframe tbody tr th:only-of-type {\n",
       "        vertical-align: middle;\n",
       "    }\n",
       "\n",
       "    .dataframe tbody tr th {\n",
       "        vertical-align: top;\n",
       "    }\n",
       "\n",
       "    .dataframe thead th {\n",
       "        text-align: right;\n",
       "    }\n",
       "</style>\n",
       "<table border=\"1\" class=\"dataframe\">\n",
       "  <thead>\n",
       "    <tr style=\"text-align: right;\">\n",
       "      <th></th>\n",
       "      <th>product_id</th>\n",
       "      <th>product_name</th>\n",
       "      <th>add_to_cart_order</th>\n",
       "    </tr>\n",
       "  </thead>\n",
       "  <tbody>\n",
       "    <tr>\n",
       "      <th>13414</th>\n",
       "      <td>24852</td>\n",
       "      <td>Banana</td>\n",
       "      <td>15562</td>\n",
       "    </tr>\n",
       "    <tr>\n",
       "      <th>7127</th>\n",
       "      <td>13176</td>\n",
       "      <td>Bag of Organic Bananas</td>\n",
       "      <td>11026</td>\n",
       "    </tr>\n",
       "    <tr>\n",
       "      <th>15028</th>\n",
       "      <td>27845</td>\n",
       "      <td>Organic Whole Milk</td>\n",
       "      <td>4363</td>\n",
       "    </tr>\n",
       "    <tr>\n",
       "      <th>11384</th>\n",
       "      <td>21137</td>\n",
       "      <td>Organic Strawberries</td>\n",
       "      <td>3946</td>\n",
       "    </tr>\n",
       "    <tr>\n",
       "      <th>25439</th>\n",
       "      <td>47209</td>\n",
       "      <td>Organic Hass Avocado</td>\n",
       "      <td>3390</td>\n",
       "    </tr>\n",
       "    <tr>\n",
       "      <th>11786</th>\n",
       "      <td>21903</td>\n",
       "      <td>Organic Baby Spinach</td>\n",
       "      <td>3336</td>\n",
       "    </tr>\n",
       "    <tr>\n",
       "      <th>25732</th>\n",
       "      <td>47766</td>\n",
       "      <td>Organic Avocado</td>\n",
       "      <td>3044</td>\n",
       "    </tr>\n",
       "    <tr>\n",
       "      <th>10622</th>\n",
       "      <td>19660</td>\n",
       "      <td>Spring Water</td>\n",
       "      <td>2336</td>\n",
       "    </tr>\n",
       "    <tr>\n",
       "      <th>9050</th>\n",
       "      <td>16797</td>\n",
       "      <td>Strawberries</td>\n",
       "      <td>2308</td>\n",
       "    </tr>\n",
       "    <tr>\n",
       "      <th>15102</th>\n",
       "      <td>27966</td>\n",
       "      <td>Organic Raspberries</td>\n",
       "      <td>2024</td>\n",
       "    </tr>\n",
       "    <tr>\n",
       "      <th>24024</th>\n",
       "      <td>44632</td>\n",
       "      <td>Sparkling Water Grapefruit</td>\n",
       "      <td>1914</td>\n",
       "    </tr>\n",
       "    <tr>\n",
       "      <th>26519</th>\n",
       "      <td>49235</td>\n",
       "      <td>Organic Half &amp; Half</td>\n",
       "      <td>1797</td>\n",
       "    </tr>\n",
       "    <tr>\n",
       "      <th>25658</th>\n",
       "      <td>47626</td>\n",
       "      <td>Large Lemon</td>\n",
       "      <td>1737</td>\n",
       "    </tr>\n",
       "    <tr>\n",
       "      <th>115</th>\n",
       "      <td>196</td>\n",
       "      <td>Soda</td>\n",
       "      <td>1733</td>\n",
       "    </tr>\n",
       "    <tr>\n",
       "      <th>20853</th>\n",
       "      <td>38689</td>\n",
       "      <td>Organic Reduced Fat Milk</td>\n",
       "      <td>1397</td>\n",
       "    </tr>\n",
       "    <tr>\n",
       "      <th>14158</th>\n",
       "      <td>26209</td>\n",
       "      <td>Limes</td>\n",
       "      <td>1370</td>\n",
       "    </tr>\n",
       "    <tr>\n",
       "      <th>6660</th>\n",
       "      <td>12341</td>\n",
       "      <td>Hass Avocados</td>\n",
       "      <td>1340</td>\n",
       "    </tr>\n",
       "    <tr>\n",
       "      <th>3153</th>\n",
       "      <td>5785</td>\n",
       "      <td>Organic Reduced Fat 2% Milk</td>\n",
       "      <td>1310</td>\n",
       "    </tr>\n",
       "    <tr>\n",
       "      <th>14639</th>\n",
       "      <td>27086</td>\n",
       "      <td>Half &amp; Half</td>\n",
       "      <td>1309</td>\n",
       "    </tr>\n",
       "    <tr>\n",
       "      <th>12349</th>\n",
       "      <td>22935</td>\n",
       "      <td>Organic Yellow Onion</td>\n",
       "      <td>1246</td>\n",
       "    </tr>\n",
       "  </tbody>\n",
       "</table>\n",
       "</div>"
      ],
      "text/plain": [
       "       product_id                 product_name  add_to_cart_order\n",
       "13414       24852                       Banana              15562\n",
       "7127        13176       Bag of Organic Bananas              11026\n",
       "15028       27845           Organic Whole Milk               4363\n",
       "11384       21137         Organic Strawberries               3946\n",
       "25439       47209         Organic Hass Avocado               3390\n",
       "11786       21903         Organic Baby Spinach               3336\n",
       "25732       47766              Organic Avocado               3044\n",
       "10622       19660                 Spring Water               2336\n",
       "9050        16797                 Strawberries               2308\n",
       "15102       27966          Organic Raspberries               2024\n",
       "24024       44632   Sparkling Water Grapefruit               1914\n",
       "26519       49235          Organic Half & Half               1797\n",
       "25658       47626                  Large Lemon               1737\n",
       "115           196                         Soda               1733\n",
       "20853       38689     Organic Reduced Fat Milk               1397\n",
       "14158       26209                        Limes               1370\n",
       "6660        12341                Hass Avocados               1340\n",
       "3153         5785  Organic Reduced Fat 2% Milk               1310\n",
       "14639       27086                  Half & Half               1309\n",
       "12349       22935         Organic Yellow Onion               1246"
      ]
     },
     "execution_count": 263,
     "metadata": {},
     "output_type": "execute_result"
    }
   ],
   "source": [
    "first_item_added= prodor_df[prodor_df['add_to_cart_order']==1]\n",
    "top_products_first_added= first_item_added.groupby(['product_id', 'product_name'])['add_to_cart_order'].sum().reset_index().nlargest(20, 'add_to_cart_order')\n",
    "top_products_first_added"
   ]
  },
  {
   "cell_type": "markdown",
   "id": "d5898461",
   "metadata": {},
   "source": [
    "Looks like the majority of items first placed in the cart is from the fresh produce section. "
   ]
  },
  {
   "cell_type": "markdown",
   "id": "f439d9e2",
   "metadata": {},
   "source": [
    "We have successfully reviewed and analyzed the data from Instacart orders. We now better understand the trends of the orders placed by customers. Most customers shop on Sundays, and the busiest time of day is 1000! "
   ]
  }
 ],
 "metadata": {
  "ExecuteTimeLog": [
   {
    "duration": 7,
    "start_time": "2024-11-01T21:29:16.073Z"
   },
   {
    "duration": 293,
    "start_time": "2024-11-01T21:29:24.401Z"
   },
   {
    "duration": 244,
    "start_time": "2024-11-01T21:30:34.579Z"
   },
   {
    "duration": 293,
    "start_time": "2024-11-01T21:31:13.113Z"
   },
   {
    "duration": 155,
    "start_time": "2024-11-01T21:31:35.937Z"
   },
   {
    "duration": 144,
    "start_time": "2024-11-01T21:35:25.997Z"
   },
   {
    "duration": 10,
    "start_time": "2024-11-01T21:35:49.469Z"
   },
   {
    "duration": 10,
    "start_time": "2024-11-01T21:36:08.557Z"
   },
   {
    "duration": 9,
    "start_time": "2024-11-01T21:36:44.869Z"
   },
   {
    "duration": 8,
    "start_time": "2024-11-01T21:36:56.355Z"
   },
   {
    "duration": 12,
    "start_time": "2024-11-01T21:38:15.380Z"
   },
   {
    "duration": 10,
    "start_time": "2024-11-01T21:38:30.455Z"
   },
   {
    "duration": 12,
    "start_time": "2024-11-01T21:46:58.175Z"
   },
   {
    "duration": 10,
    "start_time": "2024-11-01T21:47:11.900Z"
   },
   {
    "duration": 10,
    "start_time": "2024-11-01T21:48:34.367Z"
   },
   {
    "duration": 14,
    "start_time": "2024-11-01T22:02:55.473Z"
   },
   {
    "duration": 20,
    "start_time": "2024-11-01T22:03:34.844Z"
   },
   {
    "duration": 16,
    "start_time": "2024-11-01T22:03:44.148Z"
   },
   {
    "duration": 10,
    "start_time": "2024-11-01T22:04:06.179Z"
   },
   {
    "duration": 11,
    "start_time": "2024-11-01T22:04:20.121Z"
   },
   {
    "duration": 14,
    "start_time": "2024-11-01T22:36:20.803Z"
   },
   {
    "duration": 9,
    "start_time": "2024-11-01T22:37:56.001Z"
   },
   {
    "duration": 140,
    "start_time": "2024-11-01T22:38:10.577Z"
   },
   {
    "duration": 9,
    "start_time": "2024-11-01T22:38:12.349Z"
   },
   {
    "duration": 7,
    "start_time": "2024-11-01T22:38:18.579Z"
   },
   {
    "duration": 13,
    "start_time": "2024-11-01T22:38:40.380Z"
   },
   {
    "duration": 14,
    "start_time": "2024-11-01T22:39:09.307Z"
   },
   {
    "duration": 14,
    "start_time": "2024-11-01T22:39:24.670Z"
   },
   {
    "duration": 7,
    "start_time": "2024-11-01T22:39:37.782Z"
   },
   {
    "duration": 374,
    "start_time": "2024-11-01T22:40:10.934Z"
   },
   {
    "duration": 6,
    "start_time": "2024-11-01T22:40:28.169Z"
   },
   {
    "duration": 18,
    "start_time": "2024-11-01T22:52:31.914Z"
   },
   {
    "duration": 937,
    "start_time": "2024-11-01T22:52:35.818Z"
   },
   {
    "duration": 14,
    "start_time": "2024-11-01T22:52:36.757Z"
   },
   {
    "duration": 14,
    "start_time": "2024-11-01T22:52:36.773Z"
   },
   {
    "duration": 34,
    "start_time": "2024-11-01T22:52:37.253Z"
   },
   {
    "duration": 11,
    "start_time": "2024-11-01T22:52:37.756Z"
   },
   {
    "duration": 10,
    "start_time": "2024-11-01T22:52:38.753Z"
   },
   {
    "duration": 3,
    "start_time": "2024-11-01T22:56:34.043Z"
   },
   {
    "duration": 809,
    "start_time": "2024-11-01T22:56:34.048Z"
   },
   {
    "duration": 17,
    "start_time": "2024-11-01T22:56:34.859Z"
   },
   {
    "duration": 13,
    "start_time": "2024-11-01T22:56:34.878Z"
   },
   {
    "duration": 34,
    "start_time": "2024-11-01T22:56:34.907Z"
   },
   {
    "duration": 11,
    "start_time": "2024-11-01T22:56:34.942Z"
   },
   {
    "duration": 10,
    "start_time": "2024-11-01T22:56:34.954Z"
   },
   {
    "duration": 2,
    "start_time": "2024-11-01T22:56:34.965Z"
   },
   {
    "duration": 37,
    "start_time": "2024-11-01T22:56:34.969Z"
   },
   {
    "duration": 2,
    "start_time": "2024-11-01T22:56:35.007Z"
   },
   {
    "duration": 2,
    "start_time": "2024-11-01T22:56:35.011Z"
   },
   {
    "duration": 4,
    "start_time": "2024-11-01T22:56:35.014Z"
   },
   {
    "duration": 3,
    "start_time": "2024-11-01T22:56:35.019Z"
   },
   {
    "duration": 2,
    "start_time": "2024-11-01T22:56:35.025Z"
   },
   {
    "duration": 2,
    "start_time": "2024-11-01T22:56:35.029Z"
   },
   {
    "duration": 2,
    "start_time": "2024-11-01T22:56:35.033Z"
   },
   {
    "duration": 3,
    "start_time": "2024-11-01T22:56:35.037Z"
   },
   {
    "duration": 3,
    "start_time": "2024-11-01T22:56:35.041Z"
   },
   {
    "duration": 3,
    "start_time": "2024-11-01T22:56:35.045Z"
   },
   {
    "duration": 2,
    "start_time": "2024-11-01T22:56:35.050Z"
   },
   {
    "duration": 3,
    "start_time": "2024-11-01T22:56:35.054Z"
   },
   {
    "duration": 47,
    "start_time": "2024-11-01T22:56:35.058Z"
   },
   {
    "duration": 3,
    "start_time": "2024-11-01T22:56:35.107Z"
   },
   {
    "duration": 3,
    "start_time": "2024-11-01T22:56:35.111Z"
   },
   {
    "duration": 3,
    "start_time": "2024-11-01T22:56:35.115Z"
   },
   {
    "duration": 2,
    "start_time": "2024-11-01T22:56:35.120Z"
   },
   {
    "duration": 3,
    "start_time": "2024-11-01T22:56:35.124Z"
   },
   {
    "duration": 326,
    "start_time": "2024-11-02T22:42:03.511Z"
   },
   {
    "duration": 3,
    "start_time": "2024-11-02T22:42:21.607Z"
   },
   {
    "duration": 3,
    "start_time": "2024-11-02T22:42:25.290Z"
   },
   {
    "duration": 7091,
    "start_time": "2024-11-02T22:43:04.925Z"
   },
   {
    "duration": 2,
    "start_time": "2024-11-02T22:43:16.212Z"
   },
   {
    "duration": 2,
    "start_time": "2024-11-02T22:43:19.886Z"
   },
   {
    "duration": 873,
    "start_time": "2024-11-02T22:43:19.890Z"
   },
   {
    "duration": 13,
    "start_time": "2024-11-02T22:43:20.765Z"
   },
   {
    "duration": 19,
    "start_time": "2024-11-02T22:43:20.779Z"
   },
   {
    "duration": 38,
    "start_time": "2024-11-02T22:43:20.800Z"
   },
   {
    "duration": 10,
    "start_time": "2024-11-02T22:43:20.840Z"
   },
   {
    "duration": 35,
    "start_time": "2024-11-02T22:43:20.852Z"
   },
   {
    "duration": 3,
    "start_time": "2024-11-02T22:43:20.889Z"
   },
   {
    "duration": 2,
    "start_time": "2024-11-02T22:43:20.895Z"
   },
   {
    "duration": 2,
    "start_time": "2024-11-02T22:43:20.899Z"
   },
   {
    "duration": 2,
    "start_time": "2024-11-02T22:43:20.902Z"
   },
   {
    "duration": 2,
    "start_time": "2024-11-02T22:43:20.906Z"
   },
   {
    "duration": 2,
    "start_time": "2024-11-02T22:43:20.909Z"
   },
   {
    "duration": 2,
    "start_time": "2024-11-02T22:43:20.913Z"
   },
   {
    "duration": 2,
    "start_time": "2024-11-02T22:43:20.917Z"
   },
   {
    "duration": 2,
    "start_time": "2024-11-02T22:43:20.921Z"
   },
   {
    "duration": 2,
    "start_time": "2024-11-02T22:43:20.925Z"
   },
   {
    "duration": 2,
    "start_time": "2024-11-02T22:43:20.929Z"
   },
   {
    "duration": 3,
    "start_time": "2024-11-02T22:43:20.987Z"
   },
   {
    "duration": 2,
    "start_time": "2024-11-02T22:43:20.992Z"
   },
   {
    "duration": 2,
    "start_time": "2024-11-02T22:43:20.995Z"
   },
   {
    "duration": 2,
    "start_time": "2024-11-02T22:43:20.999Z"
   },
   {
    "duration": 2,
    "start_time": "2024-11-02T22:43:21.003Z"
   },
   {
    "duration": 1,
    "start_time": "2024-11-02T22:43:21.010Z"
   },
   {
    "duration": 3,
    "start_time": "2024-11-02T22:43:21.013Z"
   },
   {
    "duration": 3,
    "start_time": "2024-11-02T22:43:21.017Z"
   },
   {
    "duration": 5,
    "start_time": "2024-11-02T22:43:21.021Z"
   },
   {
    "duration": 3,
    "start_time": "2024-11-03T01:58:25.051Z"
   },
   {
    "duration": 859,
    "start_time": "2024-11-03T01:58:25.056Z"
   },
   {
    "duration": 10,
    "start_time": "2024-11-03T01:58:25.917Z"
   },
   {
    "duration": 8,
    "start_time": "2024-11-03T01:58:25.929Z"
   },
   {
    "duration": 12,
    "start_time": "2024-11-03T01:58:25.939Z"
   },
   {
    "duration": 6,
    "start_time": "2024-11-03T01:58:25.954Z"
   },
   {
    "duration": 45,
    "start_time": "2024-11-03T01:58:25.962Z"
   },
   {
    "duration": 7,
    "start_time": "2024-11-03T01:58:26.009Z"
   },
   {
    "duration": 8,
    "start_time": "2024-11-03T01:58:26.017Z"
   },
   {
    "duration": 6,
    "start_time": "2024-11-03T01:58:26.028Z"
   },
   {
    "duration": 10,
    "start_time": "2024-11-03T01:58:26.036Z"
   },
   {
    "duration": 9,
    "start_time": "2024-11-03T01:58:26.048Z"
   },
   {
    "duration": 106,
    "start_time": "2024-11-03T01:58:26.087Z"
   },
   {
    "duration": 18,
    "start_time": "2024-11-03T01:58:26.195Z"
   },
   {
    "duration": 6,
    "start_time": "2024-11-03T01:58:26.215Z"
   },
   {
    "duration": 5,
    "start_time": "2024-11-03T01:58:26.222Z"
   },
   {
    "duration": 193,
    "start_time": "2024-11-03T01:58:26.229Z"
   },
   {
    "duration": 0,
    "start_time": "2024-11-03T01:58:26.424Z"
   },
   {
    "duration": 0,
    "start_time": "2024-11-03T01:58:26.426Z"
   },
   {
    "duration": 0,
    "start_time": "2024-11-03T01:58:26.427Z"
   },
   {
    "duration": 0,
    "start_time": "2024-11-03T01:58:26.428Z"
   },
   {
    "duration": 0,
    "start_time": "2024-11-03T01:58:26.429Z"
   },
   {
    "duration": 0,
    "start_time": "2024-11-03T01:58:26.429Z"
   },
   {
    "duration": 1,
    "start_time": "2024-11-03T01:58:26.430Z"
   },
   {
    "duration": 0,
    "start_time": "2024-11-03T01:58:26.432Z"
   },
   {
    "duration": 1,
    "start_time": "2024-11-03T01:58:26.432Z"
   },
   {
    "duration": 0,
    "start_time": "2024-11-03T01:58:26.434Z"
   },
   {
    "duration": 0,
    "start_time": "2024-11-03T01:58:26.434Z"
   },
   {
    "duration": 0,
    "start_time": "2024-11-03T01:58:26.435Z"
   },
   {
    "duration": 0,
    "start_time": "2024-11-03T01:58:26.436Z"
   },
   {
    "duration": 0,
    "start_time": "2024-11-03T01:58:26.437Z"
   },
   {
    "duration": 0,
    "start_time": "2024-11-03T01:58:26.438Z"
   },
   {
    "duration": 0,
    "start_time": "2024-11-03T01:58:26.441Z"
   },
   {
    "duration": 0,
    "start_time": "2024-11-03T01:58:26.442Z"
   },
   {
    "duration": 0,
    "start_time": "2024-11-03T01:58:26.443Z"
   },
   {
    "duration": 0,
    "start_time": "2024-11-03T01:58:26.444Z"
   },
   {
    "duration": 0,
    "start_time": "2024-11-03T01:58:26.445Z"
   },
   {
    "duration": 0,
    "start_time": "2024-11-03T01:58:26.447Z"
   },
   {
    "duration": 0,
    "start_time": "2024-11-03T01:58:26.448Z"
   },
   {
    "duration": 13,
    "start_time": "2024-11-03T01:58:34.925Z"
   },
   {
    "duration": 6,
    "start_time": "2024-11-03T01:58:35.487Z"
   },
   {
    "duration": 10,
    "start_time": "2024-11-03T01:59:03.753Z"
   },
   {
    "duration": 23,
    "start_time": "2024-11-03T01:59:33.722Z"
   },
   {
    "duration": 15,
    "start_time": "2024-11-03T01:59:41.462Z"
   },
   {
    "duration": 17,
    "start_time": "2024-11-03T02:05:49.582Z"
   },
   {
    "duration": 22,
    "start_time": "2024-11-03T02:09:24.860Z"
   },
   {
    "duration": 7,
    "start_time": "2024-11-03T02:09:33.022Z"
   },
   {
    "duration": 3,
    "start_time": "2024-11-03T02:10:12.386Z"
   },
   {
    "duration": 941,
    "start_time": "2024-11-03T02:10:12.391Z"
   },
   {
    "duration": 10,
    "start_time": "2024-11-03T02:10:13.335Z"
   },
   {
    "duration": 8,
    "start_time": "2024-11-03T02:10:13.346Z"
   },
   {
    "duration": 12,
    "start_time": "2024-11-03T02:10:13.356Z"
   },
   {
    "duration": 22,
    "start_time": "2024-11-03T02:10:13.370Z"
   },
   {
    "duration": 27,
    "start_time": "2024-11-03T02:10:13.394Z"
   },
   {
    "duration": 7,
    "start_time": "2024-11-03T02:10:13.423Z"
   },
   {
    "duration": 8,
    "start_time": "2024-11-03T02:10:13.432Z"
   },
   {
    "duration": 6,
    "start_time": "2024-11-03T02:10:13.442Z"
   },
   {
    "duration": 38,
    "start_time": "2024-11-03T02:10:13.453Z"
   },
   {
    "duration": 7,
    "start_time": "2024-11-03T02:10:13.493Z"
   },
   {
    "duration": 89,
    "start_time": "2024-11-03T02:10:13.502Z"
   },
   {
    "duration": 12,
    "start_time": "2024-11-03T02:10:13.593Z"
   },
   {
    "duration": 6,
    "start_time": "2024-11-03T02:10:13.607Z"
   },
   {
    "duration": 6,
    "start_time": "2024-11-03T02:10:13.615Z"
   },
   {
    "duration": 14,
    "start_time": "2024-11-03T02:10:13.622Z"
   },
   {
    "duration": 0,
    "start_time": "2024-11-03T02:10:13.637Z"
   },
   {
    "duration": 0,
    "start_time": "2024-11-03T02:10:13.639Z"
   },
   {
    "duration": 0,
    "start_time": "2024-11-03T02:10:13.640Z"
   },
   {
    "duration": 0,
    "start_time": "2024-11-03T02:10:13.641Z"
   },
   {
    "duration": 0,
    "start_time": "2024-11-03T02:10:13.642Z"
   },
   {
    "duration": 0,
    "start_time": "2024-11-03T02:10:13.643Z"
   },
   {
    "duration": 0,
    "start_time": "2024-11-03T02:10:13.644Z"
   },
   {
    "duration": 0,
    "start_time": "2024-11-03T02:10:13.645Z"
   },
   {
    "duration": 0,
    "start_time": "2024-11-03T02:10:13.647Z"
   },
   {
    "duration": 0,
    "start_time": "2024-11-03T02:10:13.648Z"
   },
   {
    "duration": 0,
    "start_time": "2024-11-03T02:10:13.650Z"
   },
   {
    "duration": 0,
    "start_time": "2024-11-03T02:10:13.686Z"
   },
   {
    "duration": 0,
    "start_time": "2024-11-03T02:10:13.688Z"
   },
   {
    "duration": 0,
    "start_time": "2024-11-03T02:10:13.689Z"
   },
   {
    "duration": 0,
    "start_time": "2024-11-03T02:10:13.689Z"
   },
   {
    "duration": 0,
    "start_time": "2024-11-03T02:10:13.691Z"
   },
   {
    "duration": 0,
    "start_time": "2024-11-03T02:10:13.693Z"
   },
   {
    "duration": 0,
    "start_time": "2024-11-03T02:10:13.694Z"
   },
   {
    "duration": 0,
    "start_time": "2024-11-03T02:10:13.695Z"
   },
   {
    "duration": 0,
    "start_time": "2024-11-03T02:10:13.696Z"
   },
   {
    "duration": 0,
    "start_time": "2024-11-03T02:10:13.698Z"
   },
   {
    "duration": 0,
    "start_time": "2024-11-03T02:10:13.699Z"
   },
   {
    "duration": 14,
    "start_time": "2024-11-03T02:10:45.748Z"
   },
   {
    "duration": 6,
    "start_time": "2024-11-03T02:10:46.319Z"
   },
   {
    "duration": 23,
    "start_time": "2024-11-03T02:10:46.690Z"
   },
   {
    "duration": 2,
    "start_time": "2024-11-03T02:10:47.182Z"
   },
   {
    "duration": 2,
    "start_time": "2024-11-03T02:11:58.414Z"
   },
   {
    "duration": 839,
    "start_time": "2024-11-03T02:11:58.778Z"
   },
   {
    "duration": 11,
    "start_time": "2024-11-03T02:11:59.619Z"
   },
   {
    "duration": 8,
    "start_time": "2024-11-03T02:11:59.632Z"
   },
   {
    "duration": 9,
    "start_time": "2024-11-03T02:11:59.701Z"
   },
   {
    "duration": 2,
    "start_time": "2024-11-03T02:12:05.788Z"
   },
   {
    "duration": 881,
    "start_time": "2024-11-03T02:12:05.792Z"
   },
   {
    "duration": 12,
    "start_time": "2024-11-03T02:12:06.675Z"
   },
   {
    "duration": 9,
    "start_time": "2024-11-03T02:12:06.689Z"
   },
   {
    "duration": 9,
    "start_time": "2024-11-03T02:12:06.701Z"
   },
   {
    "duration": 5,
    "start_time": "2024-11-03T02:12:06.712Z"
   },
   {
    "duration": 21,
    "start_time": "2024-11-03T02:12:06.719Z"
   },
   {
    "duration": 7,
    "start_time": "2024-11-03T02:12:06.743Z"
   },
   {
    "duration": 40,
    "start_time": "2024-11-03T02:12:06.751Z"
   },
   {
    "duration": 6,
    "start_time": "2024-11-03T02:12:06.793Z"
   },
   {
    "duration": 7,
    "start_time": "2024-11-03T02:12:06.801Z"
   },
   {
    "duration": 7,
    "start_time": "2024-11-03T02:12:06.811Z"
   },
   {
    "duration": 92,
    "start_time": "2024-11-03T02:12:06.821Z"
   },
   {
    "duration": 11,
    "start_time": "2024-11-03T02:12:06.918Z"
   },
   {
    "duration": 6,
    "start_time": "2024-11-03T02:12:06.931Z"
   },
   {
    "duration": 7,
    "start_time": "2024-11-03T02:12:06.939Z"
   },
   {
    "duration": 13,
    "start_time": "2024-11-03T02:12:06.947Z"
   },
   {
    "duration": 0,
    "start_time": "2024-11-03T02:12:06.963Z"
   },
   {
    "duration": 0,
    "start_time": "2024-11-03T02:12:06.964Z"
   },
   {
    "duration": 0,
    "start_time": "2024-11-03T02:12:06.965Z"
   },
   {
    "duration": 0,
    "start_time": "2024-11-03T02:12:06.986Z"
   },
   {
    "duration": 0,
    "start_time": "2024-11-03T02:12:06.987Z"
   },
   {
    "duration": 0,
    "start_time": "2024-11-03T02:12:06.988Z"
   },
   {
    "duration": 0,
    "start_time": "2024-11-03T02:12:06.989Z"
   },
   {
    "duration": 0,
    "start_time": "2024-11-03T02:12:06.989Z"
   },
   {
    "duration": 0,
    "start_time": "2024-11-03T02:12:06.990Z"
   },
   {
    "duration": 0,
    "start_time": "2024-11-03T02:12:06.991Z"
   },
   {
    "duration": 0,
    "start_time": "2024-11-03T02:12:06.992Z"
   },
   {
    "duration": 0,
    "start_time": "2024-11-03T02:12:06.993Z"
   },
   {
    "duration": 0,
    "start_time": "2024-11-03T02:12:06.994Z"
   },
   {
    "duration": 0,
    "start_time": "2024-11-03T02:12:06.995Z"
   },
   {
    "duration": 0,
    "start_time": "2024-11-03T02:12:06.996Z"
   },
   {
    "duration": 0,
    "start_time": "2024-11-03T02:12:06.997Z"
   },
   {
    "duration": 0,
    "start_time": "2024-11-03T02:12:06.998Z"
   },
   {
    "duration": 0,
    "start_time": "2024-11-03T02:12:06.999Z"
   },
   {
    "duration": 0,
    "start_time": "2024-11-03T02:12:07.000Z"
   },
   {
    "duration": 0,
    "start_time": "2024-11-03T02:12:07.002Z"
   },
   {
    "duration": 0,
    "start_time": "2024-11-03T02:12:07.003Z"
   },
   {
    "duration": 0,
    "start_time": "2024-11-03T02:12:07.003Z"
   },
   {
    "duration": 5,
    "start_time": "2024-11-03T02:13:18.705Z"
   },
   {
    "duration": 826,
    "start_time": "2024-11-03T02:13:18.713Z"
   },
   {
    "duration": 10,
    "start_time": "2024-11-03T02:13:19.541Z"
   },
   {
    "duration": 7,
    "start_time": "2024-11-03T02:13:19.554Z"
   },
   {
    "duration": 9,
    "start_time": "2024-11-03T02:13:19.563Z"
   },
   {
    "duration": 7,
    "start_time": "2024-11-03T02:13:19.587Z"
   },
   {
    "duration": 29,
    "start_time": "2024-11-03T02:13:19.596Z"
   },
   {
    "duration": 7,
    "start_time": "2024-11-03T02:13:19.627Z"
   },
   {
    "duration": 8,
    "start_time": "2024-11-03T02:13:19.636Z"
   },
   {
    "duration": 5,
    "start_time": "2024-11-03T02:13:19.648Z"
   },
   {
    "duration": 8,
    "start_time": "2024-11-03T02:13:19.686Z"
   },
   {
    "duration": 6,
    "start_time": "2024-11-03T02:13:19.696Z"
   },
   {
    "duration": 100,
    "start_time": "2024-11-03T02:13:19.704Z"
   },
   {
    "duration": 12,
    "start_time": "2024-11-03T02:13:19.806Z"
   },
   {
    "duration": 8,
    "start_time": "2024-11-03T02:13:19.821Z"
   },
   {
    "duration": 4,
    "start_time": "2024-11-03T02:13:19.831Z"
   },
   {
    "duration": 3,
    "start_time": "2024-11-03T02:13:19.836Z"
   },
   {
    "duration": 21,
    "start_time": "2024-11-03T02:13:19.841Z"
   },
   {
    "duration": 6,
    "start_time": "2024-11-03T02:13:19.887Z"
   },
   {
    "duration": 22,
    "start_time": "2024-11-03T02:13:19.895Z"
   },
   {
    "duration": 2,
    "start_time": "2024-11-03T02:13:19.919Z"
   },
   {
    "duration": 4,
    "start_time": "2024-11-03T02:13:19.923Z"
   },
   {
    "duration": 6,
    "start_time": "2024-11-03T02:13:19.928Z"
   },
   {
    "duration": 8,
    "start_time": "2024-11-03T02:13:19.935Z"
   },
   {
    "duration": 4,
    "start_time": "2024-11-03T02:13:19.945Z"
   },
   {
    "duration": 756,
    "start_time": "2024-11-03T02:13:19.988Z"
   },
   {
    "duration": 619,
    "start_time": "2024-11-03T02:13:20.746Z"
   },
   {
    "duration": 17,
    "start_time": "2024-11-03T02:13:21.370Z"
   },
   {
    "duration": 4,
    "start_time": "2024-11-03T02:13:21.390Z"
   },
   {
    "duration": 4,
    "start_time": "2024-11-03T02:13:21.397Z"
   },
   {
    "duration": 2,
    "start_time": "2024-11-03T02:13:21.404Z"
   },
   {
    "duration": 2,
    "start_time": "2024-11-03T02:13:21.408Z"
   },
   {
    "duration": 5,
    "start_time": "2024-11-03T02:13:21.411Z"
   },
   {
    "duration": 3,
    "start_time": "2024-11-03T02:13:21.417Z"
   },
   {
    "duration": 18,
    "start_time": "2024-11-03T02:13:21.422Z"
   },
   {
    "duration": 2,
    "start_time": "2024-11-03T02:13:21.442Z"
   },
   {
    "duration": 4,
    "start_time": "2024-11-03T02:13:21.446Z"
   },
   {
    "duration": 4,
    "start_time": "2024-11-03T02:13:21.454Z"
   },
   {
    "duration": 3,
    "start_time": "2024-11-03T02:13:21.487Z"
   },
   {
    "duration": 11,
    "start_time": "2024-11-03T02:25:54.321Z"
   },
   {
    "duration": 13,
    "start_time": "2024-11-03T02:26:04.323Z"
   },
   {
    "duration": 2,
    "start_time": "2024-11-03T02:26:24.398Z"
   },
   {
    "duration": 837,
    "start_time": "2024-11-03T02:26:24.403Z"
   },
   {
    "duration": 11,
    "start_time": "2024-11-03T02:26:25.242Z"
   },
   {
    "duration": 7,
    "start_time": "2024-11-03T02:26:25.254Z"
   },
   {
    "duration": 11,
    "start_time": "2024-11-03T02:26:25.263Z"
   },
   {
    "duration": 6,
    "start_time": "2024-11-03T02:26:25.287Z"
   },
   {
    "duration": 21,
    "start_time": "2024-11-03T02:26:25.295Z"
   },
   {
    "duration": 7,
    "start_time": "2024-11-03T02:26:25.320Z"
   },
   {
    "duration": 8,
    "start_time": "2024-11-03T02:26:25.330Z"
   },
   {
    "duration": 6,
    "start_time": "2024-11-03T02:26:25.340Z"
   },
   {
    "duration": 37,
    "start_time": "2024-11-03T02:26:25.349Z"
   },
   {
    "duration": 7,
    "start_time": "2024-11-03T02:26:25.388Z"
   },
   {
    "duration": 68,
    "start_time": "2024-11-03T02:26:25.397Z"
   },
   {
    "duration": 24,
    "start_time": "2024-11-03T02:26:25.466Z"
   },
   {
    "duration": 6,
    "start_time": "2024-11-03T02:26:25.492Z"
   },
   {
    "duration": 6,
    "start_time": "2024-11-03T02:26:25.499Z"
   },
   {
    "duration": 2,
    "start_time": "2024-11-03T02:26:25.508Z"
   },
   {
    "duration": 14,
    "start_time": "2024-11-03T02:26:25.512Z"
   },
   {
    "duration": 6,
    "start_time": "2024-11-03T02:26:25.528Z"
   },
   {
    "duration": 17,
    "start_time": "2024-11-03T02:26:25.535Z"
   },
   {
    "duration": 38,
    "start_time": "2024-11-03T02:26:25.554Z"
   },
   {
    "duration": 4,
    "start_time": "2024-11-03T02:26:25.594Z"
   },
   {
    "duration": 7,
    "start_time": "2024-11-03T02:26:25.599Z"
   },
   {
    "duration": 5,
    "start_time": "2024-11-03T02:26:25.610Z"
   },
   {
    "duration": 5,
    "start_time": "2024-11-03T02:26:25.618Z"
   },
   {
    "duration": 744,
    "start_time": "2024-11-03T02:26:25.624Z"
   },
   {
    "duration": 597,
    "start_time": "2024-11-03T02:26:26.369Z"
   },
   {
    "duration": 7,
    "start_time": "2024-11-03T02:26:26.968Z"
   },
   {
    "duration": 11,
    "start_time": "2024-11-03T02:26:26.976Z"
   },
   {
    "duration": 2,
    "start_time": "2024-11-03T02:26:26.989Z"
   },
   {
    "duration": 2,
    "start_time": "2024-11-03T02:26:26.993Z"
   },
   {
    "duration": 3,
    "start_time": "2024-11-03T02:26:26.997Z"
   },
   {
    "duration": 4,
    "start_time": "2024-11-03T02:26:27.002Z"
   },
   {
    "duration": 3,
    "start_time": "2024-11-03T02:26:27.008Z"
   },
   {
    "duration": 18,
    "start_time": "2024-11-03T02:26:27.012Z"
   },
   {
    "duration": 3,
    "start_time": "2024-11-03T02:26:27.031Z"
   },
   {
    "duration": 3,
    "start_time": "2024-11-03T02:26:27.035Z"
   },
   {
    "duration": 46,
    "start_time": "2024-11-03T02:26:27.040Z"
   },
   {
    "duration": 3,
    "start_time": "2024-11-03T02:26:27.088Z"
   },
   {
    "duration": 12,
    "start_time": "2024-11-03T02:28:21.629Z"
   },
   {
    "duration": 4,
    "start_time": "2024-11-03T02:33:33.447Z"
   },
   {
    "duration": 4,
    "start_time": "2024-11-03T02:33:41.313Z"
   },
   {
    "duration": 478,
    "start_time": "2024-11-03T02:33:58.529Z"
   },
   {
    "duration": 26,
    "start_time": "2024-11-03T02:34:24.605Z"
   },
   {
    "duration": 11,
    "start_time": "2024-11-03T02:34:40.480Z"
   },
   {
    "duration": 20,
    "start_time": "2024-11-03T02:34:47.164Z"
   },
   {
    "duration": 4,
    "start_time": "2024-11-03T02:34:54.349Z"
   },
   {
    "duration": 205,
    "start_time": "2024-11-03T02:36:38.329Z"
   },
   {
    "duration": 16,
    "start_time": "2024-11-03T02:41:37.052Z"
   },
   {
    "duration": 10,
    "start_time": "2024-11-03T02:41:51.464Z"
   },
   {
    "duration": 6,
    "start_time": "2024-11-03T02:42:21.373Z"
   },
   {
    "duration": 13,
    "start_time": "2024-11-03T02:45:46.776Z"
   },
   {
    "duration": 3,
    "start_time": "2024-11-03T02:47:52.779Z"
   },
   {
    "duration": 948,
    "start_time": "2024-11-03T02:47:52.784Z"
   },
   {
    "duration": 11,
    "start_time": "2024-11-03T02:47:53.733Z"
   },
   {
    "duration": 7,
    "start_time": "2024-11-03T02:47:53.746Z"
   },
   {
    "duration": 10,
    "start_time": "2024-11-03T02:47:53.756Z"
   },
   {
    "duration": 23,
    "start_time": "2024-11-03T02:47:53.768Z"
   },
   {
    "duration": 31,
    "start_time": "2024-11-03T02:47:53.794Z"
   },
   {
    "duration": 7,
    "start_time": "2024-11-03T02:47:53.827Z"
   },
   {
    "duration": 10,
    "start_time": "2024-11-03T02:47:53.837Z"
   },
   {
    "duration": 5,
    "start_time": "2024-11-03T02:47:53.848Z"
   },
   {
    "duration": 37,
    "start_time": "2024-11-03T02:47:53.855Z"
   },
   {
    "duration": 7,
    "start_time": "2024-11-03T02:47:53.893Z"
   },
   {
    "duration": 90,
    "start_time": "2024-11-03T02:47:53.901Z"
   },
   {
    "duration": 11,
    "start_time": "2024-11-03T02:47:53.993Z"
   },
   {
    "duration": 6,
    "start_time": "2024-11-03T02:47:54.006Z"
   },
   {
    "duration": 6,
    "start_time": "2024-11-03T02:47:54.013Z"
   },
   {
    "duration": 3,
    "start_time": "2024-11-03T02:47:54.020Z"
   },
   {
    "duration": 14,
    "start_time": "2024-11-03T02:47:54.026Z"
   },
   {
    "duration": 7,
    "start_time": "2024-11-03T02:47:54.042Z"
   },
   {
    "duration": 46,
    "start_time": "2024-11-03T02:47:54.051Z"
   },
   {
    "duration": 9,
    "start_time": "2024-11-03T02:47:54.099Z"
   },
   {
    "duration": 4,
    "start_time": "2024-11-03T02:47:54.110Z"
   },
   {
    "duration": 5,
    "start_time": "2024-11-03T02:47:54.115Z"
   },
   {
    "duration": 3,
    "start_time": "2024-11-03T02:47:54.124Z"
   },
   {
    "duration": 5,
    "start_time": "2024-11-03T02:47:54.129Z"
   },
   {
    "duration": 715,
    "start_time": "2024-11-03T02:47:54.135Z"
   },
   {
    "duration": 604,
    "start_time": "2024-11-03T02:47:54.854Z"
   },
   {
    "duration": 8,
    "start_time": "2024-11-03T02:47:55.460Z"
   },
   {
    "duration": 4,
    "start_time": "2024-11-03T02:47:55.469Z"
   },
   {
    "duration": 0,
    "start_time": "2024-11-03T02:47:55.475Z"
   },
   {
    "duration": 0,
    "start_time": "2024-11-03T02:47:55.487Z"
   },
   {
    "duration": 0,
    "start_time": "2024-11-03T02:47:55.490Z"
   },
   {
    "duration": 0,
    "start_time": "2024-11-03T02:47:55.491Z"
   },
   {
    "duration": 0,
    "start_time": "2024-11-03T02:47:55.492Z"
   },
   {
    "duration": 0,
    "start_time": "2024-11-03T02:47:55.494Z"
   },
   {
    "duration": 0,
    "start_time": "2024-11-03T02:47:55.495Z"
   },
   {
    "duration": 0,
    "start_time": "2024-11-03T02:47:55.497Z"
   },
   {
    "duration": 0,
    "start_time": "2024-11-03T02:47:55.498Z"
   },
   {
    "duration": 0,
    "start_time": "2024-11-03T02:47:55.499Z"
   },
   {
    "duration": 16,
    "start_time": "2024-11-03T02:48:20.493Z"
   },
   {
    "duration": 3,
    "start_time": "2024-11-03T02:48:20.513Z"
   },
   {
    "duration": 3,
    "start_time": "2024-11-03T02:48:20.518Z"
   },
   {
    "duration": 2,
    "start_time": "2024-11-03T02:48:20.523Z"
   },
   {
    "duration": 4,
    "start_time": "2024-11-03T02:48:20.529Z"
   },
   {
    "duration": 2,
    "start_time": "2024-11-03T02:48:20.536Z"
   },
   {
    "duration": 46,
    "start_time": "2024-11-03T02:48:20.540Z"
   },
   {
    "duration": 234,
    "start_time": "2024-11-03T02:48:20.593Z"
   },
   {
    "duration": 15,
    "start_time": "2024-11-03T02:48:20.828Z"
   },
   {
    "duration": 15,
    "start_time": "2024-11-03T02:48:20.845Z"
   },
   {
    "duration": 0,
    "start_time": "2024-11-03T02:48:20.862Z"
   },
   {
    "duration": 5,
    "start_time": "2024-11-03T02:49:43.531Z"
   },
   {
    "duration": 927,
    "start_time": "2024-11-03T02:49:49.607Z"
   },
   {
    "duration": 760,
    "start_time": "2024-11-03T02:50:16.281Z"
   },
   {
    "duration": 3,
    "start_time": "2024-11-03T02:51:48.258Z"
   },
   {
    "duration": 850,
    "start_time": "2024-11-03T02:51:48.263Z"
   },
   {
    "duration": 10,
    "start_time": "2024-11-03T02:51:49.115Z"
   },
   {
    "duration": 6,
    "start_time": "2024-11-03T02:51:49.127Z"
   },
   {
    "duration": 10,
    "start_time": "2024-11-03T02:51:49.136Z"
   },
   {
    "duration": 7,
    "start_time": "2024-11-03T02:51:49.147Z"
   },
   {
    "duration": 52,
    "start_time": "2024-11-03T02:51:49.156Z"
   },
   {
    "duration": 7,
    "start_time": "2024-11-03T02:51:49.210Z"
   },
   {
    "duration": 10,
    "start_time": "2024-11-03T02:51:49.218Z"
   },
   {
    "duration": 5,
    "start_time": "2024-11-03T02:51:49.230Z"
   },
   {
    "duration": 8,
    "start_time": "2024-11-03T02:51:49.236Z"
   },
   {
    "duration": 5,
    "start_time": "2024-11-03T02:51:49.246Z"
   },
   {
    "duration": 96,
    "start_time": "2024-11-03T02:51:49.252Z"
   },
   {
    "duration": 11,
    "start_time": "2024-11-03T02:51:49.352Z"
   },
   {
    "duration": 19,
    "start_time": "2024-11-03T02:51:49.366Z"
   },
   {
    "duration": 6,
    "start_time": "2024-11-03T02:51:49.387Z"
   },
   {
    "duration": 2,
    "start_time": "2024-11-03T02:51:49.394Z"
   },
   {
    "duration": 14,
    "start_time": "2024-11-03T02:51:49.398Z"
   },
   {
    "duration": 6,
    "start_time": "2024-11-03T02:51:49.414Z"
   },
   {
    "duration": 16,
    "start_time": "2024-11-03T02:51:49.422Z"
   },
   {
    "duration": 7,
    "start_time": "2024-11-03T02:51:49.440Z"
   },
   {
    "duration": 38,
    "start_time": "2024-11-03T02:51:49.449Z"
   },
   {
    "duration": 6,
    "start_time": "2024-11-03T02:51:49.489Z"
   },
   {
    "duration": 4,
    "start_time": "2024-11-03T02:51:49.496Z"
   },
   {
    "duration": 4,
    "start_time": "2024-11-03T02:51:49.502Z"
   },
   {
    "duration": 747,
    "start_time": "2024-11-03T02:51:49.508Z"
   },
   {
    "duration": 675,
    "start_time": "2024-11-03T02:51:50.257Z"
   },
   {
    "duration": 7,
    "start_time": "2024-11-03T02:51:50.934Z"
   },
   {
    "duration": 11,
    "start_time": "2024-11-03T02:51:50.943Z"
   },
   {
    "duration": 2,
    "start_time": "2024-11-03T02:51:50.956Z"
   },
   {
    "duration": 3,
    "start_time": "2024-11-03T02:51:50.960Z"
   },
   {
    "duration": 2,
    "start_time": "2024-11-03T02:51:50.987Z"
   },
   {
    "duration": 4,
    "start_time": "2024-11-03T02:51:50.991Z"
   },
   {
    "duration": 3,
    "start_time": "2024-11-03T02:51:50.996Z"
   },
   {
    "duration": 24,
    "start_time": "2024-11-03T02:51:51.001Z"
   },
   {
    "duration": 231,
    "start_time": "2024-11-03T02:51:51.026Z"
   },
   {
    "duration": 12,
    "start_time": "2024-11-03T02:51:51.259Z"
   },
   {
    "duration": 3,
    "start_time": "2024-11-03T02:51:51.272Z"
   },
   {
    "duration": 2,
    "start_time": "2024-11-03T02:51:51.287Z"
   },
   {
    "duration": 639,
    "start_time": "2024-11-03T02:53:08.280Z"
   },
   {
    "duration": 648,
    "start_time": "2024-11-03T02:53:20.278Z"
   },
   {
    "duration": 3,
    "start_time": "2024-11-03T02:53:27.240Z"
   },
   {
    "duration": 848,
    "start_time": "2024-11-03T02:53:27.245Z"
   },
   {
    "duration": 10,
    "start_time": "2024-11-03T02:53:28.095Z"
   },
   {
    "duration": 7,
    "start_time": "2024-11-03T02:53:28.108Z"
   },
   {
    "duration": 21,
    "start_time": "2024-11-03T02:53:28.118Z"
   },
   {
    "duration": 7,
    "start_time": "2024-11-03T02:53:28.142Z"
   },
   {
    "duration": 46,
    "start_time": "2024-11-03T02:53:28.151Z"
   },
   {
    "duration": 7,
    "start_time": "2024-11-03T02:53:28.199Z"
   },
   {
    "duration": 8,
    "start_time": "2024-11-03T02:53:28.207Z"
   },
   {
    "duration": 6,
    "start_time": "2024-11-03T02:53:28.217Z"
   },
   {
    "duration": 8,
    "start_time": "2024-11-03T02:53:28.226Z"
   },
   {
    "duration": 5,
    "start_time": "2024-11-03T02:53:28.236Z"
   },
   {
    "duration": 101,
    "start_time": "2024-11-03T02:53:28.244Z"
   },
   {
    "duration": 11,
    "start_time": "2024-11-03T02:53:28.350Z"
   },
   {
    "duration": 23,
    "start_time": "2024-11-03T02:53:28.363Z"
   },
   {
    "duration": 4,
    "start_time": "2024-11-03T02:53:28.388Z"
   },
   {
    "duration": 2,
    "start_time": "2024-11-03T02:53:28.394Z"
   },
   {
    "duration": 17,
    "start_time": "2024-11-03T02:53:28.398Z"
   },
   {
    "duration": 6,
    "start_time": "2024-11-03T02:53:28.417Z"
   },
   {
    "duration": 18,
    "start_time": "2024-11-03T02:53:28.425Z"
   },
   {
    "duration": 6,
    "start_time": "2024-11-03T02:53:28.445Z"
   },
   {
    "duration": 4,
    "start_time": "2024-11-03T02:53:28.486Z"
   },
   {
    "duration": 5,
    "start_time": "2024-11-03T02:53:28.492Z"
   },
   {
    "duration": 4,
    "start_time": "2024-11-03T02:53:28.498Z"
   },
   {
    "duration": 5,
    "start_time": "2024-11-03T02:53:28.504Z"
   },
   {
    "duration": 734,
    "start_time": "2024-11-03T02:53:28.512Z"
   },
   {
    "duration": 598,
    "start_time": "2024-11-03T02:53:29.248Z"
   },
   {
    "duration": 7,
    "start_time": "2024-11-03T02:53:29.848Z"
   },
   {
    "duration": 12,
    "start_time": "2024-11-03T02:53:29.857Z"
   },
   {
    "duration": 2,
    "start_time": "2024-11-03T02:53:29.887Z"
   },
   {
    "duration": 3,
    "start_time": "2024-11-03T02:53:29.891Z"
   },
   {
    "duration": 2,
    "start_time": "2024-11-03T02:53:29.896Z"
   },
   {
    "duration": 4,
    "start_time": "2024-11-03T02:53:29.900Z"
   },
   {
    "duration": 2,
    "start_time": "2024-11-03T02:53:29.906Z"
   },
   {
    "duration": 16,
    "start_time": "2024-11-03T02:53:29.909Z"
   },
   {
    "duration": 215,
    "start_time": "2024-11-03T02:53:29.927Z"
   },
   {
    "duration": 10,
    "start_time": "2024-11-03T02:53:30.144Z"
   },
   {
    "duration": 644,
    "start_time": "2024-11-03T02:53:30.158Z"
   },
   {
    "duration": 0,
    "start_time": "2024-11-03T02:53:30.803Z"
   },
   {
    "duration": 351,
    "start_time": "2024-11-03T02:59:28.749Z"
   },
   {
    "duration": 2,
    "start_time": "2024-11-03T03:00:08.287Z"
   },
   {
    "duration": 36,
    "start_time": "2024-11-03T03:00:58.292Z"
   },
   {
    "duration": 33,
    "start_time": "2024-11-03T03:01:35.041Z"
   },
   {
    "duration": 27,
    "start_time": "2024-11-03T03:01:43.766Z"
   },
   {
    "duration": 107,
    "start_time": "2024-11-03T03:01:56.852Z"
   },
   {
    "duration": 103,
    "start_time": "2024-11-03T03:02:02.776Z"
   },
   {
    "duration": 116,
    "start_time": "2024-11-03T03:02:07.052Z"
   },
   {
    "duration": 120,
    "start_time": "2024-11-03T03:02:10.367Z"
   },
   {
    "duration": 104,
    "start_time": "2024-11-03T03:02:11.592Z"
   },
   {
    "duration": 119,
    "start_time": "2024-11-03T03:02:12.768Z"
   },
   {
    "duration": 104,
    "start_time": "2024-11-03T03:02:13.872Z"
   },
   {
    "duration": 173,
    "start_time": "2024-11-03T03:02:14.784Z"
   },
   {
    "duration": 127,
    "start_time": "2024-11-03T03:02:15.664Z"
   },
   {
    "duration": 114,
    "start_time": "2024-11-03T03:02:16.452Z"
   },
   {
    "duration": 162,
    "start_time": "2024-11-03T03:02:17.319Z"
   },
   {
    "duration": 122,
    "start_time": "2024-11-03T03:02:18.148Z"
   },
   {
    "duration": 111,
    "start_time": "2024-11-03T03:02:19.336Z"
   },
   {
    "duration": 125,
    "start_time": "2024-11-03T03:02:20.080Z"
   },
   {
    "duration": 101,
    "start_time": "2024-11-03T03:02:20.924Z"
   },
   {
    "duration": 102,
    "start_time": "2024-11-03T03:02:21.712Z"
   },
   {
    "duration": 118,
    "start_time": "2024-11-03T03:02:22.553Z"
   },
   {
    "duration": 108,
    "start_time": "2024-11-03T03:02:23.472Z"
   },
   {
    "duration": 104,
    "start_time": "2024-11-03T03:02:26.176Z"
   },
   {
    "duration": 147,
    "start_time": "2024-11-03T03:02:27.388Z"
   },
   {
    "duration": 101,
    "start_time": "2024-11-03T03:02:28.769Z"
   },
   {
    "duration": 131,
    "start_time": "2024-11-03T03:02:29.728Z"
   },
   {
    "duration": 105,
    "start_time": "2024-11-03T03:02:30.528Z"
   },
   {
    "duration": 21,
    "start_time": "2024-11-03T03:04:06.852Z"
   },
   {
    "duration": 3,
    "start_time": "2024-11-03T03:09:28.995Z"
   },
   {
    "duration": 14,
    "start_time": "2024-11-03T03:09:47.491Z"
   },
   {
    "duration": 54,
    "start_time": "2024-11-03T03:09:56.086Z"
   },
   {
    "duration": 41,
    "start_time": "2024-11-03T03:10:06.854Z"
   },
   {
    "duration": 40,
    "start_time": "2024-11-03T03:10:50.664Z"
   },
   {
    "duration": 7,
    "start_time": "2024-11-03T03:11:25.591Z"
   },
   {
    "duration": 3,
    "start_time": "2024-11-03T03:12:43.229Z"
   },
   {
    "duration": 8,
    "start_time": "2024-11-03T03:15:08.503Z"
   },
   {
    "duration": 13,
    "start_time": "2024-11-03T03:15:59.847Z"
   },
   {
    "duration": 12,
    "start_time": "2024-11-03T03:16:06.399Z"
   },
   {
    "duration": 6,
    "start_time": "2024-11-03T03:16:18.163Z"
   },
   {
    "duration": 7,
    "start_time": "2024-11-03T03:16:47.539Z"
   },
   {
    "duration": 6,
    "start_time": "2024-11-03T03:17:05.963Z"
   },
   {
    "duration": 39,
    "start_time": "2024-11-03T03:21:01.133Z"
   },
   {
    "duration": 3,
    "start_time": "2024-11-03T03:21:19.966Z"
   },
   {
    "duration": 4,
    "start_time": "2024-11-03T03:21:25.429Z"
   },
   {
    "duration": 114,
    "start_time": "2024-11-03T03:21:41.648Z"
   },
   {
    "duration": 4,
    "start_time": "2024-11-03T03:21:53.681Z"
   },
   {
    "duration": 4,
    "start_time": "2024-11-03T03:21:58.167Z"
   },
   {
    "duration": 3,
    "start_time": "2024-11-03T03:22:01.133Z"
   },
   {
    "duration": 26,
    "start_time": "2024-11-03T03:22:04.504Z"
   },
   {
    "duration": 5,
    "start_time": "2024-11-03T03:23:59.033Z"
   },
   {
    "duration": 4,
    "start_time": "2024-11-03T03:24:08.161Z"
   },
   {
    "duration": 7,
    "start_time": "2024-11-03T03:24:50.554Z"
   },
   {
    "duration": 9,
    "start_time": "2024-11-03T03:25:10.941Z"
   },
   {
    "duration": 7,
    "start_time": "2024-11-03T03:25:22.001Z"
   },
   {
    "duration": 43,
    "start_time": "2024-11-03T03:26:41.771Z"
   },
   {
    "duration": 52,
    "start_time": "2024-11-03T03:26:57.251Z"
   },
   {
    "duration": 5,
    "start_time": "2024-11-03T03:27:13.860Z"
   },
   {
    "duration": 3,
    "start_time": "2024-11-03T03:27:54.751Z"
   },
   {
    "duration": 3,
    "start_time": "2024-11-03T03:28:12.717Z"
   },
   {
    "duration": 21,
    "start_time": "2024-11-03T03:28:33.188Z"
   },
   {
    "duration": 4,
    "start_time": "2024-11-03T03:28:38.063Z"
   },
   {
    "duration": 4,
    "start_time": "2024-11-03T03:28:44.755Z"
   },
   {
    "duration": 3,
    "start_time": "2024-11-03T03:29:12.875Z"
   },
   {
    "duration": 8,
    "start_time": "2024-11-03T03:29:51.688Z"
   },
   {
    "duration": 4,
    "start_time": "2024-11-03T03:30:02.071Z"
   },
   {
    "duration": 3,
    "start_time": "2024-11-03T03:30:36.562Z"
   },
   {
    "duration": 2,
    "start_time": "2024-11-03T04:11:10.058Z"
   },
   {
    "duration": 832,
    "start_time": "2024-11-03T04:11:10.329Z"
   },
   {
    "duration": 12,
    "start_time": "2024-11-03T04:11:11.163Z"
   },
   {
    "duration": 15,
    "start_time": "2024-11-03T04:11:11.177Z"
   },
   {
    "duration": 10,
    "start_time": "2024-11-03T04:11:11.264Z"
   },
   {
    "duration": 6,
    "start_time": "2024-11-03T04:11:11.685Z"
   },
   {
    "duration": 20,
    "start_time": "2024-11-03T04:11:12.007Z"
   },
   {
    "duration": 7,
    "start_time": "2024-11-03T04:11:12.469Z"
   },
   {
    "duration": 9,
    "start_time": "2024-11-03T04:11:12.795Z"
   },
   {
    "duration": 6,
    "start_time": "2024-11-03T04:11:13.533Z"
   },
   {
    "duration": 8,
    "start_time": "2024-11-03T04:11:13.997Z"
   },
   {
    "duration": 6,
    "start_time": "2024-11-03T04:11:14.405Z"
   },
   {
    "duration": 67,
    "start_time": "2024-11-03T04:11:15.610Z"
   },
   {
    "duration": 10,
    "start_time": "2024-11-03T04:11:16.024Z"
   },
   {
    "duration": 6,
    "start_time": "2024-11-03T04:11:16.405Z"
   },
   {
    "duration": 4,
    "start_time": "2024-11-03T04:11:16.725Z"
   },
   {
    "duration": 2,
    "start_time": "2024-11-03T04:11:18.085Z"
   },
   {
    "duration": 16,
    "start_time": "2024-11-03T04:11:21.913Z"
   },
   {
    "duration": 7,
    "start_time": "2024-11-03T04:11:22.453Z"
   },
   {
    "duration": 19,
    "start_time": "2024-11-03T04:11:23.396Z"
   },
   {
    "duration": 9,
    "start_time": "2024-11-03T04:11:24.414Z"
   },
   {
    "duration": 5,
    "start_time": "2024-11-03T04:11:27.836Z"
   },
   {
    "duration": 6,
    "start_time": "2024-11-03T04:11:28.257Z"
   },
   {
    "duration": 6,
    "start_time": "2024-11-03T04:11:29.500Z"
   },
   {
    "duration": 8,
    "start_time": "2024-11-03T04:11:29.852Z"
   },
   {
    "duration": 717,
    "start_time": "2024-11-03T04:11:30.853Z"
   },
   {
    "duration": 618,
    "start_time": "2024-11-03T04:11:31.572Z"
   },
   {
    "duration": 7,
    "start_time": "2024-11-03T04:11:33.557Z"
   },
   {
    "duration": 6,
    "start_time": "2024-11-03T04:11:34.192Z"
   },
   {
    "duration": 4,
    "start_time": "2024-11-03T04:11:35.376Z"
   },
   {
    "duration": 3,
    "start_time": "2024-11-03T04:11:35.844Z"
   },
   {
    "duration": 7,
    "start_time": "2024-11-03T04:11:36.404Z"
   },
   {
    "duration": 5,
    "start_time": "2024-11-03T04:11:38.440Z"
   },
   {
    "duration": 2,
    "start_time": "2024-11-03T04:11:38.953Z"
   },
   {
    "duration": 13,
    "start_time": "2024-11-03T04:12:43.212Z"
   },
   {
    "duration": 11,
    "start_time": "2024-11-03T04:12:51.217Z"
   },
   {
    "duration": 4,
    "start_time": "2024-11-03T04:13:04.100Z"
   },
   {
    "duration": 39,
    "start_time": "2024-11-03T04:13:14.670Z"
   },
   {
    "duration": 3,
    "start_time": "2024-11-03T04:13:30.731Z"
   },
   {
    "duration": 837,
    "start_time": "2024-11-03T04:13:30.736Z"
   },
   {
    "duration": 12,
    "start_time": "2024-11-03T04:13:31.575Z"
   },
   {
    "duration": 8,
    "start_time": "2024-11-03T04:13:31.589Z"
   },
   {
    "duration": 10,
    "start_time": "2024-11-03T04:13:31.599Z"
   },
   {
    "duration": 6,
    "start_time": "2024-11-03T04:13:31.611Z"
   },
   {
    "duration": 22,
    "start_time": "2024-11-03T04:13:31.619Z"
   },
   {
    "duration": 6,
    "start_time": "2024-11-03T04:13:31.643Z"
   },
   {
    "duration": 42,
    "start_time": "2024-11-03T04:13:31.651Z"
   },
   {
    "duration": 6,
    "start_time": "2024-11-03T04:13:31.695Z"
   },
   {
    "duration": 8,
    "start_time": "2024-11-03T04:13:31.702Z"
   },
   {
    "duration": 6,
    "start_time": "2024-11-03T04:13:31.713Z"
   },
   {
    "duration": 102,
    "start_time": "2024-11-03T04:13:31.720Z"
   },
   {
    "duration": 11,
    "start_time": "2024-11-03T04:13:31.825Z"
   },
   {
    "duration": 6,
    "start_time": "2024-11-03T04:13:31.838Z"
   },
   {
    "duration": 5,
    "start_time": "2024-11-03T04:13:31.846Z"
   },
   {
    "duration": 3,
    "start_time": "2024-11-03T04:13:31.852Z"
   },
   {
    "duration": 42,
    "start_time": "2024-11-03T04:13:31.856Z"
   },
   {
    "duration": 6,
    "start_time": "2024-11-03T04:13:31.900Z"
   },
   {
    "duration": 17,
    "start_time": "2024-11-03T04:13:31.908Z"
   },
   {
    "duration": 8,
    "start_time": "2024-11-03T04:13:31.927Z"
   },
   {
    "duration": 5,
    "start_time": "2024-11-03T04:13:31.937Z"
   },
   {
    "duration": 5,
    "start_time": "2024-11-03T04:13:31.943Z"
   },
   {
    "duration": 36,
    "start_time": "2024-11-03T04:13:31.950Z"
   },
   {
    "duration": 7,
    "start_time": "2024-11-03T04:13:31.988Z"
   },
   {
    "duration": 691,
    "start_time": "2024-11-03T04:13:31.996Z"
   },
   {
    "duration": 611,
    "start_time": "2024-11-03T04:13:32.689Z"
   },
   {
    "duration": 8,
    "start_time": "2024-11-03T04:13:33.302Z"
   },
   {
    "duration": 7,
    "start_time": "2024-11-03T04:13:33.311Z"
   },
   {
    "duration": 4,
    "start_time": "2024-11-03T04:13:33.320Z"
   },
   {
    "duration": 3,
    "start_time": "2024-11-03T04:13:33.325Z"
   },
   {
    "duration": 5,
    "start_time": "2024-11-03T04:13:33.330Z"
   },
   {
    "duration": 3,
    "start_time": "2024-11-03T04:13:33.337Z"
   },
   {
    "duration": 83,
    "start_time": "2024-11-03T04:13:33.342Z"
   },
   {
    "duration": 0,
    "start_time": "2024-11-03T04:13:33.427Z"
   },
   {
    "duration": 0,
    "start_time": "2024-11-03T04:13:33.429Z"
   },
   {
    "duration": 0,
    "start_time": "2024-11-03T04:13:33.430Z"
   },
   {
    "duration": 0,
    "start_time": "2024-11-03T04:13:33.431Z"
   },
   {
    "duration": 0,
    "start_time": "2024-11-03T04:13:33.433Z"
   },
   {
    "duration": 3,
    "start_time": "2024-11-03T04:14:17.599Z"
   },
   {
    "duration": 883,
    "start_time": "2024-11-03T04:14:17.604Z"
   },
   {
    "duration": 10,
    "start_time": "2024-11-03T04:14:18.489Z"
   },
   {
    "duration": 6,
    "start_time": "2024-11-03T04:14:18.500Z"
   },
   {
    "duration": 11,
    "start_time": "2024-11-03T04:14:18.508Z"
   },
   {
    "duration": 7,
    "start_time": "2024-11-03T04:14:18.521Z"
   },
   {
    "duration": 61,
    "start_time": "2024-11-03T04:14:18.530Z"
   },
   {
    "duration": 6,
    "start_time": "2024-11-03T04:14:18.593Z"
   },
   {
    "duration": 8,
    "start_time": "2024-11-03T04:14:18.601Z"
   },
   {
    "duration": 5,
    "start_time": "2024-11-03T04:14:18.613Z"
   },
   {
    "duration": 8,
    "start_time": "2024-11-03T04:14:18.620Z"
   },
   {
    "duration": 6,
    "start_time": "2024-11-03T04:14:18.629Z"
   },
   {
    "duration": 106,
    "start_time": "2024-11-03T04:14:18.637Z"
   },
   {
    "duration": 10,
    "start_time": "2024-11-03T04:14:18.745Z"
   },
   {
    "duration": 5,
    "start_time": "2024-11-03T04:14:18.757Z"
   },
   {
    "duration": 4,
    "start_time": "2024-11-03T04:14:18.763Z"
   },
   {
    "duration": 2,
    "start_time": "2024-11-03T04:14:18.788Z"
   },
   {
    "duration": 14,
    "start_time": "2024-11-03T04:14:18.791Z"
   },
   {
    "duration": 5,
    "start_time": "2024-11-03T04:14:18.807Z"
   },
   {
    "duration": 17,
    "start_time": "2024-11-03T04:14:18.814Z"
   },
   {
    "duration": 7,
    "start_time": "2024-11-03T04:14:18.832Z"
   },
   {
    "duration": 4,
    "start_time": "2024-11-03T04:14:18.841Z"
   },
   {
    "duration": 43,
    "start_time": "2024-11-03T04:14:18.847Z"
   },
   {
    "duration": 5,
    "start_time": "2024-11-03T04:14:18.891Z"
   },
   {
    "duration": 5,
    "start_time": "2024-11-03T04:14:18.897Z"
   },
   {
    "duration": 719,
    "start_time": "2024-11-03T04:14:18.903Z"
   },
   {
    "duration": 588,
    "start_time": "2024-11-03T04:14:19.626Z"
   },
   {
    "duration": 8,
    "start_time": "2024-11-03T04:14:20.218Z"
   },
   {
    "duration": 6,
    "start_time": "2024-11-03T04:14:20.227Z"
   },
   {
    "duration": 3,
    "start_time": "2024-11-03T04:14:20.235Z"
   },
   {
    "duration": 3,
    "start_time": "2024-11-03T04:14:20.240Z"
   },
   {
    "duration": 6,
    "start_time": "2024-11-03T04:14:20.245Z"
   },
   {
    "duration": 35,
    "start_time": "2024-11-03T04:14:20.252Z"
   },
   {
    "duration": 37,
    "start_time": "2024-11-03T04:14:20.290Z"
   },
   {
    "duration": 0,
    "start_time": "2024-11-03T04:14:20.330Z"
   },
   {
    "duration": 0,
    "start_time": "2024-11-03T04:14:20.331Z"
   },
   {
    "duration": 0,
    "start_time": "2024-11-03T04:14:20.332Z"
   },
   {
    "duration": 0,
    "start_time": "2024-11-03T04:14:20.334Z"
   },
   {
    "duration": 0,
    "start_time": "2024-11-03T04:14:20.335Z"
   },
   {
    "duration": 4,
    "start_time": "2024-11-03T04:16:05.041Z"
   },
   {
    "duration": 50,
    "start_time": "2024-11-03T04:16:12.249Z"
   },
   {
    "duration": 46,
    "start_time": "2024-11-03T04:17:33.172Z"
   },
   {
    "duration": 42,
    "start_time": "2024-11-03T04:26:17.359Z"
   },
   {
    "duration": 41,
    "start_time": "2024-11-03T04:27:26.465Z"
   },
   {
    "duration": 3,
    "start_time": "2024-11-03T04:27:33.599Z"
   },
   {
    "duration": 937,
    "start_time": "2024-11-03T04:27:33.604Z"
   },
   {
    "duration": 11,
    "start_time": "2024-11-03T04:27:34.543Z"
   },
   {
    "duration": 7,
    "start_time": "2024-11-03T04:27:34.556Z"
   },
   {
    "duration": 23,
    "start_time": "2024-11-03T04:27:34.566Z"
   },
   {
    "duration": 6,
    "start_time": "2024-11-03T04:27:34.590Z"
   },
   {
    "duration": 28,
    "start_time": "2024-11-03T04:27:34.598Z"
   },
   {
    "duration": 7,
    "start_time": "2024-11-03T04:27:34.628Z"
   },
   {
    "duration": 9,
    "start_time": "2024-11-03T04:27:34.637Z"
   },
   {
    "duration": 5,
    "start_time": "2024-11-03T04:27:34.648Z"
   },
   {
    "duration": 9,
    "start_time": "2024-11-03T04:27:34.686Z"
   },
   {
    "duration": 6,
    "start_time": "2024-11-03T04:27:34.697Z"
   },
   {
    "duration": 89,
    "start_time": "2024-11-03T04:27:34.705Z"
   },
   {
    "duration": 11,
    "start_time": "2024-11-03T04:27:34.799Z"
   },
   {
    "duration": 6,
    "start_time": "2024-11-03T04:27:34.812Z"
   },
   {
    "duration": 4,
    "start_time": "2024-11-03T04:27:34.820Z"
   },
   {
    "duration": 3,
    "start_time": "2024-11-03T04:27:34.825Z"
   },
   {
    "duration": 14,
    "start_time": "2024-11-03T04:27:34.829Z"
   },
   {
    "duration": 4,
    "start_time": "2024-11-03T04:27:34.845Z"
   },
   {
    "duration": 47,
    "start_time": "2024-11-03T04:27:34.851Z"
   },
   {
    "duration": 7,
    "start_time": "2024-11-03T04:27:34.900Z"
   },
   {
    "duration": 4,
    "start_time": "2024-11-03T04:27:34.909Z"
   },
   {
    "duration": 7,
    "start_time": "2024-11-03T04:27:34.915Z"
   },
   {
    "duration": 4,
    "start_time": "2024-11-03T04:27:34.924Z"
   },
   {
    "duration": 5,
    "start_time": "2024-11-03T04:27:34.931Z"
   },
   {
    "duration": 859,
    "start_time": "2024-11-03T04:27:34.938Z"
   },
   {
    "duration": 626,
    "start_time": "2024-11-03T04:27:35.799Z"
   },
   {
    "duration": 7,
    "start_time": "2024-11-03T04:27:36.428Z"
   },
   {
    "duration": 8,
    "start_time": "2024-11-03T04:27:36.437Z"
   },
   {
    "duration": 3,
    "start_time": "2024-11-03T04:27:36.447Z"
   },
   {
    "duration": 3,
    "start_time": "2024-11-03T04:27:36.452Z"
   },
   {
    "duration": 31,
    "start_time": "2024-11-03T04:27:36.458Z"
   },
   {
    "duration": 5,
    "start_time": "2024-11-03T04:27:36.490Z"
   },
   {
    "duration": 2,
    "start_time": "2024-11-03T04:27:36.497Z"
   },
   {
    "duration": 22,
    "start_time": "2024-11-03T04:27:36.500Z"
   },
   {
    "duration": 205,
    "start_time": "2024-11-03T04:27:36.524Z"
   },
   {
    "duration": 11,
    "start_time": "2024-11-03T04:27:36.731Z"
   },
   {
    "duration": 2,
    "start_time": "2024-11-03T04:27:36.744Z"
   },
   {
    "duration": 43,
    "start_time": "2024-11-03T04:27:36.748Z"
   },
   {
    "duration": 37,
    "start_time": "2024-11-03T04:27:36.793Z"
   },
   {
    "duration": 178,
    "start_time": "2024-11-03T17:17:08.620Z"
   },
   {
    "duration": 19,
    "start_time": "2024-11-03T17:18:47.237Z"
   },
   {
    "duration": 15,
    "start_time": "2024-11-03T17:23:10.982Z"
   },
   {
    "duration": 293,
    "start_time": "2024-11-03T17:23:15.977Z"
   },
   {
    "duration": 1080,
    "start_time": "2024-11-03T17:23:16.272Z"
   },
   {
    "duration": 11,
    "start_time": "2024-11-03T17:23:17.355Z"
   },
   {
    "duration": 13,
    "start_time": "2024-11-03T17:23:17.368Z"
   },
   {
    "duration": 21,
    "start_time": "2024-11-03T17:23:17.384Z"
   },
   {
    "duration": 7,
    "start_time": "2024-11-03T17:23:17.407Z"
   },
   {
    "duration": 24,
    "start_time": "2024-11-03T17:23:17.415Z"
   },
   {
    "duration": 6,
    "start_time": "2024-11-03T17:23:17.440Z"
   },
   {
    "duration": 8,
    "start_time": "2024-11-03T17:23:17.448Z"
   },
   {
    "duration": 6,
    "start_time": "2024-11-03T17:23:17.457Z"
   },
   {
    "duration": 48,
    "start_time": "2024-11-03T17:23:17.465Z"
   },
   {
    "duration": 6,
    "start_time": "2024-11-03T17:23:17.515Z"
   },
   {
    "duration": 111,
    "start_time": "2024-11-03T17:23:17.522Z"
   },
   {
    "duration": 12,
    "start_time": "2024-11-03T17:23:17.637Z"
   },
   {
    "duration": 5,
    "start_time": "2024-11-03T17:23:17.651Z"
   },
   {
    "duration": 5,
    "start_time": "2024-11-03T17:23:17.659Z"
   },
   {
    "duration": 2,
    "start_time": "2024-11-03T17:23:17.667Z"
   },
   {
    "duration": 36,
    "start_time": "2024-11-03T17:23:17.671Z"
   },
   {
    "duration": 6,
    "start_time": "2024-11-03T17:23:17.709Z"
   },
   {
    "duration": 19,
    "start_time": "2024-11-03T17:23:17.716Z"
   },
   {
    "duration": 7,
    "start_time": "2024-11-03T17:23:17.737Z"
   },
   {
    "duration": 5,
    "start_time": "2024-11-03T17:23:17.745Z"
   },
   {
    "duration": 6,
    "start_time": "2024-11-03T17:23:17.752Z"
   },
   {
    "duration": 4,
    "start_time": "2024-11-03T17:23:17.760Z"
   },
   {
    "duration": 5,
    "start_time": "2024-11-03T17:23:17.805Z"
   },
   {
    "duration": 778,
    "start_time": "2024-11-03T17:23:17.813Z"
   },
   {
    "duration": 695,
    "start_time": "2024-11-03T17:23:18.593Z"
   },
   {
    "duration": 16,
    "start_time": "2024-11-03T17:23:19.290Z"
   },
   {
    "duration": 5,
    "start_time": "2024-11-03T17:23:19.309Z"
   },
   {
    "duration": 3,
    "start_time": "2024-11-03T17:23:19.316Z"
   },
   {
    "duration": 3,
    "start_time": "2024-11-03T17:23:19.321Z"
   },
   {
    "duration": 5,
    "start_time": "2024-11-03T17:23:19.326Z"
   },
   {
    "duration": 5,
    "start_time": "2024-11-03T17:23:19.332Z"
   },
   {
    "duration": 404,
    "start_time": "2024-11-03T17:23:19.339Z"
   },
   {
    "duration": 0,
    "start_time": "2024-11-03T17:23:19.745Z"
   },
   {
    "duration": 0,
    "start_time": "2024-11-03T17:23:19.746Z"
   },
   {
    "duration": 0,
    "start_time": "2024-11-03T17:23:19.747Z"
   },
   {
    "duration": 0,
    "start_time": "2024-11-03T17:23:19.749Z"
   },
   {
    "duration": 0,
    "start_time": "2024-11-03T17:23:19.750Z"
   },
   {
    "duration": 0,
    "start_time": "2024-11-03T17:23:19.751Z"
   },
   {
    "duration": 2,
    "start_time": "2024-11-03T17:23:49.346Z"
   },
   {
    "duration": 882,
    "start_time": "2024-11-03T17:23:49.350Z"
   },
   {
    "duration": 11,
    "start_time": "2024-11-03T17:23:50.234Z"
   },
   {
    "duration": 6,
    "start_time": "2024-11-03T17:23:50.248Z"
   },
   {
    "duration": 9,
    "start_time": "2024-11-03T17:23:50.256Z"
   },
   {
    "duration": 5,
    "start_time": "2024-11-03T17:23:50.267Z"
   },
   {
    "duration": 51,
    "start_time": "2024-11-03T17:23:50.274Z"
   },
   {
    "duration": 6,
    "start_time": "2024-11-03T17:23:50.327Z"
   },
   {
    "duration": 7,
    "start_time": "2024-11-03T17:23:50.335Z"
   },
   {
    "duration": 6,
    "start_time": "2024-11-03T17:23:50.345Z"
   },
   {
    "duration": 9,
    "start_time": "2024-11-03T17:23:50.352Z"
   },
   {
    "duration": 6,
    "start_time": "2024-11-03T17:23:50.362Z"
   },
   {
    "duration": 71,
    "start_time": "2024-11-03T17:23:50.405Z"
   },
   {
    "duration": 10,
    "start_time": "2024-11-03T17:23:50.478Z"
   },
   {
    "duration": 20,
    "start_time": "2024-11-03T17:23:50.490Z"
   },
   {
    "duration": 4,
    "start_time": "2024-11-03T17:23:50.511Z"
   },
   {
    "duration": 4,
    "start_time": "2024-11-03T17:23:52.553Z"
   },
   {
    "duration": 13,
    "start_time": "2024-11-03T17:23:53.165Z"
   },
   {
    "duration": 12,
    "start_time": "2024-11-03T17:24:56.266Z"
   },
   {
    "duration": 16,
    "start_time": "2024-11-03T17:24:58.144Z"
   },
   {
    "duration": 6,
    "start_time": "2024-11-03T17:24:58.722Z"
   },
   {
    "duration": 2,
    "start_time": "2024-11-03T17:25:56.662Z"
   },
   {
    "duration": 41,
    "start_time": "2024-11-03T17:27:08.841Z"
   },
   {
    "duration": 39,
    "start_time": "2024-11-03T17:30:04.558Z"
   },
   {
    "duration": 37,
    "start_time": "2024-11-03T17:31:12.261Z"
   },
   {
    "duration": 473,
    "start_time": "2024-11-03T17:31:51.499Z"
   },
   {
    "duration": 55,
    "start_time": "2024-11-03T17:32:58.438Z"
   },
   {
    "duration": 3,
    "start_time": "2024-11-03T17:33:14.153Z"
   },
   {
    "duration": 4,
    "start_time": "2024-11-03T17:33:30.073Z"
   },
   {
    "duration": 5,
    "start_time": "2024-11-03T17:35:05.870Z"
   },
   {
    "duration": 4,
    "start_time": "2024-11-03T17:35:31.800Z"
   },
   {
    "duration": 5,
    "start_time": "2024-11-03T17:35:40.148Z"
   },
   {
    "duration": 4,
    "start_time": "2024-11-03T17:36:41.208Z"
   },
   {
    "duration": 45,
    "start_time": "2024-11-03T17:37:48.162Z"
   },
   {
    "duration": 4,
    "start_time": "2024-11-03T17:39:41.125Z"
   },
   {
    "duration": 5,
    "start_time": "2024-11-03T17:40:55.046Z"
   },
   {
    "duration": 4,
    "start_time": "2024-11-03T17:42:17.094Z"
   },
   {
    "duration": 3,
    "start_time": "2024-11-03T17:43:42.403Z"
   },
   {
    "duration": 2,
    "start_time": "2024-11-03T17:43:53.044Z"
   },
   {
    "duration": 3,
    "start_time": "2024-11-03T17:44:13.504Z"
   },
   {
    "duration": 1052,
    "start_time": "2024-11-03T17:45:16.154Z"
   },
   {
    "duration": 5,
    "start_time": "2024-11-03T17:46:11.810Z"
   },
   {
    "duration": 11,
    "start_time": "2024-11-03T17:46:34.423Z"
   },
   {
    "duration": 6,
    "start_time": "2024-11-03T17:47:23.678Z"
   },
   {
    "duration": 9,
    "start_time": "2024-11-03T17:47:26.430Z"
   },
   {
    "duration": 2,
    "start_time": "2024-11-03T17:48:31.429Z"
   },
   {
    "duration": 4,
    "start_time": "2024-11-03T17:50:04.919Z"
   },
   {
    "duration": 4,
    "start_time": "2024-11-03T17:51:28.679Z"
   },
   {
    "duration": 2,
    "start_time": "2024-11-03T17:54:04.465Z"
   },
   {
    "duration": 953,
    "start_time": "2024-11-03T17:54:04.469Z"
   },
   {
    "duration": 14,
    "start_time": "2024-11-03T17:54:05.424Z"
   },
   {
    "duration": 8,
    "start_time": "2024-11-03T17:54:05.440Z"
   },
   {
    "duration": 9,
    "start_time": "2024-11-03T17:54:05.451Z"
   },
   {
    "duration": 5,
    "start_time": "2024-11-03T17:54:05.462Z"
   },
   {
    "duration": 53,
    "start_time": "2024-11-03T17:54:05.469Z"
   },
   {
    "duration": 8,
    "start_time": "2024-11-03T17:54:05.524Z"
   },
   {
    "duration": 15,
    "start_time": "2024-11-03T17:54:05.534Z"
   },
   {
    "duration": 9,
    "start_time": "2024-11-03T17:54:05.550Z"
   },
   {
    "duration": 7,
    "start_time": "2024-11-03T17:54:05.563Z"
   },
   {
    "duration": 33,
    "start_time": "2024-11-03T17:54:05.572Z"
   },
   {
    "duration": 102,
    "start_time": "2024-11-03T17:54:05.607Z"
   },
   {
    "duration": 14,
    "start_time": "2024-11-03T17:54:05.711Z"
   },
   {
    "duration": 6,
    "start_time": "2024-11-03T17:54:05.727Z"
   },
   {
    "duration": 4,
    "start_time": "2024-11-03T17:54:05.735Z"
   },
   {
    "duration": 6,
    "start_time": "2024-11-03T17:54:05.741Z"
   },
   {
    "duration": 15,
    "start_time": "2024-11-03T17:54:05.749Z"
   },
   {
    "duration": 6,
    "start_time": "2024-11-03T17:54:05.766Z"
   },
   {
    "duration": 30,
    "start_time": "2024-11-03T17:54:05.805Z"
   },
   {
    "duration": 13,
    "start_time": "2024-11-03T17:54:05.837Z"
   },
   {
    "duration": 7,
    "start_time": "2024-11-03T17:54:05.851Z"
   },
   {
    "duration": 5,
    "start_time": "2024-11-03T17:54:05.861Z"
   },
   {
    "duration": 5,
    "start_time": "2024-11-03T17:54:05.868Z"
   },
   {
    "duration": 32,
    "start_time": "2024-11-03T17:54:05.875Z"
   },
   {
    "duration": 900,
    "start_time": "2024-11-03T17:54:05.909Z"
   },
   {
    "duration": 818,
    "start_time": "2024-11-03T17:54:06.816Z"
   },
   {
    "duration": 17,
    "start_time": "2024-11-03T17:54:07.636Z"
   },
   {
    "duration": 6,
    "start_time": "2024-11-03T17:54:07.658Z"
   },
   {
    "duration": 4,
    "start_time": "2024-11-03T17:54:07.665Z"
   },
   {
    "duration": 3,
    "start_time": "2024-11-03T17:54:07.671Z"
   },
   {
    "duration": 30,
    "start_time": "2024-11-03T17:54:07.675Z"
   },
   {
    "duration": 4,
    "start_time": "2024-11-03T17:54:07.707Z"
   },
   {
    "duration": 8,
    "start_time": "2024-11-03T17:54:07.712Z"
   },
   {
    "duration": 26,
    "start_time": "2024-11-03T17:54:07.723Z"
   },
   {
    "duration": 210,
    "start_time": "2024-11-03T17:54:07.751Z"
   },
   {
    "duration": 12,
    "start_time": "2024-11-03T17:54:07.963Z"
   },
   {
    "duration": 5,
    "start_time": "2024-11-03T17:54:07.977Z"
   },
   {
    "duration": 50,
    "start_time": "2024-11-03T17:54:07.984Z"
   },
   {
    "duration": 5,
    "start_time": "2024-11-03T17:54:08.036Z"
   },
   {
    "duration": 8,
    "start_time": "2024-11-03T17:54:08.042Z"
   },
   {
    "duration": 4,
    "start_time": "2024-11-03T18:11:38.062Z"
   },
   {
    "duration": 4,
    "start_time": "2024-11-03T18:11:49.366Z"
   },
   {
    "duration": 4,
    "start_time": "2024-11-03T18:12:07.458Z"
   },
   {
    "duration": 4,
    "start_time": "2024-11-03T18:12:37.829Z"
   },
   {
    "duration": 4,
    "start_time": "2024-11-03T18:12:40.576Z"
   },
   {
    "duration": 39,
    "start_time": "2024-11-03T18:13:38.357Z"
   },
   {
    "duration": 50,
    "start_time": "2024-11-03T18:13:44.270Z"
   },
   {
    "duration": 36,
    "start_time": "2024-11-03T18:14:38.061Z"
   },
   {
    "duration": 66,
    "start_time": "2024-11-03T18:18:20.388Z"
   },
   {
    "duration": 28,
    "start_time": "2024-11-03T18:18:32.658Z"
   },
   {
    "duration": 25,
    "start_time": "2024-11-03T18:19:10.852Z"
   },
   {
    "duration": 77,
    "start_time": "2024-11-03T18:19:14.852Z"
   },
   {
    "duration": 30,
    "start_time": "2024-11-03T18:19:23.042Z"
   },
   {
    "duration": 2,
    "start_time": "2024-11-03T18:19:31.125Z"
   },
   {
    "duration": 958,
    "start_time": "2024-11-03T18:19:31.129Z"
   },
   {
    "duration": 10,
    "start_time": "2024-11-03T18:19:32.089Z"
   },
   {
    "duration": 8,
    "start_time": "2024-11-03T18:19:32.110Z"
   },
   {
    "duration": 12,
    "start_time": "2024-11-03T18:19:32.121Z"
   },
   {
    "duration": 9,
    "start_time": "2024-11-03T18:19:32.135Z"
   },
   {
    "duration": 24,
    "start_time": "2024-11-03T18:19:32.146Z"
   },
   {
    "duration": 6,
    "start_time": "2024-11-03T18:19:32.172Z"
   },
   {
    "duration": 29,
    "start_time": "2024-11-03T18:19:32.179Z"
   },
   {
    "duration": 8,
    "start_time": "2024-11-03T18:19:32.210Z"
   },
   {
    "duration": 12,
    "start_time": "2024-11-03T18:19:32.222Z"
   },
   {
    "duration": 10,
    "start_time": "2024-11-03T18:19:32.236Z"
   },
   {
    "duration": 100,
    "start_time": "2024-11-03T18:19:32.249Z"
   },
   {
    "duration": 12,
    "start_time": "2024-11-03T18:19:32.354Z"
   },
   {
    "duration": 5,
    "start_time": "2024-11-03T18:19:32.367Z"
   },
   {
    "duration": 4,
    "start_time": "2024-11-03T18:19:32.373Z"
   },
   {
    "duration": 2,
    "start_time": "2024-11-03T18:19:32.379Z"
   },
   {
    "duration": 35,
    "start_time": "2024-11-03T18:19:32.383Z"
   },
   {
    "duration": 13,
    "start_time": "2024-11-03T18:19:32.421Z"
   },
   {
    "duration": 28,
    "start_time": "2024-11-03T18:19:32.436Z"
   },
   {
    "duration": 10,
    "start_time": "2024-11-03T18:19:32.466Z"
   },
   {
    "duration": 4,
    "start_time": "2024-11-03T18:19:32.478Z"
   },
   {
    "duration": 8,
    "start_time": "2024-11-03T18:19:32.512Z"
   },
   {
    "duration": 9,
    "start_time": "2024-11-03T18:19:32.522Z"
   },
   {
    "duration": 6,
    "start_time": "2024-11-03T18:19:32.533Z"
   },
   {
    "duration": 886,
    "start_time": "2024-11-03T18:19:32.542Z"
   },
   {
    "duration": 792,
    "start_time": "2024-11-03T18:19:33.431Z"
   },
   {
    "duration": 10,
    "start_time": "2024-11-03T18:19:34.226Z"
   },
   {
    "duration": 7,
    "start_time": "2024-11-03T18:19:34.238Z"
   },
   {
    "duration": 4,
    "start_time": "2024-11-03T18:19:34.247Z"
   },
   {
    "duration": 3,
    "start_time": "2024-11-03T18:19:34.253Z"
   },
   {
    "duration": 5,
    "start_time": "2024-11-03T18:19:34.258Z"
   },
   {
    "duration": 4,
    "start_time": "2024-11-03T18:19:34.265Z"
   },
   {
    "duration": 37,
    "start_time": "2024-11-03T18:19:34.270Z"
   },
   {
    "duration": 18,
    "start_time": "2024-11-03T18:19:34.309Z"
   },
   {
    "duration": 203,
    "start_time": "2024-11-03T18:19:34.329Z"
   },
   {
    "duration": 14,
    "start_time": "2024-11-03T18:19:34.534Z"
   },
   {
    "duration": 6,
    "start_time": "2024-11-03T18:19:34.550Z"
   },
   {
    "duration": 26,
    "start_time": "2024-11-03T18:19:34.557Z"
   },
   {
    "duration": 25,
    "start_time": "2024-11-03T18:19:34.585Z"
   },
   {
    "duration": 5,
    "start_time": "2024-11-03T18:19:34.614Z"
   },
   {
    "duration": 36,
    "start_time": "2024-11-03T18:19:34.621Z"
   },
   {
    "duration": 30,
    "start_time": "2024-11-03T18:22:02.946Z"
   },
   {
    "duration": 13,
    "start_time": "2024-11-03T18:22:24.779Z"
   },
   {
    "duration": 21,
    "start_time": "2024-11-03T18:22:32.834Z"
   },
   {
    "duration": 7,
    "start_time": "2024-11-03T18:22:39.530Z"
   },
   {
    "duration": 3,
    "start_time": "2024-11-03T18:22:50.425Z"
   },
   {
    "duration": 3,
    "start_time": "2024-11-03T18:22:56.081Z"
   },
   {
    "duration": 3,
    "start_time": "2024-11-03T18:22:59.897Z"
   },
   {
    "duration": 4,
    "start_time": "2024-11-03T18:23:05.929Z"
   },
   {
    "duration": 6,
    "start_time": "2024-11-03T18:23:28.141Z"
   },
   {
    "duration": 54,
    "start_time": "2024-11-03T18:23:33.105Z"
   },
   {
    "duration": 4,
    "start_time": "2024-11-03T18:23:51.187Z"
   },
   {
    "duration": 4,
    "start_time": "2024-11-03T18:24:09.828Z"
   },
   {
    "duration": 53,
    "start_time": "2024-11-03T18:26:54.390Z"
   },
   {
    "duration": 2,
    "start_time": "2024-11-03T18:26:59.209Z"
   },
   {
    "duration": 996,
    "start_time": "2024-11-03T18:26:59.215Z"
   },
   {
    "duration": 15,
    "start_time": "2024-11-03T18:27:00.213Z"
   },
   {
    "duration": 8,
    "start_time": "2024-11-03T18:27:00.230Z"
   },
   {
    "duration": 11,
    "start_time": "2024-11-03T18:27:00.240Z"
   },
   {
    "duration": 6,
    "start_time": "2024-11-03T18:27:00.253Z"
   },
   {
    "duration": 21,
    "start_time": "2024-11-03T18:27:00.261Z"
   },
   {
    "duration": 6,
    "start_time": "2024-11-03T18:27:00.306Z"
   },
   {
    "duration": 15,
    "start_time": "2024-11-03T18:27:00.314Z"
   },
   {
    "duration": 8,
    "start_time": "2024-11-03T18:27:00.333Z"
   },
   {
    "duration": 11,
    "start_time": "2024-11-03T18:27:00.346Z"
   },
   {
    "duration": 6,
    "start_time": "2024-11-03T18:27:00.358Z"
   },
   {
    "duration": 103,
    "start_time": "2024-11-03T18:27:00.365Z"
   },
   {
    "duration": 12,
    "start_time": "2024-11-03T18:27:00.471Z"
   },
   {
    "duration": 5,
    "start_time": "2024-11-03T18:27:00.484Z"
   },
   {
    "duration": 16,
    "start_time": "2024-11-03T18:27:00.490Z"
   },
   {
    "duration": 3,
    "start_time": "2024-11-03T18:27:00.508Z"
   },
   {
    "duration": 21,
    "start_time": "2024-11-03T18:27:00.513Z"
   },
   {
    "duration": 8,
    "start_time": "2024-11-03T18:27:00.538Z"
   },
   {
    "duration": 21,
    "start_time": "2024-11-03T18:27:00.549Z"
   },
   {
    "duration": 7,
    "start_time": "2024-11-03T18:27:00.572Z"
   },
   {
    "duration": 8,
    "start_time": "2024-11-03T18:27:00.604Z"
   },
   {
    "duration": 12,
    "start_time": "2024-11-03T18:27:00.614Z"
   },
   {
    "duration": 15,
    "start_time": "2024-11-03T18:27:00.628Z"
   },
   {
    "duration": 7,
    "start_time": "2024-11-03T18:27:00.645Z"
   },
   {
    "duration": 832,
    "start_time": "2024-11-03T18:27:00.654Z"
   },
   {
    "duration": 733,
    "start_time": "2024-11-03T18:27:01.488Z"
   },
   {
    "duration": 10,
    "start_time": "2024-11-03T18:27:02.222Z"
   },
   {
    "duration": 8,
    "start_time": "2024-11-03T18:27:02.237Z"
   },
   {
    "duration": 4,
    "start_time": "2024-11-03T18:27:02.247Z"
   },
   {
    "duration": 3,
    "start_time": "2024-11-03T18:27:02.253Z"
   },
   {
    "duration": 5,
    "start_time": "2024-11-03T18:27:02.258Z"
   },
   {
    "duration": 4,
    "start_time": "2024-11-03T18:27:02.265Z"
   },
   {
    "duration": 4,
    "start_time": "2024-11-03T18:27:02.305Z"
   },
   {
    "duration": 17,
    "start_time": "2024-11-03T18:27:02.311Z"
   },
   {
    "duration": 216,
    "start_time": "2024-11-03T18:27:02.330Z"
   },
   {
    "duration": 14,
    "start_time": "2024-11-03T18:27:02.548Z"
   },
   {
    "duration": 5,
    "start_time": "2024-11-03T18:27:02.563Z"
   },
   {
    "duration": 45,
    "start_time": "2024-11-03T18:27:02.569Z"
   },
   {
    "duration": 4,
    "start_time": "2024-11-03T18:27:02.616Z"
   },
   {
    "duration": 10,
    "start_time": "2024-11-03T18:27:02.627Z"
   },
   {
    "duration": 41,
    "start_time": "2024-11-03T18:27:02.640Z"
   },
   {
    "duration": 39,
    "start_time": "2024-11-03T18:27:29.895Z"
   },
   {
    "duration": 36,
    "start_time": "2024-11-03T18:27:40.568Z"
   },
   {
    "duration": 4,
    "start_time": "2024-11-03T18:30:16.688Z"
   },
   {
    "duration": 5,
    "start_time": "2024-11-03T18:30:19.195Z"
   },
   {
    "duration": 6,
    "start_time": "2024-11-03T18:30:19.611Z"
   },
   {
    "duration": 3,
    "start_time": "2024-11-03T18:31:23.356Z"
   },
   {
    "duration": 3,
    "start_time": "2024-11-03T18:31:25.184Z"
   },
   {
    "duration": 5,
    "start_time": "2024-11-03T18:31:26.832Z"
   },
   {
    "duration": 4,
    "start_time": "2024-11-03T18:32:22.028Z"
   },
   {
    "duration": 4,
    "start_time": "2024-11-03T18:32:23.283Z"
   },
   {
    "duration": 48,
    "start_time": "2024-11-03T18:32:59.917Z"
   },
   {
    "duration": 52,
    "start_time": "2024-11-03T18:33:08.011Z"
   },
   {
    "duration": 103,
    "start_time": "2024-11-03T18:33:42.011Z"
   },
   {
    "duration": 52,
    "start_time": "2024-11-03T18:33:51.294Z"
   },
   {
    "duration": 12,
    "start_time": "2024-11-03T18:35:47.025Z"
   },
   {
    "duration": 38,
    "start_time": "2024-11-03T18:35:51.262Z"
   },
   {
    "duration": 51,
    "start_time": "2024-11-03T18:36:00.374Z"
   },
   {
    "duration": 42,
    "start_time": "2024-11-03T18:37:41.228Z"
   },
   {
    "duration": 2,
    "start_time": "2024-11-03T18:37:56.419Z"
   },
   {
    "duration": 847,
    "start_time": "2024-11-03T18:37:56.423Z"
   },
   {
    "duration": 10,
    "start_time": "2024-11-03T18:37:57.272Z"
   },
   {
    "duration": 7,
    "start_time": "2024-11-03T18:37:57.283Z"
   },
   {
    "duration": 17,
    "start_time": "2024-11-03T18:37:57.293Z"
   },
   {
    "duration": 5,
    "start_time": "2024-11-03T18:37:57.312Z"
   },
   {
    "duration": 20,
    "start_time": "2024-11-03T18:37:57.319Z"
   },
   {
    "duration": 6,
    "start_time": "2024-11-03T18:37:57.341Z"
   },
   {
    "duration": 8,
    "start_time": "2024-11-03T18:37:57.349Z"
   },
   {
    "duration": 6,
    "start_time": "2024-11-03T18:37:57.358Z"
   },
   {
    "duration": 46,
    "start_time": "2024-11-03T18:37:57.365Z"
   },
   {
    "duration": 6,
    "start_time": "2024-11-03T18:37:57.412Z"
   },
   {
    "duration": 65,
    "start_time": "2024-11-03T18:37:57.420Z"
   },
   {
    "duration": 11,
    "start_time": "2024-11-03T18:37:57.507Z"
   },
   {
    "duration": 6,
    "start_time": "2024-11-03T18:37:57.519Z"
   },
   {
    "duration": 4,
    "start_time": "2024-11-03T18:37:57.526Z"
   },
   {
    "duration": 2,
    "start_time": "2024-11-03T18:37:57.532Z"
   },
   {
    "duration": 13,
    "start_time": "2024-11-03T18:37:57.536Z"
   },
   {
    "duration": 5,
    "start_time": "2024-11-03T18:37:57.550Z"
   },
   {
    "duration": 54,
    "start_time": "2024-11-03T18:37:57.556Z"
   },
   {
    "duration": 7,
    "start_time": "2024-11-03T18:37:57.611Z"
   },
   {
    "duration": 6,
    "start_time": "2024-11-03T18:37:57.620Z"
   },
   {
    "duration": 5,
    "start_time": "2024-11-03T18:37:57.627Z"
   },
   {
    "duration": 5,
    "start_time": "2024-11-03T18:37:57.633Z"
   },
   {
    "duration": 5,
    "start_time": "2024-11-03T18:37:57.640Z"
   },
   {
    "duration": 815,
    "start_time": "2024-11-03T18:37:57.646Z"
   },
   {
    "duration": 701,
    "start_time": "2024-11-03T18:37:58.463Z"
   },
   {
    "duration": 7,
    "start_time": "2024-11-03T18:37:59.165Z"
   },
   {
    "duration": 7,
    "start_time": "2024-11-03T18:37:59.174Z"
   },
   {
    "duration": 3,
    "start_time": "2024-11-03T18:37:59.182Z"
   },
   {
    "duration": 20,
    "start_time": "2024-11-03T18:37:59.187Z"
   },
   {
    "duration": 5,
    "start_time": "2024-11-03T18:37:59.209Z"
   },
   {
    "duration": 5,
    "start_time": "2024-11-03T18:37:59.216Z"
   },
   {
    "duration": 4,
    "start_time": "2024-11-03T18:37:59.222Z"
   },
   {
    "duration": 15,
    "start_time": "2024-11-03T18:37:59.228Z"
   },
   {
    "duration": 202,
    "start_time": "2024-11-03T18:37:59.253Z"
   },
   {
    "duration": 11,
    "start_time": "2024-11-03T18:37:59.457Z"
   },
   {
    "duration": 5,
    "start_time": "2024-11-03T18:37:59.470Z"
   },
   {
    "duration": 47,
    "start_time": "2024-11-03T18:37:59.477Z"
   },
   {
    "duration": 4,
    "start_time": "2024-11-03T18:37:59.526Z"
   },
   {
    "duration": 3,
    "start_time": "2024-11-03T18:37:59.534Z"
   },
   {
    "duration": 37,
    "start_time": "2024-11-03T18:37:59.539Z"
   },
   {
    "duration": 38,
    "start_time": "2024-11-03T18:38:28.320Z"
   },
   {
    "duration": 10,
    "start_time": "2024-11-03T18:39:38.457Z"
   },
   {
    "duration": 11,
    "start_time": "2024-11-03T18:39:47.756Z"
   },
   {
    "duration": 11,
    "start_time": "2024-11-03T18:39:54.530Z"
   },
   {
    "duration": 2,
    "start_time": "2024-11-03T18:39:56.387Z"
   },
   {
    "duration": 828,
    "start_time": "2024-11-03T18:39:56.394Z"
   },
   {
    "duration": 9,
    "start_time": "2024-11-03T18:39:57.224Z"
   },
   {
    "duration": 6,
    "start_time": "2024-11-03T18:39:57.235Z"
   },
   {
    "duration": 9,
    "start_time": "2024-11-03T18:39:57.243Z"
   },
   {
    "duration": 6,
    "start_time": "2024-11-03T18:39:57.254Z"
   },
   {
    "duration": 45,
    "start_time": "2024-11-03T18:39:57.261Z"
   },
   {
    "duration": 6,
    "start_time": "2024-11-03T18:39:57.308Z"
   },
   {
    "duration": 8,
    "start_time": "2024-11-03T18:39:57.316Z"
   },
   {
    "duration": 5,
    "start_time": "2024-11-03T18:39:57.326Z"
   },
   {
    "duration": 8,
    "start_time": "2024-11-03T18:39:57.333Z"
   },
   {
    "duration": 5,
    "start_time": "2024-11-03T18:39:57.343Z"
   },
   {
    "duration": 109,
    "start_time": "2024-11-03T18:39:57.350Z"
   },
   {
    "duration": 10,
    "start_time": "2024-11-03T18:39:57.460Z"
   },
   {
    "duration": 5,
    "start_time": "2024-11-03T18:39:57.474Z"
   },
   {
    "duration": 4,
    "start_time": "2024-11-03T18:39:57.480Z"
   },
   {
    "duration": 2,
    "start_time": "2024-11-03T18:39:57.506Z"
   },
   {
    "duration": 13,
    "start_time": "2024-11-03T18:39:57.510Z"
   },
   {
    "duration": 6,
    "start_time": "2024-11-03T18:39:57.525Z"
   },
   {
    "duration": 21,
    "start_time": "2024-11-03T18:39:57.534Z"
   },
   {
    "duration": 9,
    "start_time": "2024-11-03T18:39:57.557Z"
   },
   {
    "duration": 7,
    "start_time": "2024-11-03T18:39:57.568Z"
   },
   {
    "duration": 30,
    "start_time": "2024-11-03T18:39:57.576Z"
   },
   {
    "duration": 4,
    "start_time": "2024-11-03T18:39:57.608Z"
   },
   {
    "duration": 6,
    "start_time": "2024-11-03T18:39:57.614Z"
   },
   {
    "duration": 783,
    "start_time": "2024-11-03T18:39:57.623Z"
   },
   {
    "duration": 687,
    "start_time": "2024-11-03T18:39:58.408Z"
   },
   {
    "duration": 12,
    "start_time": "2024-11-03T18:39:59.096Z"
   },
   {
    "duration": 6,
    "start_time": "2024-11-03T18:39:59.111Z"
   },
   {
    "duration": 3,
    "start_time": "2024-11-03T18:39:59.119Z"
   },
   {
    "duration": 3,
    "start_time": "2024-11-03T18:39:59.124Z"
   },
   {
    "duration": 5,
    "start_time": "2024-11-03T18:39:59.128Z"
   },
   {
    "duration": 3,
    "start_time": "2024-11-03T18:39:59.135Z"
   },
   {
    "duration": 4,
    "start_time": "2024-11-03T18:39:59.140Z"
   },
   {
    "duration": 16,
    "start_time": "2024-11-03T18:39:59.145Z"
   },
   {
    "duration": 224,
    "start_time": "2024-11-03T18:39:59.163Z"
   },
   {
    "duration": 19,
    "start_time": "2024-11-03T18:39:59.388Z"
   },
   {
    "duration": 5,
    "start_time": "2024-11-03T18:39:59.410Z"
   },
   {
    "duration": 27,
    "start_time": "2024-11-03T18:39:59.417Z"
   },
   {
    "duration": 4,
    "start_time": "2024-11-03T18:39:59.446Z"
   },
   {
    "duration": 4,
    "start_time": "2024-11-03T18:39:59.453Z"
   },
   {
    "duration": 66,
    "start_time": "2024-11-03T18:39:59.461Z"
   },
   {
    "duration": 0,
    "start_time": "2024-11-03T18:39:59.529Z"
   },
   {
    "duration": 12,
    "start_time": "2024-11-03T18:40:12.595Z"
   },
   {
    "duration": 19,
    "start_time": "2024-11-03T18:41:43.245Z"
   },
   {
    "duration": 11,
    "start_time": "2024-11-03T18:41:48.101Z"
   },
   {
    "duration": 5,
    "start_time": "2024-11-03T18:42:53.883Z"
   },
   {
    "duration": 11,
    "start_time": "2024-11-03T18:43:11.113Z"
   },
   {
    "duration": 13,
    "start_time": "2024-11-03T18:43:18.763Z"
   },
   {
    "duration": 12,
    "start_time": "2024-11-03T18:44:05.758Z"
   },
   {
    "duration": 12,
    "start_time": "2024-11-03T18:44:10.199Z"
   },
   {
    "duration": 327,
    "start_time": "2024-11-03T18:44:46.058Z"
   },
   {
    "duration": 944,
    "start_time": "2024-11-03T18:44:46.388Z"
   },
   {
    "duration": 15,
    "start_time": "2024-11-03T18:44:47.337Z"
   },
   {
    "duration": 15,
    "start_time": "2024-11-03T18:44:47.354Z"
   },
   {
    "duration": 11,
    "start_time": "2024-11-03T18:44:47.373Z"
   },
   {
    "duration": 24,
    "start_time": "2024-11-03T18:44:47.386Z"
   },
   {
    "duration": 34,
    "start_time": "2024-11-03T18:44:47.412Z"
   },
   {
    "duration": 9,
    "start_time": "2024-11-03T18:44:47.450Z"
   },
   {
    "duration": 9,
    "start_time": "2024-11-03T18:44:47.461Z"
   },
   {
    "duration": 7,
    "start_time": "2024-11-03T18:44:47.472Z"
   },
   {
    "duration": 32,
    "start_time": "2024-11-03T18:44:47.481Z"
   },
   {
    "duration": 8,
    "start_time": "2024-11-03T18:44:47.515Z"
   },
   {
    "duration": 95,
    "start_time": "2024-11-03T18:44:47.525Z"
   },
   {
    "duration": 12,
    "start_time": "2024-11-03T18:44:47.623Z"
   },
   {
    "duration": 5,
    "start_time": "2024-11-03T18:44:47.636Z"
   },
   {
    "duration": 4,
    "start_time": "2024-11-03T18:44:47.643Z"
   },
   {
    "duration": 2,
    "start_time": "2024-11-03T18:44:47.648Z"
   },
   {
    "duration": 12,
    "start_time": "2024-11-03T18:44:47.652Z"
   },
   {
    "duration": 42,
    "start_time": "2024-11-03T18:44:47.665Z"
   },
   {
    "duration": 17,
    "start_time": "2024-11-03T18:44:47.709Z"
   },
   {
    "duration": 6,
    "start_time": "2024-11-03T18:44:47.728Z"
   },
   {
    "duration": 4,
    "start_time": "2024-11-03T18:44:47.736Z"
   },
   {
    "duration": 5,
    "start_time": "2024-11-03T18:44:47.742Z"
   },
   {
    "duration": 4,
    "start_time": "2024-11-03T18:44:47.748Z"
   },
   {
    "duration": 4,
    "start_time": "2024-11-03T18:44:47.754Z"
   },
   {
    "duration": 786,
    "start_time": "2024-11-03T18:44:47.760Z"
   },
   {
    "duration": 719,
    "start_time": "2024-11-03T18:44:48.548Z"
   },
   {
    "duration": 8,
    "start_time": "2024-11-03T18:44:49.269Z"
   },
   {
    "duration": 6,
    "start_time": "2024-11-03T18:44:49.281Z"
   },
   {
    "duration": 17,
    "start_time": "2024-11-03T18:44:49.289Z"
   },
   {
    "duration": 3,
    "start_time": "2024-11-03T18:44:49.308Z"
   },
   {
    "duration": 5,
    "start_time": "2024-11-03T18:44:49.312Z"
   },
   {
    "duration": 3,
    "start_time": "2024-11-03T18:44:49.319Z"
   },
   {
    "duration": 3,
    "start_time": "2024-11-03T18:44:49.324Z"
   },
   {
    "duration": 17,
    "start_time": "2024-11-03T18:44:49.329Z"
   },
   {
    "duration": 226,
    "start_time": "2024-11-03T18:44:49.348Z"
   },
   {
    "duration": 11,
    "start_time": "2024-11-03T18:44:49.576Z"
   },
   {
    "duration": 15,
    "start_time": "2024-11-03T18:44:49.592Z"
   },
   {
    "duration": 34,
    "start_time": "2024-11-03T18:44:49.611Z"
   },
   {
    "duration": 5,
    "start_time": "2024-11-03T18:44:49.647Z"
   },
   {
    "duration": 4,
    "start_time": "2024-11-03T18:44:49.660Z"
   },
   {
    "duration": 477,
    "start_time": "2024-11-03T18:44:49.665Z"
   },
   {
    "duration": 0,
    "start_time": "2024-11-03T18:44:50.143Z"
   },
   {
    "duration": 17,
    "start_time": "2024-11-03T18:45:03.297Z"
   },
   {
    "duration": 5,
    "start_time": "2024-11-03T18:45:18.513Z"
   },
   {
    "duration": 4,
    "start_time": "2024-11-03T18:45:23.546Z"
   },
   {
    "duration": 923,
    "start_time": "2024-11-03T18:45:31.651Z"
   },
   {
    "duration": 14,
    "start_time": "2024-11-03T18:45:34.183Z"
   },
   {
    "duration": 13,
    "start_time": "2024-11-03T18:45:40.355Z"
   },
   {
    "duration": 12,
    "start_time": "2024-11-03T18:45:53.079Z"
   },
   {
    "duration": 4,
    "start_time": "2024-11-03T18:45:55.430Z"
   },
   {
    "duration": 11,
    "start_time": "2024-11-03T18:46:56.365Z"
   },
   {
    "duration": 7,
    "start_time": "2024-11-03T18:47:01.553Z"
   },
   {
    "duration": 39,
    "start_time": "2024-11-03T18:47:05.934Z"
   },
   {
    "duration": 8,
    "start_time": "2024-11-03T18:47:09.275Z"
   },
   {
    "duration": 2,
    "start_time": "2024-11-03T18:47:16.612Z"
   },
   {
    "duration": 860,
    "start_time": "2024-11-03T18:47:16.617Z"
   },
   {
    "duration": 10,
    "start_time": "2024-11-03T18:47:17.479Z"
   },
   {
    "duration": 4,
    "start_time": "2024-11-03T18:47:17.491Z"
   },
   {
    "duration": 14,
    "start_time": "2024-11-03T18:47:17.497Z"
   },
   {
    "duration": 9,
    "start_time": "2024-11-03T18:47:17.512Z"
   },
   {
    "duration": 6,
    "start_time": "2024-11-03T18:47:17.524Z"
   },
   {
    "duration": 21,
    "start_time": "2024-11-03T18:47:17.531Z"
   },
   {
    "duration": 6,
    "start_time": "2024-11-03T18:47:17.554Z"
   },
   {
    "duration": 43,
    "start_time": "2024-11-03T18:47:17.562Z"
   },
   {
    "duration": 5,
    "start_time": "2024-11-03T18:47:17.608Z"
   },
   {
    "duration": 8,
    "start_time": "2024-11-03T18:47:17.614Z"
   },
   {
    "duration": 5,
    "start_time": "2024-11-03T18:47:17.623Z"
   },
   {
    "duration": 94,
    "start_time": "2024-11-03T18:47:17.633Z"
   },
   {
    "duration": 37,
    "start_time": "2024-11-03T18:47:17.729Z"
   },
   {
    "duration": 0,
    "start_time": "2024-11-03T18:47:17.768Z"
   },
   {
    "duration": 0,
    "start_time": "2024-11-03T18:47:17.769Z"
   },
   {
    "duration": 0,
    "start_time": "2024-11-03T18:47:17.771Z"
   },
   {
    "duration": 0,
    "start_time": "2024-11-03T18:47:17.772Z"
   },
   {
    "duration": 0,
    "start_time": "2024-11-03T18:47:17.774Z"
   },
   {
    "duration": 0,
    "start_time": "2024-11-03T18:47:17.775Z"
   },
   {
    "duration": 0,
    "start_time": "2024-11-03T18:47:17.777Z"
   },
   {
    "duration": 0,
    "start_time": "2024-11-03T18:47:17.778Z"
   },
   {
    "duration": 0,
    "start_time": "2024-11-03T18:47:17.779Z"
   },
   {
    "duration": 0,
    "start_time": "2024-11-03T18:47:17.780Z"
   },
   {
    "duration": 0,
    "start_time": "2024-11-03T18:47:17.781Z"
   },
   {
    "duration": 0,
    "start_time": "2024-11-03T18:47:17.781Z"
   },
   {
    "duration": 0,
    "start_time": "2024-11-03T18:47:17.782Z"
   },
   {
    "duration": 0,
    "start_time": "2024-11-03T18:47:17.782Z"
   },
   {
    "duration": 0,
    "start_time": "2024-11-03T18:47:17.783Z"
   },
   {
    "duration": 0,
    "start_time": "2024-11-03T18:47:17.783Z"
   },
   {
    "duration": 0,
    "start_time": "2024-11-03T18:47:17.784Z"
   },
   {
    "duration": 0,
    "start_time": "2024-11-03T18:47:17.807Z"
   },
   {
    "duration": 0,
    "start_time": "2024-11-03T18:47:17.808Z"
   },
   {
    "duration": 0,
    "start_time": "2024-11-03T18:47:17.811Z"
   },
   {
    "duration": 0,
    "start_time": "2024-11-03T18:47:17.813Z"
   },
   {
    "duration": 0,
    "start_time": "2024-11-03T18:47:17.814Z"
   },
   {
    "duration": 0,
    "start_time": "2024-11-03T18:47:17.815Z"
   },
   {
    "duration": 0,
    "start_time": "2024-11-03T18:47:17.817Z"
   },
   {
    "duration": 0,
    "start_time": "2024-11-03T18:47:17.818Z"
   },
   {
    "duration": 0,
    "start_time": "2024-11-03T18:47:17.819Z"
   },
   {
    "duration": 0,
    "start_time": "2024-11-03T18:47:17.821Z"
   },
   {
    "duration": 0,
    "start_time": "2024-11-03T18:47:17.823Z"
   },
   {
    "duration": 0,
    "start_time": "2024-11-03T18:47:17.824Z"
   },
   {
    "duration": 42,
    "start_time": "2024-11-03T18:47:24.402Z"
   },
   {
    "duration": 37,
    "start_time": "2024-11-03T18:47:26.567Z"
   },
   {
    "duration": 10,
    "start_time": "2024-11-03T18:47:28.562Z"
   },
   {
    "duration": 46,
    "start_time": "2024-11-03T18:47:39.196Z"
   },
   {
    "duration": 2,
    "start_time": "2024-11-03T18:47:54.880Z"
   },
   {
    "duration": 822,
    "start_time": "2024-11-03T18:47:54.884Z"
   },
   {
    "duration": 11,
    "start_time": "2024-11-03T18:47:55.708Z"
   },
   {
    "duration": 3,
    "start_time": "2024-11-03T18:47:55.722Z"
   },
   {
    "duration": 6,
    "start_time": "2024-11-03T18:47:55.728Z"
   },
   {
    "duration": 9,
    "start_time": "2024-11-03T18:47:55.736Z"
   },
   {
    "duration": 7,
    "start_time": "2024-11-03T18:47:55.748Z"
   },
   {
    "duration": 48,
    "start_time": "2024-11-03T18:47:55.757Z"
   },
   {
    "duration": 7,
    "start_time": "2024-11-03T18:47:55.807Z"
   },
   {
    "duration": 8,
    "start_time": "2024-11-03T18:47:55.816Z"
   },
   {
    "duration": 5,
    "start_time": "2024-11-03T18:47:55.826Z"
   },
   {
    "duration": 8,
    "start_time": "2024-11-03T18:47:55.833Z"
   },
   {
    "duration": 5,
    "start_time": "2024-11-03T18:47:55.843Z"
   },
   {
    "duration": 109,
    "start_time": "2024-11-03T18:47:55.852Z"
   },
   {
    "duration": 10,
    "start_time": "2024-11-03T18:47:55.962Z"
   },
   {
    "duration": 6,
    "start_time": "2024-11-03T18:47:55.974Z"
   },
   {
    "duration": 4,
    "start_time": "2024-11-03T18:47:55.981Z"
   },
   {
    "duration": 14,
    "start_time": "2024-11-03T18:47:56.006Z"
   },
   {
    "duration": 0,
    "start_time": "2024-11-03T18:47:56.022Z"
   },
   {
    "duration": 0,
    "start_time": "2024-11-03T18:47:56.023Z"
   },
   {
    "duration": 0,
    "start_time": "2024-11-03T18:47:56.024Z"
   },
   {
    "duration": 0,
    "start_time": "2024-11-03T18:47:56.025Z"
   },
   {
    "duration": 0,
    "start_time": "2024-11-03T18:47:56.026Z"
   },
   {
    "duration": 0,
    "start_time": "2024-11-03T18:47:56.027Z"
   },
   {
    "duration": 0,
    "start_time": "2024-11-03T18:47:56.029Z"
   },
   {
    "duration": 0,
    "start_time": "2024-11-03T18:47:56.030Z"
   },
   {
    "duration": 0,
    "start_time": "2024-11-03T18:47:56.031Z"
   },
   {
    "duration": 0,
    "start_time": "2024-11-03T18:47:56.032Z"
   },
   {
    "duration": 0,
    "start_time": "2024-11-03T18:47:56.033Z"
   },
   {
    "duration": 0,
    "start_time": "2024-11-03T18:47:56.034Z"
   },
   {
    "duration": 0,
    "start_time": "2024-11-03T18:47:56.035Z"
   },
   {
    "duration": 0,
    "start_time": "2024-11-03T18:47:56.037Z"
   },
   {
    "duration": 0,
    "start_time": "2024-11-03T18:47:56.038Z"
   },
   {
    "duration": 0,
    "start_time": "2024-11-03T18:47:56.040Z"
   },
   {
    "duration": 0,
    "start_time": "2024-11-03T18:47:56.042Z"
   },
   {
    "duration": 0,
    "start_time": "2024-11-03T18:47:56.043Z"
   },
   {
    "duration": 0,
    "start_time": "2024-11-03T18:47:56.045Z"
   },
   {
    "duration": 0,
    "start_time": "2024-11-03T18:47:56.046Z"
   },
   {
    "duration": 0,
    "start_time": "2024-11-03T18:47:56.047Z"
   },
   {
    "duration": 0,
    "start_time": "2024-11-03T18:47:56.048Z"
   },
   {
    "duration": 0,
    "start_time": "2024-11-03T18:47:56.049Z"
   },
   {
    "duration": 0,
    "start_time": "2024-11-03T18:47:56.050Z"
   },
   {
    "duration": 0,
    "start_time": "2024-11-03T18:47:56.051Z"
   },
   {
    "duration": 0,
    "start_time": "2024-11-03T18:47:56.052Z"
   },
   {
    "duration": 2,
    "start_time": "2024-11-03T19:06:58.657Z"
   },
   {
    "duration": 866,
    "start_time": "2024-11-03T19:06:58.665Z"
   },
   {
    "duration": 11,
    "start_time": "2024-11-03T19:06:59.534Z"
   },
   {
    "duration": 4,
    "start_time": "2024-11-03T19:06:59.547Z"
   },
   {
    "duration": 7,
    "start_time": "2024-11-03T19:06:59.553Z"
   },
   {
    "duration": 9,
    "start_time": "2024-11-03T19:06:59.564Z"
   },
   {
    "duration": 6,
    "start_time": "2024-11-03T19:06:59.606Z"
   },
   {
    "duration": 24,
    "start_time": "2024-11-03T19:06:59.614Z"
   },
   {
    "duration": 6,
    "start_time": "2024-11-03T19:06:59.640Z"
   },
   {
    "duration": 7,
    "start_time": "2024-11-03T19:06:59.648Z"
   },
   {
    "duration": 5,
    "start_time": "2024-11-03T19:06:59.657Z"
   },
   {
    "duration": 48,
    "start_time": "2024-11-03T19:06:59.663Z"
   },
   {
    "duration": 5,
    "start_time": "2024-11-03T19:06:59.712Z"
   },
   {
    "duration": 97,
    "start_time": "2024-11-03T19:06:59.719Z"
   },
   {
    "duration": 13,
    "start_time": "2024-11-03T19:06:59.823Z"
   },
   {
    "duration": 7,
    "start_time": "2024-11-03T19:06:59.838Z"
   },
   {
    "duration": 4,
    "start_time": "2024-11-03T19:06:59.846Z"
   },
   {
    "duration": 2,
    "start_time": "2024-11-03T19:06:59.852Z"
   },
   {
    "duration": 13,
    "start_time": "2024-11-03T19:06:59.856Z"
   },
   {
    "duration": 38,
    "start_time": "2024-11-03T19:06:59.870Z"
   },
   {
    "duration": 20,
    "start_time": "2024-11-03T19:06:59.910Z"
   },
   {
    "duration": 7,
    "start_time": "2024-11-03T19:06:59.933Z"
   },
   {
    "duration": 5,
    "start_time": "2024-11-03T19:06:59.941Z"
   },
   {
    "duration": 5,
    "start_time": "2024-11-03T19:06:59.947Z"
   },
   {
    "duration": 5,
    "start_time": "2024-11-03T19:06:59.953Z"
   },
   {
    "duration": 48,
    "start_time": "2024-11-03T19:06:59.960Z"
   },
   {
    "duration": 776,
    "start_time": "2024-11-03T19:07:00.009Z"
   },
   {
    "duration": 682,
    "start_time": "2024-11-03T19:07:00.787Z"
   },
   {
    "duration": 7,
    "start_time": "2024-11-03T19:07:01.470Z"
   },
   {
    "duration": 6,
    "start_time": "2024-11-03T19:07:01.478Z"
   },
   {
    "duration": 19,
    "start_time": "2024-11-03T19:07:01.486Z"
   },
   {
    "duration": 3,
    "start_time": "2024-11-03T19:07:01.507Z"
   },
   {
    "duration": 6,
    "start_time": "2024-11-03T19:07:01.512Z"
   },
   {
    "duration": 4,
    "start_time": "2024-11-03T19:07:01.519Z"
   },
   {
    "duration": 4,
    "start_time": "2024-11-03T19:07:01.524Z"
   },
   {
    "duration": 18,
    "start_time": "2024-11-03T19:07:01.530Z"
   },
   {
    "duration": 227,
    "start_time": "2024-11-03T19:07:01.550Z"
   },
   {
    "duration": 10,
    "start_time": "2024-11-03T19:07:01.779Z"
   },
   {
    "duration": 18,
    "start_time": "2024-11-03T19:07:01.791Z"
   },
   {
    "duration": 26,
    "start_time": "2024-11-03T19:07:01.811Z"
   },
   {
    "duration": 4,
    "start_time": "2024-11-03T19:07:01.839Z"
   },
   {
    "duration": 3,
    "start_time": "2024-11-03T19:07:01.849Z"
   },
   {
    "duration": 70,
    "start_time": "2024-11-03T19:07:01.854Z"
   },
   {
    "duration": 0,
    "start_time": "2024-11-03T19:07:01.925Z"
   },
   {
    "duration": 19,
    "start_time": "2024-11-03T19:07:43.386Z"
   },
   {
    "duration": 5,
    "start_time": "2024-11-03T19:08:03.982Z"
   },
   {
    "duration": 44,
    "start_time": "2024-11-03T19:08:41.850Z"
   },
   {
    "duration": 38,
    "start_time": "2024-11-03T19:08:44.368Z"
   },
   {
    "duration": 40,
    "start_time": "2024-11-03T19:09:27.311Z"
   },
   {
    "duration": 38,
    "start_time": "2024-11-03T19:10:25.611Z"
   },
   {
    "duration": 4,
    "start_time": "2024-11-03T19:15:25.956Z"
   },
   {
    "duration": 38,
    "start_time": "2024-11-03T19:16:26.164Z"
   },
   {
    "duration": 4,
    "start_time": "2024-11-03T19:16:30.400Z"
   },
   {
    "duration": 2,
    "start_time": "2024-11-03T19:16:39.168Z"
   },
   {
    "duration": 845,
    "start_time": "2024-11-03T19:16:39.172Z"
   },
   {
    "duration": 10,
    "start_time": "2024-11-03T19:16:40.019Z"
   },
   {
    "duration": 4,
    "start_time": "2024-11-03T19:16:40.030Z"
   },
   {
    "duration": 6,
    "start_time": "2024-11-03T19:16:40.038Z"
   },
   {
    "duration": 9,
    "start_time": "2024-11-03T19:16:40.046Z"
   },
   {
    "duration": 5,
    "start_time": "2024-11-03T19:16:40.057Z"
   },
   {
    "duration": 63,
    "start_time": "2024-11-03T19:16:40.064Z"
   },
   {
    "duration": 6,
    "start_time": "2024-11-03T19:16:40.129Z"
   },
   {
    "duration": 8,
    "start_time": "2024-11-03T19:16:40.137Z"
   },
   {
    "duration": 6,
    "start_time": "2024-11-03T19:16:40.146Z"
   },
   {
    "duration": 8,
    "start_time": "2024-11-03T19:16:40.153Z"
   },
   {
    "duration": 45,
    "start_time": "2024-11-03T19:16:40.164Z"
   },
   {
    "duration": 77,
    "start_time": "2024-11-03T19:16:40.210Z"
   },
   {
    "duration": 28,
    "start_time": "2024-11-03T19:16:40.288Z"
   },
   {
    "duration": 5,
    "start_time": "2024-11-03T19:16:40.319Z"
   },
   {
    "duration": 5,
    "start_time": "2024-11-03T19:16:40.325Z"
   },
   {
    "duration": 3,
    "start_time": "2024-11-03T19:16:40.331Z"
   },
   {
    "duration": 15,
    "start_time": "2024-11-03T19:16:40.335Z"
   },
   {
    "duration": 6,
    "start_time": "2024-11-03T19:16:40.352Z"
   },
   {
    "duration": 57,
    "start_time": "2024-11-03T19:16:40.359Z"
   },
   {
    "duration": 7,
    "start_time": "2024-11-03T19:16:40.418Z"
   },
   {
    "duration": 4,
    "start_time": "2024-11-03T19:16:40.427Z"
   },
   {
    "duration": 5,
    "start_time": "2024-11-03T19:16:40.433Z"
   },
   {
    "duration": 3,
    "start_time": "2024-11-03T19:16:40.440Z"
   },
   {
    "duration": 6,
    "start_time": "2024-11-03T19:16:40.445Z"
   },
   {
    "duration": 791,
    "start_time": "2024-11-03T19:16:40.452Z"
   },
   {
    "duration": 674,
    "start_time": "2024-11-03T19:16:41.245Z"
   },
   {
    "duration": 7,
    "start_time": "2024-11-03T19:16:41.921Z"
   },
   {
    "duration": 6,
    "start_time": "2024-11-03T19:16:41.930Z"
   },
   {
    "duration": 4,
    "start_time": "2024-11-03T19:16:41.938Z"
   },
   {
    "duration": 4,
    "start_time": "2024-11-03T19:16:41.943Z"
   },
   {
    "duration": 6,
    "start_time": "2024-11-03T19:16:41.949Z"
   },
   {
    "duration": 4,
    "start_time": "2024-11-03T19:16:41.957Z"
   },
   {
    "duration": 3,
    "start_time": "2024-11-03T19:16:42.006Z"
   },
   {
    "duration": 19,
    "start_time": "2024-11-03T19:16:42.011Z"
   },
   {
    "duration": 202,
    "start_time": "2024-11-03T19:16:42.034Z"
   },
   {
    "duration": 11,
    "start_time": "2024-11-03T19:16:42.238Z"
   },
   {
    "duration": 6,
    "start_time": "2024-11-03T19:16:42.251Z"
   },
   {
    "duration": 46,
    "start_time": "2024-11-03T19:16:42.259Z"
   },
   {
    "duration": 5,
    "start_time": "2024-11-03T19:16:42.307Z"
   },
   {
    "duration": 4,
    "start_time": "2024-11-03T19:16:42.314Z"
   },
   {
    "duration": 5,
    "start_time": "2024-11-03T19:16:42.320Z"
   },
   {
    "duration": 39,
    "start_time": "2024-11-03T19:16:42.326Z"
   },
   {
    "duration": 0,
    "start_time": "2024-11-03T19:16:42.366Z"
   },
   {
    "duration": 857,
    "start_time": "2024-11-03T19:17:09.718Z"
   },
   {
    "duration": 13,
    "start_time": "2024-11-03T19:17:11.487Z"
   },
   {
    "duration": 4,
    "start_time": "2024-11-03T19:17:13.999Z"
   },
   {
    "duration": 9,
    "start_time": "2024-11-03T19:17:17.566Z"
   },
   {
    "duration": 5,
    "start_time": "2024-11-03T19:17:37.306Z"
   },
   {
    "duration": 17,
    "start_time": "2024-11-03T19:18:04.351Z"
   },
   {
    "duration": 3,
    "start_time": "2024-11-03T19:18:07.694Z"
   },
   {
    "duration": 5,
    "start_time": "2024-11-03T19:18:08.282Z"
   },
   {
    "duration": 3,
    "start_time": "2024-11-03T19:18:17.174Z"
   },
   {
    "duration": 852,
    "start_time": "2024-11-03T19:18:17.179Z"
   },
   {
    "duration": 9,
    "start_time": "2024-11-03T19:18:18.034Z"
   },
   {
    "duration": 4,
    "start_time": "2024-11-03T19:18:18.045Z"
   },
   {
    "duration": 7,
    "start_time": "2024-11-03T19:18:18.052Z"
   },
   {
    "duration": 10,
    "start_time": "2024-11-03T19:18:18.060Z"
   },
   {
    "duration": 35,
    "start_time": "2024-11-03T19:18:18.072Z"
   },
   {
    "duration": 24,
    "start_time": "2024-11-03T19:18:18.109Z"
   },
   {
    "duration": 9,
    "start_time": "2024-11-03T19:18:18.135Z"
   },
   {
    "duration": 10,
    "start_time": "2024-11-03T19:18:18.146Z"
   },
   {
    "duration": 6,
    "start_time": "2024-11-03T19:18:18.159Z"
   },
   {
    "duration": 45,
    "start_time": "2024-11-03T19:18:18.167Z"
   },
   {
    "duration": 6,
    "start_time": "2024-11-03T19:18:18.214Z"
   },
   {
    "duration": 93,
    "start_time": "2024-11-03T19:18:18.222Z"
   },
   {
    "duration": 12,
    "start_time": "2024-11-03T19:18:18.318Z"
   },
   {
    "duration": 5,
    "start_time": "2024-11-03T19:18:18.331Z"
   },
   {
    "duration": 3,
    "start_time": "2024-11-03T19:18:18.338Z"
   },
   {
    "duration": 2,
    "start_time": "2024-11-03T19:18:18.343Z"
   },
   {
    "duration": 13,
    "start_time": "2024-11-03T19:18:18.347Z"
   },
   {
    "duration": 47,
    "start_time": "2024-11-03T19:18:18.362Z"
   },
   {
    "duration": 22,
    "start_time": "2024-11-03T19:18:18.411Z"
   },
   {
    "duration": 7,
    "start_time": "2024-11-03T19:18:18.435Z"
   },
   {
    "duration": 4,
    "start_time": "2024-11-03T19:18:18.443Z"
   },
   {
    "duration": 5,
    "start_time": "2024-11-03T19:18:18.448Z"
   },
   {
    "duration": 4,
    "start_time": "2024-11-03T19:18:18.455Z"
   },
   {
    "duration": 47,
    "start_time": "2024-11-03T19:18:18.461Z"
   },
   {
    "duration": 749,
    "start_time": "2024-11-03T19:18:18.510Z"
   },
   {
    "duration": 648,
    "start_time": "2024-11-03T19:18:19.261Z"
   },
   {
    "duration": 8,
    "start_time": "2024-11-03T19:18:19.915Z"
   },
   {
    "duration": 9,
    "start_time": "2024-11-03T19:18:19.925Z"
   },
   {
    "duration": 4,
    "start_time": "2024-11-03T19:18:19.936Z"
   },
   {
    "duration": 4,
    "start_time": "2024-11-03T19:18:19.942Z"
   },
   {
    "duration": 6,
    "start_time": "2024-11-03T19:18:19.949Z"
   },
   {
    "duration": 49,
    "start_time": "2024-11-03T19:18:19.957Z"
   },
   {
    "duration": 16,
    "start_time": "2024-11-03T19:18:20.008Z"
   },
   {
    "duration": 0,
    "start_time": "2024-11-03T19:18:20.026Z"
   },
   {
    "duration": 0,
    "start_time": "2024-11-03T19:18:20.027Z"
   },
   {
    "duration": 0,
    "start_time": "2024-11-03T19:18:20.029Z"
   },
   {
    "duration": 0,
    "start_time": "2024-11-03T19:18:20.030Z"
   },
   {
    "duration": 0,
    "start_time": "2024-11-03T19:18:20.032Z"
   },
   {
    "duration": 0,
    "start_time": "2024-11-03T19:18:20.034Z"
   },
   {
    "duration": 0,
    "start_time": "2024-11-03T19:18:20.035Z"
   },
   {
    "duration": 0,
    "start_time": "2024-11-03T19:18:20.037Z"
   },
   {
    "duration": 0,
    "start_time": "2024-11-03T19:18:20.039Z"
   },
   {
    "duration": 0,
    "start_time": "2024-11-03T19:18:20.040Z"
   },
   {
    "duration": 14,
    "start_time": "2024-11-03T19:18:48.362Z"
   },
   {
    "duration": 2,
    "start_time": "2024-11-03T19:19:24.498Z"
   },
   {
    "duration": 856,
    "start_time": "2024-11-03T19:19:24.503Z"
   },
   {
    "duration": 10,
    "start_time": "2024-11-03T19:19:25.361Z"
   },
   {
    "duration": 4,
    "start_time": "2024-11-03T19:19:25.372Z"
   },
   {
    "duration": 26,
    "start_time": "2024-11-03T19:19:25.379Z"
   },
   {
    "duration": 9,
    "start_time": "2024-11-03T19:19:25.406Z"
   },
   {
    "duration": 6,
    "start_time": "2024-11-03T19:19:25.417Z"
   },
   {
    "duration": 23,
    "start_time": "2024-11-03T19:19:25.425Z"
   },
   {
    "duration": 8,
    "start_time": "2024-11-03T19:19:25.449Z"
   },
   {
    "duration": 46,
    "start_time": "2024-11-03T19:19:25.459Z"
   },
   {
    "duration": 6,
    "start_time": "2024-11-03T19:19:25.508Z"
   },
   {
    "duration": 9,
    "start_time": "2024-11-03T19:19:25.515Z"
   },
   {
    "duration": 7,
    "start_time": "2024-11-03T19:19:25.526Z"
   },
   {
    "duration": 106,
    "start_time": "2024-11-03T19:19:25.535Z"
   },
   {
    "duration": 10,
    "start_time": "2024-11-03T19:19:25.643Z"
   },
   {
    "duration": 5,
    "start_time": "2024-11-03T19:19:25.655Z"
   },
   {
    "duration": 3,
    "start_time": "2024-11-03T19:19:25.662Z"
   },
   {
    "duration": 2,
    "start_time": "2024-11-03T19:19:25.667Z"
   },
   {
    "duration": 45,
    "start_time": "2024-11-03T19:19:25.671Z"
   },
   {
    "duration": 6,
    "start_time": "2024-11-03T19:19:25.718Z"
   },
   {
    "duration": 16,
    "start_time": "2024-11-03T19:19:25.727Z"
   },
   {
    "duration": 6,
    "start_time": "2024-11-03T19:19:25.744Z"
   },
   {
    "duration": 4,
    "start_time": "2024-11-03T19:19:25.752Z"
   },
   {
    "duration": 5,
    "start_time": "2024-11-03T19:19:25.758Z"
   },
   {
    "duration": 42,
    "start_time": "2024-11-03T19:19:25.764Z"
   },
   {
    "duration": 4,
    "start_time": "2024-11-03T19:19:25.808Z"
   },
   {
    "duration": 799,
    "start_time": "2024-11-03T19:19:25.814Z"
   },
   {
    "duration": 690,
    "start_time": "2024-11-03T19:19:26.615Z"
   },
   {
    "duration": 8,
    "start_time": "2024-11-03T19:19:27.310Z"
   },
   {
    "duration": 7,
    "start_time": "2024-11-03T19:19:27.319Z"
   },
   {
    "duration": 3,
    "start_time": "2024-11-03T19:19:27.327Z"
   },
   {
    "duration": 4,
    "start_time": "2024-11-03T19:19:27.332Z"
   },
   {
    "duration": 6,
    "start_time": "2024-11-03T19:19:27.338Z"
   },
   {
    "duration": 7,
    "start_time": "2024-11-03T19:19:28.122Z"
   },
   {
    "duration": 12,
    "start_time": "2024-11-03T19:19:28.693Z"
   },
   {
    "duration": 10,
    "start_time": "2024-11-03T19:19:42.818Z"
   },
   {
    "duration": 24,
    "start_time": "2024-11-03T19:19:54.724Z"
   },
   {
    "duration": 211,
    "start_time": "2024-11-03T19:19:54.750Z"
   },
   {
    "duration": 15,
    "start_time": "2024-11-03T19:19:54.963Z"
   },
   {
    "duration": 6,
    "start_time": "2024-11-03T19:19:54.981Z"
   },
   {
    "duration": 39,
    "start_time": "2024-11-03T19:19:54.989Z"
   },
   {
    "duration": 4,
    "start_time": "2024-11-03T19:19:55.030Z"
   },
   {
    "duration": 4,
    "start_time": "2024-11-03T19:19:55.036Z"
   },
   {
    "duration": 7,
    "start_time": "2024-11-03T19:19:55.041Z"
   },
   {
    "duration": 5,
    "start_time": "2024-11-03T19:19:55.050Z"
   },
   {
    "duration": 6,
    "start_time": "2024-11-03T19:19:55.057Z"
   },
   {
    "duration": 7,
    "start_time": "2024-11-03T19:20:12.933Z"
   },
   {
    "duration": 7,
    "start_time": "2024-11-03T19:20:29.786Z"
   },
   {
    "duration": 3,
    "start_time": "2024-11-03T19:22:02.502Z"
   },
   {
    "duration": 874,
    "start_time": "2024-11-03T19:22:02.513Z"
   },
   {
    "duration": 15,
    "start_time": "2024-11-03T19:22:03.390Z"
   },
   {
    "duration": 4,
    "start_time": "2024-11-03T19:22:03.407Z"
   },
   {
    "duration": 8,
    "start_time": "2024-11-03T19:22:03.413Z"
   },
   {
    "duration": 11,
    "start_time": "2024-11-03T19:22:03.424Z"
   },
   {
    "duration": 8,
    "start_time": "2024-11-03T19:22:03.437Z"
   },
   {
    "duration": 22,
    "start_time": "2024-11-03T19:22:03.447Z"
   },
   {
    "duration": 7,
    "start_time": "2024-11-03T19:22:03.505Z"
   },
   {
    "duration": 8,
    "start_time": "2024-11-03T19:22:03.515Z"
   },
   {
    "duration": 6,
    "start_time": "2024-11-03T19:22:03.524Z"
   },
   {
    "duration": 9,
    "start_time": "2024-11-03T19:22:03.533Z"
   },
   {
    "duration": 6,
    "start_time": "2024-11-03T19:22:03.544Z"
   },
   {
    "duration": 120,
    "start_time": "2024-11-03T19:22:03.551Z"
   },
   {
    "duration": 12,
    "start_time": "2024-11-03T19:22:03.675Z"
   },
   {
    "duration": 17,
    "start_time": "2024-11-03T19:22:03.689Z"
   },
   {
    "duration": 4,
    "start_time": "2024-11-03T19:22:03.709Z"
   },
   {
    "duration": 3,
    "start_time": "2024-11-03T19:22:03.714Z"
   },
   {
    "duration": 18,
    "start_time": "2024-11-03T19:22:03.718Z"
   },
   {
    "duration": 7,
    "start_time": "2024-11-03T19:22:03.738Z"
   },
   {
    "duration": 22,
    "start_time": "2024-11-03T19:22:03.746Z"
   },
   {
    "duration": 9,
    "start_time": "2024-11-03T19:22:03.805Z"
   },
   {
    "duration": 11,
    "start_time": "2024-11-03T19:22:03.816Z"
   },
   {
    "duration": 6,
    "start_time": "2024-11-03T19:22:03.829Z"
   },
   {
    "duration": 5,
    "start_time": "2024-11-03T19:22:03.837Z"
   },
   {
    "duration": 5,
    "start_time": "2024-11-03T19:22:03.844Z"
   },
   {
    "duration": 832,
    "start_time": "2024-11-03T19:22:03.851Z"
   },
   {
    "duration": 751,
    "start_time": "2024-11-03T19:22:04.685Z"
   },
   {
    "duration": 7,
    "start_time": "2024-11-03T19:22:05.438Z"
   },
   {
    "duration": 6,
    "start_time": "2024-11-03T19:22:05.447Z"
   },
   {
    "duration": 3,
    "start_time": "2024-11-03T19:22:05.455Z"
   },
   {
    "duration": 2,
    "start_time": "2024-11-03T19:22:05.460Z"
   },
   {
    "duration": 5,
    "start_time": "2024-11-03T19:22:05.464Z"
   },
   {
    "duration": 35,
    "start_time": "2024-11-03T19:22:05.471Z"
   },
   {
    "duration": 5,
    "start_time": "2024-11-03T19:22:05.507Z"
   },
   {
    "duration": 34,
    "start_time": "2024-11-03T19:22:05.514Z"
   },
   {
    "duration": 237,
    "start_time": "2024-11-03T19:22:05.550Z"
   },
   {
    "duration": 16,
    "start_time": "2024-11-03T19:22:05.789Z"
   },
   {
    "duration": 6,
    "start_time": "2024-11-03T19:22:05.807Z"
   },
   {
    "duration": 46,
    "start_time": "2024-11-03T19:22:05.815Z"
   },
   {
    "duration": 5,
    "start_time": "2024-11-03T19:22:05.864Z"
   },
   {
    "duration": 3,
    "start_time": "2024-11-03T19:22:05.875Z"
   },
   {
    "duration": 29,
    "start_time": "2024-11-03T19:22:05.881Z"
   },
   {
    "duration": 12,
    "start_time": "2024-11-03T19:22:05.912Z"
   },
   {
    "duration": 41,
    "start_time": "2024-11-03T19:24:39.989Z"
   },
   {
    "duration": 20,
    "start_time": "2024-11-03T19:24:42.087Z"
   },
   {
    "duration": 8,
    "start_time": "2024-11-03T19:24:42.492Z"
   },
   {
    "duration": 4,
    "start_time": "2024-11-03T19:25:01.281Z"
   },
   {
    "duration": 858,
    "start_time": "2024-11-03T19:25:01.287Z"
   },
   {
    "duration": 10,
    "start_time": "2024-11-03T19:25:02.147Z"
   },
   {
    "duration": 4,
    "start_time": "2024-11-03T19:25:02.160Z"
   },
   {
    "duration": 9,
    "start_time": "2024-11-03T19:25:02.166Z"
   },
   {
    "duration": 34,
    "start_time": "2024-11-03T19:25:02.178Z"
   },
   {
    "duration": 8,
    "start_time": "2024-11-03T19:25:02.214Z"
   },
   {
    "duration": 23,
    "start_time": "2024-11-03T19:25:02.223Z"
   },
   {
    "duration": 6,
    "start_time": "2024-11-03T19:25:02.248Z"
   },
   {
    "duration": 8,
    "start_time": "2024-11-03T19:25:02.258Z"
   },
   {
    "duration": 43,
    "start_time": "2024-11-03T19:25:02.268Z"
   },
   {
    "duration": 8,
    "start_time": "2024-11-03T19:25:02.313Z"
   },
   {
    "duration": 7,
    "start_time": "2024-11-03T19:25:02.323Z"
   },
   {
    "duration": 127,
    "start_time": "2024-11-03T19:25:02.331Z"
   },
   {
    "duration": 18,
    "start_time": "2024-11-03T19:25:02.461Z"
   },
   {
    "duration": 7,
    "start_time": "2024-11-03T19:25:02.481Z"
   },
   {
    "duration": 13,
    "start_time": "2024-11-03T19:25:02.493Z"
   },
   {
    "duration": 51,
    "start_time": "2024-11-03T19:25:02.508Z"
   },
   {
    "duration": 17,
    "start_time": "2024-11-03T19:25:02.561Z"
   },
   {
    "duration": 32,
    "start_time": "2024-11-03T19:25:02.579Z"
   },
   {
    "duration": 27,
    "start_time": "2024-11-03T19:25:02.613Z"
   },
   {
    "duration": 10,
    "start_time": "2024-11-03T19:25:02.642Z"
   },
   {
    "duration": 4,
    "start_time": "2024-11-03T19:25:02.654Z"
   },
   {
    "duration": 5,
    "start_time": "2024-11-03T19:25:02.660Z"
   },
   {
    "duration": 39,
    "start_time": "2024-11-03T19:25:02.667Z"
   },
   {
    "duration": 8,
    "start_time": "2024-11-03T19:25:02.709Z"
   },
   {
    "duration": 845,
    "start_time": "2024-11-03T19:25:02.719Z"
   },
   {
    "duration": 730,
    "start_time": "2024-11-03T19:25:03.569Z"
   },
   {
    "duration": 11,
    "start_time": "2024-11-03T19:25:04.302Z"
   },
   {
    "duration": 8,
    "start_time": "2024-11-03T19:25:04.315Z"
   },
   {
    "duration": 4,
    "start_time": "2024-11-03T19:25:04.325Z"
   },
   {
    "duration": 3,
    "start_time": "2024-11-03T19:25:04.331Z"
   },
   {
    "duration": 6,
    "start_time": "2024-11-03T19:25:04.336Z"
   },
   {
    "duration": 9,
    "start_time": "2024-11-03T19:25:04.344Z"
   },
   {
    "duration": 5,
    "start_time": "2024-11-03T19:25:04.355Z"
   },
   {
    "duration": 63,
    "start_time": "2024-11-03T19:25:04.362Z"
   },
   {
    "duration": 246,
    "start_time": "2024-11-03T19:25:04.427Z"
   },
   {
    "duration": 18,
    "start_time": "2024-11-03T19:25:04.675Z"
   },
   {
    "duration": 15,
    "start_time": "2024-11-03T19:25:04.695Z"
   },
   {
    "duration": 39,
    "start_time": "2024-11-03T19:25:04.713Z"
   },
   {
    "duration": 5,
    "start_time": "2024-11-03T19:25:04.755Z"
   },
   {
    "duration": 5,
    "start_time": "2024-11-03T19:25:04.762Z"
   },
   {
    "duration": 37,
    "start_time": "2024-11-03T19:25:04.769Z"
   },
   {
    "duration": 9,
    "start_time": "2024-11-03T19:25:04.809Z"
   },
   {
    "duration": 6,
    "start_time": "2024-11-03T19:25:43.885Z"
   },
   {
    "duration": 1307,
    "start_time": "2024-11-03T19:25:43.898Z"
   },
   {
    "duration": 14,
    "start_time": "2024-11-03T19:25:45.208Z"
   },
   {
    "duration": 5,
    "start_time": "2024-11-03T19:25:45.224Z"
   },
   {
    "duration": 10,
    "start_time": "2024-11-03T19:25:45.231Z"
   },
   {
    "duration": 13,
    "start_time": "2024-11-03T19:25:45.243Z"
   },
   {
    "duration": 9,
    "start_time": "2024-11-03T19:25:45.258Z"
   },
   {
    "duration": 73,
    "start_time": "2024-11-03T19:25:45.269Z"
   },
   {
    "duration": 9,
    "start_time": "2024-11-03T19:25:45.345Z"
   },
   {
    "duration": 10,
    "start_time": "2024-11-03T19:25:45.356Z"
   },
   {
    "duration": 8,
    "start_time": "2024-11-03T19:25:45.368Z"
   },
   {
    "duration": 15,
    "start_time": "2024-11-03T19:25:45.404Z"
   },
   {
    "duration": 8,
    "start_time": "2024-11-03T19:25:45.421Z"
   },
   {
    "duration": 118,
    "start_time": "2024-11-03T19:25:45.432Z"
   },
   {
    "duration": 18,
    "start_time": "2024-11-03T19:25:45.555Z"
   },
   {
    "duration": 8,
    "start_time": "2024-11-03T19:25:45.575Z"
   },
   {
    "duration": 21,
    "start_time": "2024-11-03T19:25:45.585Z"
   },
   {
    "duration": 48,
    "start_time": "2024-11-03T19:25:45.609Z"
   },
   {
    "duration": 46,
    "start_time": "2024-11-03T19:25:45.660Z"
   },
   {
    "duration": 8,
    "start_time": "2024-11-03T19:25:45.708Z"
   },
   {
    "duration": 28,
    "start_time": "2024-11-03T19:25:45.718Z"
   },
   {
    "duration": 11,
    "start_time": "2024-11-03T19:25:45.748Z"
   },
   {
    "duration": 6,
    "start_time": "2024-11-03T19:25:45.761Z"
   },
   {
    "duration": 40,
    "start_time": "2024-11-03T19:25:45.769Z"
   },
   {
    "duration": 5,
    "start_time": "2024-11-03T19:25:45.811Z"
   },
   {
    "duration": 6,
    "start_time": "2024-11-03T19:25:45.818Z"
   },
   {
    "duration": 1192,
    "start_time": "2024-11-03T19:25:45.826Z"
   },
   {
    "duration": 1041,
    "start_time": "2024-11-03T19:25:47.020Z"
   },
   {
    "duration": 14,
    "start_time": "2024-11-03T19:25:48.066Z"
   },
   {
    "duration": 10,
    "start_time": "2024-11-03T19:25:48.082Z"
   },
   {
    "duration": 12,
    "start_time": "2024-11-03T19:25:48.093Z"
   },
   {
    "duration": 4,
    "start_time": "2024-11-03T19:25:48.108Z"
   },
   {
    "duration": 8,
    "start_time": "2024-11-03T19:25:48.114Z"
   },
   {
    "duration": 10,
    "start_time": "2024-11-03T19:25:48.124Z"
   },
   {
    "duration": 5,
    "start_time": "2024-11-03T19:25:48.136Z"
   },
   {
    "duration": 64,
    "start_time": "2024-11-03T19:25:48.143Z"
   },
   {
    "duration": 243,
    "start_time": "2024-11-03T19:25:48.209Z"
   },
   {
    "duration": 15,
    "start_time": "2024-11-03T19:25:48.455Z"
   },
   {
    "duration": 7,
    "start_time": "2024-11-03T19:25:48.473Z"
   },
   {
    "duration": 54,
    "start_time": "2024-11-03T19:25:48.482Z"
   },
   {
    "duration": 5,
    "start_time": "2024-11-03T19:25:48.539Z"
   },
   {
    "duration": 4,
    "start_time": "2024-11-03T19:25:48.551Z"
   },
   {
    "duration": 9,
    "start_time": "2024-11-03T19:25:48.557Z"
   },
   {
    "duration": 43,
    "start_time": "2024-11-03T19:25:48.568Z"
   },
   {
    "duration": 12,
    "start_time": "2024-11-03T19:27:23.508Z"
   },
   {
    "duration": 7,
    "start_time": "2024-11-03T19:31:34.998Z"
   },
   {
    "duration": 6,
    "start_time": "2024-11-03T19:31:37.682Z"
   },
   {
    "duration": 264,
    "start_time": "2024-11-03T19:31:58.713Z"
   },
   {
    "duration": 5,
    "start_time": "2024-11-03T19:32:14.977Z"
   },
   {
    "duration": 2,
    "start_time": "2024-11-03T19:32:22.373Z"
   },
   {
    "duration": 928,
    "start_time": "2024-11-03T19:32:22.383Z"
   },
   {
    "duration": 12,
    "start_time": "2024-11-03T19:32:23.314Z"
   },
   {
    "duration": 4,
    "start_time": "2024-11-03T19:32:23.328Z"
   },
   {
    "duration": 8,
    "start_time": "2024-11-03T19:32:23.337Z"
   },
   {
    "duration": 11,
    "start_time": "2024-11-03T19:32:23.347Z"
   },
   {
    "duration": 6,
    "start_time": "2024-11-03T19:32:23.360Z"
   },
   {
    "duration": 62,
    "start_time": "2024-11-03T19:32:23.368Z"
   },
   {
    "duration": 6,
    "start_time": "2024-11-03T19:32:23.433Z"
   },
   {
    "duration": 9,
    "start_time": "2024-11-03T19:32:23.442Z"
   },
   {
    "duration": 5,
    "start_time": "2024-11-03T19:32:23.453Z"
   },
   {
    "duration": 10,
    "start_time": "2024-11-03T19:32:23.460Z"
   },
   {
    "duration": 36,
    "start_time": "2024-11-03T19:32:23.471Z"
   },
   {
    "duration": 76,
    "start_time": "2024-11-03T19:32:23.509Z"
   },
   {
    "duration": 13,
    "start_time": "2024-11-03T19:32:23.608Z"
   },
   {
    "duration": 7,
    "start_time": "2024-11-03T19:32:23.622Z"
   },
   {
    "duration": 4,
    "start_time": "2024-11-03T19:32:23.632Z"
   },
   {
    "duration": 79,
    "start_time": "2024-11-03T19:32:23.638Z"
   },
   {
    "duration": 15,
    "start_time": "2024-11-03T19:32:23.720Z"
   },
   {
    "duration": 6,
    "start_time": "2024-11-03T19:32:23.737Z"
   },
   {
    "duration": 20,
    "start_time": "2024-11-03T19:32:23.744Z"
   },
   {
    "duration": 7,
    "start_time": "2024-11-03T19:32:23.765Z"
   },
   {
    "duration": 35,
    "start_time": "2024-11-03T19:32:23.773Z"
   },
   {
    "duration": 5,
    "start_time": "2024-11-03T19:32:23.810Z"
   },
   {
    "duration": 5,
    "start_time": "2024-11-03T19:32:23.817Z"
   },
   {
    "duration": 5,
    "start_time": "2024-11-03T19:32:23.824Z"
   },
   {
    "duration": 844,
    "start_time": "2024-11-03T19:32:23.830Z"
   },
   {
    "duration": 733,
    "start_time": "2024-11-03T19:32:24.676Z"
   },
   {
    "duration": 12,
    "start_time": "2024-11-03T19:32:25.411Z"
   },
   {
    "duration": 7,
    "start_time": "2024-11-03T19:32:25.426Z"
   },
   {
    "duration": 4,
    "start_time": "2024-11-03T19:32:25.435Z"
   },
   {
    "duration": 4,
    "start_time": "2024-11-03T19:32:25.441Z"
   },
   {
    "duration": 7,
    "start_time": "2024-11-03T19:32:25.447Z"
   },
   {
    "duration": 8,
    "start_time": "2024-11-03T19:32:25.456Z"
   },
   {
    "duration": 41,
    "start_time": "2024-11-03T19:32:25.466Z"
   },
   {
    "duration": 26,
    "start_time": "2024-11-03T19:32:25.509Z"
   },
   {
    "duration": 222,
    "start_time": "2024-11-03T19:32:25.538Z"
   },
   {
    "duration": 13,
    "start_time": "2024-11-03T19:32:25.762Z"
   },
   {
    "duration": 5,
    "start_time": "2024-11-03T19:32:25.777Z"
   },
   {
    "duration": 45,
    "start_time": "2024-11-03T19:32:25.784Z"
   },
   {
    "duration": 4,
    "start_time": "2024-11-03T19:32:25.832Z"
   },
   {
    "duration": 3,
    "start_time": "2024-11-03T19:32:25.842Z"
   },
   {
    "duration": 8,
    "start_time": "2024-11-03T19:32:25.848Z"
   },
   {
    "duration": 5,
    "start_time": "2024-11-03T19:32:25.858Z"
   },
   {
    "duration": 44,
    "start_time": "2024-11-03T19:32:25.864Z"
   },
   {
    "duration": 6,
    "start_time": "2024-11-03T19:34:37.917Z"
   },
   {
    "duration": 9,
    "start_time": "2024-11-03T19:35:37.991Z"
   },
   {
    "duration": 7,
    "start_time": "2024-11-03T19:36:00.762Z"
   },
   {
    "duration": 9,
    "start_time": "2024-11-03T19:36:11.394Z"
   },
   {
    "duration": 9,
    "start_time": "2024-11-03T19:36:22.354Z"
   },
   {
    "duration": 8,
    "start_time": "2024-11-03T19:36:32.026Z"
   },
   {
    "duration": 6,
    "start_time": "2024-11-03T19:36:39.129Z"
   },
   {
    "duration": 4,
    "start_time": "2024-11-03T19:41:27.735Z"
   },
   {
    "duration": 4,
    "start_time": "2024-11-03T19:41:33.553Z"
   },
   {
    "duration": 15,
    "start_time": "2024-11-03T19:41:35.803Z"
   },
   {
    "duration": 20,
    "start_time": "2024-11-03T19:41:44.521Z"
   },
   {
    "duration": 14,
    "start_time": "2024-11-03T19:43:08.326Z"
   },
   {
    "duration": 4,
    "start_time": "2024-11-03T19:44:57.257Z"
   },
   {
    "duration": 4,
    "start_time": "2024-11-03T19:45:13.198Z"
   },
   {
    "duration": 14,
    "start_time": "2024-11-03T19:45:21.185Z"
   },
   {
    "duration": 4,
    "start_time": "2024-11-03T19:47:13.060Z"
   },
   {
    "duration": 4,
    "start_time": "2024-11-03T19:47:17.102Z"
   },
   {
    "duration": 4,
    "start_time": "2024-11-03T19:47:22.031Z"
   },
   {
    "duration": 7,
    "start_time": "2024-11-03T19:48:53.762Z"
   },
   {
    "duration": 4,
    "start_time": "2024-11-03T19:48:55.068Z"
   },
   {
    "duration": 14,
    "start_time": "2024-11-03T19:48:55.743Z"
   },
   {
    "duration": 13,
    "start_time": "2024-11-03T19:49:09.468Z"
   },
   {
    "duration": 14,
    "start_time": "2024-11-03T19:49:25.685Z"
   },
   {
    "duration": 10,
    "start_time": "2024-11-03T19:49:34.591Z"
   },
   {
    "duration": 3,
    "start_time": "2024-11-03T19:49:37.188Z"
   },
   {
    "duration": 4,
    "start_time": "2024-11-03T19:49:52.023Z"
   },
   {
    "duration": 4,
    "start_time": "2024-11-03T19:49:57.987Z"
   },
   {
    "duration": 2,
    "start_time": "2024-11-03T19:51:03.654Z"
   },
   {
    "duration": 4,
    "start_time": "2024-11-03T19:51:11.612Z"
   },
   {
    "duration": 12,
    "start_time": "2024-11-03T19:51:20.382Z"
   },
   {
    "duration": 21,
    "start_time": "2024-11-03T19:51:30.026Z"
   },
   {
    "duration": 14,
    "start_time": "2024-11-03T19:51:36.313Z"
   },
   {
    "duration": 3,
    "start_time": "2024-11-03T19:53:49.882Z"
   },
   {
    "duration": 3,
    "start_time": "2024-11-03T19:53:52.540Z"
   },
   {
    "duration": 6,
    "start_time": "2024-11-03T19:54:06.131Z"
   },
   {
    "duration": 4,
    "start_time": "2024-11-03T19:54:29.074Z"
   },
   {
    "duration": 8,
    "start_time": "2024-11-03T19:55:11.526Z"
   },
   {
    "duration": 6,
    "start_time": "2024-11-03T19:55:25.859Z"
   },
   {
    "duration": 5,
    "start_time": "2024-11-03T19:56:03.370Z"
   },
   {
    "duration": 6,
    "start_time": "2024-11-03T19:57:01.572Z"
   },
   {
    "duration": 7,
    "start_time": "2024-11-03T19:57:04.466Z"
   },
   {
    "duration": 9,
    "start_time": "2024-11-03T19:59:45.245Z"
   },
   {
    "duration": 4,
    "start_time": "2024-11-03T20:00:05.889Z"
   },
   {
    "duration": 8,
    "start_time": "2024-11-03T20:00:10.024Z"
   },
   {
    "duration": 4,
    "start_time": "2024-11-03T20:00:11.057Z"
   },
   {
    "duration": 2303,
    "start_time": "2024-11-03T20:04:38.669Z"
   },
   {
    "duration": 52,
    "start_time": "2024-11-03T20:06:34.344Z"
   },
   {
    "duration": 4,
    "start_time": "2024-11-03T20:06:43.333Z"
   },
   {
    "duration": 64,
    "start_time": "2024-11-03T20:16:18.235Z"
   },
   {
    "duration": 4,
    "start_time": "2024-11-03T20:16:38.615Z"
   },
   {
    "duration": 34,
    "start_time": "2024-11-03T20:16:40.086Z"
   },
   {
    "duration": 121,
    "start_time": "2024-11-03T20:16:46.158Z"
   },
   {
    "duration": 129,
    "start_time": "2024-11-03T20:17:27.913Z"
   },
   {
    "duration": 114,
    "start_time": "2024-11-03T20:17:49.281Z"
   },
   {
    "duration": 30,
    "start_time": "2024-11-03T20:17:55.750Z"
   },
   {
    "duration": 3,
    "start_time": "2024-11-03T20:22:15.491Z"
   },
   {
    "duration": 836,
    "start_time": "2024-11-03T20:22:15.496Z"
   },
   {
    "duration": 10,
    "start_time": "2024-11-03T20:22:16.335Z"
   },
   {
    "duration": 10,
    "start_time": "2024-11-03T20:22:16.347Z"
   },
   {
    "duration": 9,
    "start_time": "2024-11-03T20:22:16.361Z"
   },
   {
    "duration": 10,
    "start_time": "2024-11-03T20:22:16.372Z"
   },
   {
    "duration": 6,
    "start_time": "2024-11-03T20:22:16.405Z"
   },
   {
    "duration": 25,
    "start_time": "2024-11-03T20:22:16.413Z"
   },
   {
    "duration": 9,
    "start_time": "2024-11-03T20:22:16.440Z"
   },
   {
    "duration": 8,
    "start_time": "2024-11-03T20:22:16.450Z"
   },
   {
    "duration": 5,
    "start_time": "2024-11-03T20:22:16.463Z"
   },
   {
    "duration": 8,
    "start_time": "2024-11-03T20:22:16.506Z"
   },
   {
    "duration": 6,
    "start_time": "2024-11-03T20:22:16.515Z"
   },
   {
    "duration": 106,
    "start_time": "2024-11-03T20:22:16.522Z"
   },
   {
    "duration": 11,
    "start_time": "2024-11-03T20:22:16.630Z"
   },
   {
    "duration": 5,
    "start_time": "2024-11-03T20:22:16.643Z"
   },
   {
    "duration": 4,
    "start_time": "2024-11-03T20:22:16.650Z"
   },
   {
    "duration": 69,
    "start_time": "2024-11-03T20:22:16.656Z"
   },
   {
    "duration": 15,
    "start_time": "2024-11-03T20:22:16.727Z"
   },
   {
    "duration": 5,
    "start_time": "2024-11-03T20:22:16.744Z"
   },
   {
    "duration": 16,
    "start_time": "2024-11-03T20:22:16.750Z"
   },
   {
    "duration": 6,
    "start_time": "2024-11-03T20:22:16.769Z"
   },
   {
    "duration": 5,
    "start_time": "2024-11-03T20:22:16.804Z"
   },
   {
    "duration": 5,
    "start_time": "2024-11-03T20:22:16.810Z"
   },
   {
    "duration": 4,
    "start_time": "2024-11-03T20:22:16.817Z"
   },
   {
    "duration": 4,
    "start_time": "2024-11-03T20:22:16.823Z"
   },
   {
    "duration": 780,
    "start_time": "2024-11-03T20:22:16.829Z"
   },
   {
    "duration": 638,
    "start_time": "2024-11-03T20:22:17.611Z"
   },
   {
    "duration": 7,
    "start_time": "2024-11-03T20:22:18.253Z"
   },
   {
    "duration": 6,
    "start_time": "2024-11-03T20:22:18.262Z"
   },
   {
    "duration": 12,
    "start_time": "2024-11-03T20:22:18.270Z"
   },
   {
    "duration": 4,
    "start_time": "2024-11-03T20:22:18.284Z"
   },
   {
    "duration": 6,
    "start_time": "2024-11-03T20:22:18.306Z"
   },
   {
    "duration": 7,
    "start_time": "2024-11-03T20:22:18.313Z"
   },
   {
    "duration": 4,
    "start_time": "2024-11-03T20:22:18.321Z"
   },
   {
    "duration": 18,
    "start_time": "2024-11-03T20:22:18.327Z"
   },
   {
    "duration": 227,
    "start_time": "2024-11-03T20:22:18.346Z"
   },
   {
    "duration": 12,
    "start_time": "2024-11-03T20:22:18.576Z"
   },
   {
    "duration": 18,
    "start_time": "2024-11-03T20:22:18.590Z"
   },
   {
    "duration": 27,
    "start_time": "2024-11-03T20:22:18.610Z"
   },
   {
    "duration": 4,
    "start_time": "2024-11-03T20:22:18.639Z"
   },
   {
    "duration": 5,
    "start_time": "2024-11-03T20:22:18.644Z"
   },
   {
    "duration": 6,
    "start_time": "2024-11-03T20:22:18.650Z"
   },
   {
    "duration": 3,
    "start_time": "2024-11-03T20:22:18.658Z"
   },
   {
    "duration": 5,
    "start_time": "2024-11-03T20:22:18.663Z"
   },
   {
    "duration": 40,
    "start_time": "2024-11-03T20:22:18.669Z"
   },
   {
    "duration": 6,
    "start_time": "2024-11-03T20:22:18.710Z"
   },
   {
    "duration": 3,
    "start_time": "2024-11-03T20:22:18.717Z"
   },
   {
    "duration": 30,
    "start_time": "2024-11-03T20:22:18.721Z"
   },
   {
    "duration": 0,
    "start_time": "2024-11-03T20:22:18.752Z"
   },
   {
    "duration": 0,
    "start_time": "2024-11-03T20:22:18.753Z"
   },
   {
    "duration": 28,
    "start_time": "2024-11-03T20:24:38.797Z"
   },
   {
    "duration": 4,
    "start_time": "2024-11-03T20:25:21.633Z"
   },
   {
    "duration": 568,
    "start_time": "2024-11-03T20:25:28.479Z"
   },
   {
    "duration": 2,
    "start_time": "2024-11-03T20:26:09.281Z"
   },
   {
    "duration": 2,
    "start_time": "2024-11-03T20:26:13.439Z"
   },
   {
    "duration": 869,
    "start_time": "2024-11-03T20:26:13.444Z"
   },
   {
    "duration": 10,
    "start_time": "2024-11-03T20:26:14.315Z"
   },
   {
    "duration": 3,
    "start_time": "2024-11-03T20:26:14.327Z"
   },
   {
    "duration": 7,
    "start_time": "2024-11-03T20:26:14.332Z"
   },
   {
    "duration": 9,
    "start_time": "2024-11-03T20:26:14.341Z"
   },
   {
    "duration": 7,
    "start_time": "2024-11-03T20:26:14.351Z"
   },
   {
    "duration": 58,
    "start_time": "2024-11-03T20:26:14.359Z"
   },
   {
    "duration": 6,
    "start_time": "2024-11-03T20:26:14.419Z"
   },
   {
    "duration": 7,
    "start_time": "2024-11-03T20:26:14.427Z"
   },
   {
    "duration": 6,
    "start_time": "2024-11-03T20:26:14.437Z"
   },
   {
    "duration": 8,
    "start_time": "2024-11-03T20:26:14.444Z"
   },
   {
    "duration": 5,
    "start_time": "2024-11-03T20:26:14.453Z"
   },
   {
    "duration": 117,
    "start_time": "2024-11-03T20:26:14.462Z"
   },
   {
    "duration": 11,
    "start_time": "2024-11-03T20:26:14.580Z"
   },
   {
    "duration": 5,
    "start_time": "2024-11-03T20:26:14.605Z"
   },
   {
    "duration": 4,
    "start_time": "2024-11-03T20:26:14.611Z"
   },
   {
    "duration": 43,
    "start_time": "2024-11-03T20:26:14.617Z"
   },
   {
    "duration": 44,
    "start_time": "2024-11-03T20:26:14.662Z"
   },
   {
    "duration": 5,
    "start_time": "2024-11-03T20:26:14.708Z"
   },
   {
    "duration": 19,
    "start_time": "2024-11-03T20:26:14.715Z"
   },
   {
    "duration": 7,
    "start_time": "2024-11-03T20:26:14.735Z"
   },
   {
    "duration": 4,
    "start_time": "2024-11-03T20:26:14.743Z"
   },
   {
    "duration": 5,
    "start_time": "2024-11-03T20:26:14.749Z"
   },
   {
    "duration": 4,
    "start_time": "2024-11-03T20:26:14.756Z"
   },
   {
    "duration": 49,
    "start_time": "2024-11-03T20:26:14.761Z"
   },
   {
    "duration": 755,
    "start_time": "2024-11-03T20:26:14.812Z"
   },
   {
    "duration": 697,
    "start_time": "2024-11-03T20:26:15.569Z"
   },
   {
    "duration": 8,
    "start_time": "2024-11-03T20:26:16.268Z"
   },
   {
    "duration": 8,
    "start_time": "2024-11-03T20:26:16.277Z"
   },
   {
    "duration": 20,
    "start_time": "2024-11-03T20:26:16.287Z"
   },
   {
    "duration": 3,
    "start_time": "2024-11-03T20:26:16.309Z"
   },
   {
    "duration": 5,
    "start_time": "2024-11-03T20:26:16.314Z"
   },
   {
    "duration": 6,
    "start_time": "2024-11-03T20:26:16.321Z"
   },
   {
    "duration": 5,
    "start_time": "2024-11-03T20:26:16.328Z"
   },
   {
    "duration": 17,
    "start_time": "2024-11-03T20:26:16.334Z"
   },
   {
    "duration": 230,
    "start_time": "2024-11-03T20:26:16.353Z"
   },
   {
    "duration": 20,
    "start_time": "2024-11-03T20:26:16.586Z"
   },
   {
    "duration": 6,
    "start_time": "2024-11-03T20:26:16.608Z"
   },
   {
    "duration": 28,
    "start_time": "2024-11-03T20:26:16.616Z"
   },
   {
    "duration": 3,
    "start_time": "2024-11-03T20:26:16.649Z"
   },
   {
    "duration": 4,
    "start_time": "2024-11-03T20:26:16.654Z"
   },
   {
    "duration": 6,
    "start_time": "2024-11-03T20:26:16.660Z"
   },
   {
    "duration": 2,
    "start_time": "2024-11-03T20:26:16.704Z"
   },
   {
    "duration": 7,
    "start_time": "2024-11-03T20:26:16.708Z"
   },
   {
    "duration": 8,
    "start_time": "2024-11-03T20:26:16.716Z"
   },
   {
    "duration": 4,
    "start_time": "2024-11-03T20:26:16.725Z"
   },
   {
    "duration": 3,
    "start_time": "2024-11-03T20:26:16.731Z"
   },
   {
    "duration": 213,
    "start_time": "2024-11-03T20:26:16.735Z"
   },
   {
    "duration": 0,
    "start_time": "2024-11-03T20:26:16.950Z"
   },
   {
    "duration": 0,
    "start_time": "2024-11-03T20:26:16.951Z"
   },
   {
    "duration": 27,
    "start_time": "2024-11-03T20:27:04.983Z"
   },
   {
    "duration": 3,
    "start_time": "2024-11-03T20:28:32.688Z"
   },
   {
    "duration": 3,
    "start_time": "2024-11-03T20:28:34.875Z"
   },
   {
    "duration": 844,
    "start_time": "2024-11-03T20:28:34.880Z"
   },
   {
    "duration": 10,
    "start_time": "2024-11-03T20:28:35.726Z"
   },
   {
    "duration": 4,
    "start_time": "2024-11-03T20:28:35.738Z"
   },
   {
    "duration": 7,
    "start_time": "2024-11-03T20:28:35.744Z"
   },
   {
    "duration": 10,
    "start_time": "2024-11-03T20:28:35.753Z"
   },
   {
    "duration": 5,
    "start_time": "2024-11-03T20:28:35.765Z"
   },
   {
    "duration": 23,
    "start_time": "2024-11-03T20:28:35.806Z"
   },
   {
    "duration": 6,
    "start_time": "2024-11-03T20:28:35.833Z"
   },
   {
    "duration": 10,
    "start_time": "2024-11-03T20:28:35.841Z"
   },
   {
    "duration": 6,
    "start_time": "2024-11-03T20:28:35.852Z"
   },
   {
    "duration": 7,
    "start_time": "2024-11-03T20:28:35.860Z"
   },
   {
    "duration": 5,
    "start_time": "2024-11-03T20:28:35.905Z"
   },
   {
    "duration": 70,
    "start_time": "2024-11-03T20:28:35.912Z"
   },
   {
    "duration": 31,
    "start_time": "2024-11-03T20:28:35.983Z"
   },
   {
    "duration": 6,
    "start_time": "2024-11-03T20:28:36.016Z"
   },
   {
    "duration": 4,
    "start_time": "2024-11-03T20:28:36.023Z"
   },
   {
    "duration": 44,
    "start_time": "2024-11-03T20:28:36.028Z"
   },
   {
    "duration": 44,
    "start_time": "2024-11-03T20:28:36.073Z"
   },
   {
    "duration": 5,
    "start_time": "2024-11-03T20:28:36.120Z"
   },
   {
    "duration": 15,
    "start_time": "2024-11-03T20:28:36.127Z"
   },
   {
    "duration": 6,
    "start_time": "2024-11-03T20:28:36.144Z"
   },
   {
    "duration": 5,
    "start_time": "2024-11-03T20:28:36.152Z"
   },
   {
    "duration": 4,
    "start_time": "2024-11-03T20:28:36.163Z"
   },
   {
    "duration": 5,
    "start_time": "2024-11-03T20:28:36.206Z"
   },
   {
    "duration": 5,
    "start_time": "2024-11-03T20:28:36.213Z"
   },
   {
    "duration": 789,
    "start_time": "2024-11-03T20:28:36.220Z"
   },
   {
    "duration": 673,
    "start_time": "2024-11-03T20:28:37.011Z"
   },
   {
    "duration": 8,
    "start_time": "2024-11-03T20:28:37.686Z"
   },
   {
    "duration": 6,
    "start_time": "2024-11-03T20:28:37.705Z"
   },
   {
    "duration": 4,
    "start_time": "2024-11-03T20:28:37.713Z"
   },
   {
    "duration": 3,
    "start_time": "2024-11-03T20:28:37.718Z"
   },
   {
    "duration": 6,
    "start_time": "2024-11-03T20:28:37.723Z"
   },
   {
    "duration": 6,
    "start_time": "2024-11-03T20:28:37.730Z"
   },
   {
    "duration": 4,
    "start_time": "2024-11-03T20:28:37.738Z"
   },
   {
    "duration": 63,
    "start_time": "2024-11-03T20:28:37.743Z"
   },
   {
    "duration": 190,
    "start_time": "2024-11-03T20:28:37.808Z"
   },
   {
    "duration": 15,
    "start_time": "2024-11-03T20:28:38.000Z"
   },
   {
    "duration": 6,
    "start_time": "2024-11-03T20:28:38.017Z"
   },
   {
    "duration": 27,
    "start_time": "2024-11-03T20:28:38.024Z"
   },
   {
    "duration": 4,
    "start_time": "2024-11-03T20:28:38.053Z"
   },
   {
    "duration": 5,
    "start_time": "2024-11-03T20:28:38.059Z"
   },
   {
    "duration": 6,
    "start_time": "2024-11-03T20:28:38.066Z"
   },
   {
    "duration": 2,
    "start_time": "2024-11-03T20:28:38.105Z"
   },
   {
    "duration": 7,
    "start_time": "2024-11-03T20:28:38.109Z"
   },
   {
    "duration": 7,
    "start_time": "2024-11-03T20:28:38.117Z"
   },
   {
    "duration": 3,
    "start_time": "2024-11-03T20:28:38.125Z"
   },
   {
    "duration": 27,
    "start_time": "2024-11-03T20:28:38.130Z"
   },
   {
    "duration": 0,
    "start_time": "2024-11-03T20:28:38.159Z"
   },
   {
    "duration": 0,
    "start_time": "2024-11-03T20:28:38.160Z"
   },
   {
    "duration": 100,
    "start_time": "2024-11-03T20:30:02.774Z"
   },
   {
    "duration": 6,
    "start_time": "2024-11-03T20:34:43.104Z"
   },
   {
    "duration": 3,
    "start_time": "2024-11-03T20:35:04.469Z"
   },
   {
    "duration": 3,
    "start_time": "2024-11-03T20:36:12.014Z"
   },
   {
    "duration": 868,
    "start_time": "2024-11-03T20:36:12.019Z"
   },
   {
    "duration": 15,
    "start_time": "2024-11-03T20:36:12.889Z"
   },
   {
    "duration": 5,
    "start_time": "2024-11-03T20:36:12.906Z"
   },
   {
    "duration": 9,
    "start_time": "2024-11-03T20:36:12.914Z"
   },
   {
    "duration": 9,
    "start_time": "2024-11-03T20:36:12.925Z"
   },
   {
    "duration": 5,
    "start_time": "2024-11-03T20:36:12.935Z"
   },
   {
    "duration": 22,
    "start_time": "2024-11-03T20:36:12.942Z"
   },
   {
    "duration": 11,
    "start_time": "2024-11-03T20:36:13.005Z"
   },
   {
    "duration": 114,
    "start_time": "2024-11-03T20:36:13.018Z"
   },
   {
    "duration": 5,
    "start_time": "2024-11-03T20:36:13.134Z"
   },
   {
    "duration": 8,
    "start_time": "2024-11-03T20:36:13.141Z"
   },
   {
    "duration": 5,
    "start_time": "2024-11-03T20:36:13.153Z"
   },
   {
    "duration": 100,
    "start_time": "2024-11-03T20:36:13.160Z"
   },
   {
    "duration": 10,
    "start_time": "2024-11-03T20:36:13.262Z"
   },
   {
    "duration": 6,
    "start_time": "2024-11-03T20:36:13.274Z"
   },
   {
    "duration": 3,
    "start_time": "2024-11-03T20:36:13.282Z"
   },
   {
    "duration": 37,
    "start_time": "2024-11-03T20:36:13.306Z"
   },
   {
    "duration": 16,
    "start_time": "2024-11-03T20:36:13.345Z"
   },
   {
    "duration": 6,
    "start_time": "2024-11-03T20:36:13.363Z"
   },
   {
    "duration": 49,
    "start_time": "2024-11-03T20:36:13.371Z"
   },
   {
    "duration": 6,
    "start_time": "2024-11-03T20:36:13.422Z"
   },
   {
    "duration": 4,
    "start_time": "2024-11-03T20:36:13.430Z"
   },
   {
    "duration": 4,
    "start_time": "2024-11-03T20:36:13.436Z"
   },
   {
    "duration": 4,
    "start_time": "2024-11-03T20:36:13.442Z"
   },
   {
    "duration": 4,
    "start_time": "2024-11-03T20:36:13.448Z"
   },
   {
    "duration": 754,
    "start_time": "2024-11-03T20:36:13.454Z"
   },
   {
    "duration": 651,
    "start_time": "2024-11-03T20:36:14.210Z"
   },
   {
    "duration": 7,
    "start_time": "2024-11-03T20:36:14.863Z"
   },
   {
    "duration": 6,
    "start_time": "2024-11-03T20:36:14.872Z"
   },
   {
    "duration": 25,
    "start_time": "2024-11-03T20:36:14.880Z"
   },
   {
    "duration": 4,
    "start_time": "2024-11-03T20:36:14.906Z"
   },
   {
    "duration": 7,
    "start_time": "2024-11-03T20:36:14.911Z"
   },
   {
    "duration": 7,
    "start_time": "2024-11-03T20:36:14.920Z"
   },
   {
    "duration": 4,
    "start_time": "2024-11-03T20:36:14.929Z"
   },
   {
    "duration": 18,
    "start_time": "2024-11-03T20:36:14.934Z"
   },
   {
    "duration": 231,
    "start_time": "2024-11-03T20:36:14.956Z"
   },
   {
    "duration": 16,
    "start_time": "2024-11-03T20:36:15.189Z"
   },
   {
    "duration": 5,
    "start_time": "2024-11-03T20:36:15.207Z"
   },
   {
    "duration": 29,
    "start_time": "2024-11-03T20:36:15.214Z"
   },
   {
    "duration": 5,
    "start_time": "2024-11-03T20:36:15.245Z"
   },
   {
    "duration": 5,
    "start_time": "2024-11-03T20:36:15.252Z"
   },
   {
    "duration": 47,
    "start_time": "2024-11-03T20:36:15.259Z"
   },
   {
    "duration": 3,
    "start_time": "2024-11-03T20:36:15.309Z"
   },
   {
    "duration": 8,
    "start_time": "2024-11-03T20:36:15.313Z"
   },
   {
    "duration": 8,
    "start_time": "2024-11-03T20:36:15.322Z"
   },
   {
    "duration": 4,
    "start_time": "2024-11-03T20:36:15.331Z"
   },
   {
    "duration": 5,
    "start_time": "2024-11-03T20:36:15.336Z"
   },
   {
    "duration": 0,
    "start_time": "2024-11-03T20:36:15.342Z"
   },
   {
    "duration": 0,
    "start_time": "2024-11-03T20:36:15.343Z"
   },
   {
    "duration": 9,
    "start_time": "2024-11-03T20:36:27.672Z"
   },
   {
    "duration": 126,
    "start_time": "2024-11-03T20:36:33.504Z"
   },
   {
    "duration": 151,
    "start_time": "2024-11-03T20:36:50.138Z"
   },
   {
    "duration": 152,
    "start_time": "2024-11-03T20:37:20.370Z"
   },
   {
    "duration": 149,
    "start_time": "2024-11-03T20:37:34.441Z"
   },
   {
    "duration": 153,
    "start_time": "2024-11-03T20:38:51.282Z"
   },
   {
    "duration": 152,
    "start_time": "2024-11-03T20:39:06.061Z"
   },
   {
    "duration": 162,
    "start_time": "2024-11-03T20:41:10.945Z"
   },
   {
    "duration": 171,
    "start_time": "2024-11-03T20:41:21.828Z"
   },
   {
    "duration": 173,
    "start_time": "2024-11-03T20:41:56.886Z"
   },
   {
    "duration": 184,
    "start_time": "2024-11-03T20:42:05.906Z"
   },
   {
    "duration": 173,
    "start_time": "2024-11-03T20:42:10.778Z"
   },
   {
    "duration": 178,
    "start_time": "2024-11-03T20:42:17.181Z"
   },
   {
    "duration": 6,
    "start_time": "2024-11-03T20:44:22.689Z"
   },
   {
    "duration": 173,
    "start_time": "2024-11-03T20:45:08.543Z"
   },
   {
    "duration": 613,
    "start_time": "2024-11-03T20:51:07.585Z"
   },
   {
    "duration": 172,
    "start_time": "2024-11-03T20:51:51.440Z"
   },
   {
    "duration": 302,
    "start_time": "2024-11-03T20:52:00.718Z"
   },
   {
    "duration": 171,
    "start_time": "2024-11-03T20:52:06.670Z"
   },
   {
    "duration": 171,
    "start_time": "2024-11-03T20:54:44.335Z"
   },
   {
    "duration": 221,
    "start_time": "2024-11-03T20:54:56.123Z"
   },
   {
    "duration": 226,
    "start_time": "2024-11-03T20:55:06.238Z"
   },
   {
    "duration": 238,
    "start_time": "2024-11-03T20:55:14.110Z"
   },
   {
    "duration": 235,
    "start_time": "2024-11-03T20:55:22.430Z"
   },
   {
    "duration": 152,
    "start_time": "2024-11-03T20:55:46.497Z"
   },
   {
    "duration": 156,
    "start_time": "2024-11-03T20:56:30.686Z"
   },
   {
    "duration": 245,
    "start_time": "2024-11-03T20:56:36.658Z"
   },
   {
    "duration": 38,
    "start_time": "2024-11-03T21:04:02.796Z"
   },
   {
    "duration": 140,
    "start_time": "2024-11-03T21:08:19.332Z"
   },
   {
    "duration": 142,
    "start_time": "2024-11-03T21:09:17.979Z"
   },
   {
    "duration": 142,
    "start_time": "2024-11-03T21:10:45.695Z"
   },
   {
    "duration": 49,
    "start_time": "2024-11-03T21:12:52.716Z"
   },
   {
    "duration": 140,
    "start_time": "2024-11-03T21:12:59.666Z"
   },
   {
    "duration": 143,
    "start_time": "2024-11-03T21:13:12.994Z"
   },
   {
    "duration": 147,
    "start_time": "2024-11-03T21:13:22.294Z"
   },
   {
    "duration": 143,
    "start_time": "2024-11-03T21:13:50.686Z"
   },
   {
    "duration": 302,
    "start_time": "2024-11-03T21:14:08.587Z"
   },
   {
    "duration": 156,
    "start_time": "2024-11-03T21:14:53.199Z"
   },
   {
    "duration": 69,
    "start_time": "2024-11-03T21:14:58.321Z"
   },
   {
    "duration": 139,
    "start_time": "2024-11-03T21:15:08.821Z"
   },
   {
    "duration": 2,
    "start_time": "2024-11-03T21:16:42.850Z"
   },
   {
    "duration": 861,
    "start_time": "2024-11-03T21:16:42.854Z"
   },
   {
    "duration": 10,
    "start_time": "2024-11-03T21:16:43.717Z"
   },
   {
    "duration": 4,
    "start_time": "2024-11-03T21:16:43.729Z"
   },
   {
    "duration": 8,
    "start_time": "2024-11-03T21:16:43.737Z"
   },
   {
    "duration": 13,
    "start_time": "2024-11-03T21:16:43.746Z"
   },
   {
    "duration": 6,
    "start_time": "2024-11-03T21:16:43.760Z"
   },
   {
    "duration": 50,
    "start_time": "2024-11-03T21:16:43.768Z"
   },
   {
    "duration": 6,
    "start_time": "2024-11-03T21:16:43.821Z"
   },
   {
    "duration": 7,
    "start_time": "2024-11-03T21:16:43.829Z"
   },
   {
    "duration": 6,
    "start_time": "2024-11-03T21:16:43.838Z"
   },
   {
    "duration": 7,
    "start_time": "2024-11-03T21:16:43.846Z"
   },
   {
    "duration": 6,
    "start_time": "2024-11-03T21:16:43.855Z"
   },
   {
    "duration": 71,
    "start_time": "2024-11-03T21:16:43.907Z"
   },
   {
    "duration": 30,
    "start_time": "2024-11-03T21:16:43.980Z"
   },
   {
    "duration": 5,
    "start_time": "2024-11-03T21:16:44.012Z"
   },
   {
    "duration": 4,
    "start_time": "2024-11-03T21:16:44.018Z"
   },
   {
    "duration": 41,
    "start_time": "2024-11-03T21:16:44.024Z"
   },
   {
    "duration": 44,
    "start_time": "2024-11-03T21:16:44.067Z"
   },
   {
    "duration": 5,
    "start_time": "2024-11-03T21:16:44.113Z"
   },
   {
    "duration": 20,
    "start_time": "2024-11-03T21:16:44.119Z"
   },
   {
    "duration": 11,
    "start_time": "2024-11-03T21:16:44.141Z"
   },
   {
    "duration": 5,
    "start_time": "2024-11-03T21:16:44.154Z"
   },
   {
    "duration": 6,
    "start_time": "2024-11-03T21:16:44.160Z"
   },
   {
    "duration": 40,
    "start_time": "2024-11-03T21:16:44.168Z"
   },
   {
    "duration": 5,
    "start_time": "2024-11-03T21:16:44.209Z"
   },
   {
    "duration": 763,
    "start_time": "2024-11-03T21:16:44.215Z"
   },
   {
    "duration": 665,
    "start_time": "2024-11-03T21:16:44.980Z"
   },
   {
    "duration": 7,
    "start_time": "2024-11-03T21:16:45.647Z"
   },
   {
    "duration": 7,
    "start_time": "2024-11-03T21:16:45.656Z"
   },
   {
    "duration": 3,
    "start_time": "2024-11-03T21:16:45.665Z"
   },
   {
    "duration": 4,
    "start_time": "2024-11-03T21:16:45.669Z"
   },
   {
    "duration": 33,
    "start_time": "2024-11-03T21:16:45.674Z"
   },
   {
    "duration": 7,
    "start_time": "2024-11-03T21:16:45.709Z"
   },
   {
    "duration": 5,
    "start_time": "2024-11-03T21:16:45.717Z"
   },
   {
    "duration": 17,
    "start_time": "2024-11-03T21:16:45.724Z"
   },
   {
    "duration": 225,
    "start_time": "2024-11-03T21:16:45.743Z"
   },
   {
    "duration": 12,
    "start_time": "2024-11-03T21:16:45.971Z"
   },
   {
    "duration": 5,
    "start_time": "2024-11-03T21:16:45.985Z"
   },
   {
    "duration": 27,
    "start_time": "2024-11-03T21:16:46.004Z"
   },
   {
    "duration": 4,
    "start_time": "2024-11-03T21:16:46.035Z"
   },
   {
    "duration": 4,
    "start_time": "2024-11-03T21:16:46.040Z"
   },
   {
    "duration": 7,
    "start_time": "2024-11-03T21:16:46.046Z"
   },
   {
    "duration": 2,
    "start_time": "2024-11-03T21:16:46.055Z"
   },
   {
    "duration": 50,
    "start_time": "2024-11-03T21:16:46.058Z"
   },
   {
    "duration": 6,
    "start_time": "2024-11-03T21:16:46.109Z"
   },
   {
    "duration": 3,
    "start_time": "2024-11-03T21:16:46.117Z"
   },
   {
    "duration": 248,
    "start_time": "2024-11-03T21:16:46.121Z"
   },
   {
    "duration": 3,
    "start_time": "2024-11-03T21:16:46.370Z"
   },
   {
    "duration": 158,
    "start_time": "2024-11-03T21:16:46.375Z"
   },
   {
    "duration": 113,
    "start_time": "2024-11-03T21:17:46.575Z"
   },
   {
    "duration": 136,
    "start_time": "2024-11-03T21:17:50.244Z"
   },
   {
    "duration": 139,
    "start_time": "2024-11-03T21:18:09.800Z"
   },
   {
    "duration": 148,
    "start_time": "2024-11-03T21:18:30.325Z"
   },
   {
    "duration": 139,
    "start_time": "2024-11-03T21:18:39.542Z"
   },
   {
    "duration": 138,
    "start_time": "2024-11-03T21:20:55.049Z"
   },
   {
    "duration": 141,
    "start_time": "2024-11-03T21:21:31.345Z"
   },
   {
    "duration": 159,
    "start_time": "2024-11-03T21:22:01.242Z"
   },
   {
    "duration": 223,
    "start_time": "2024-11-03T21:22:19.933Z"
   },
   {
    "duration": 561,
    "start_time": "2024-11-03T21:29:20.535Z"
   },
   {
    "duration": 587,
    "start_time": "2024-11-03T21:29:35.891Z"
   },
   {
    "duration": 480,
    "start_time": "2024-11-03T21:32:27.684Z"
   },
   {
    "duration": 473,
    "start_time": "2024-11-03T21:32:38.802Z"
   },
   {
    "duration": 12,
    "start_time": "2024-11-03T21:34:39.441Z"
   },
   {
    "duration": 11,
    "start_time": "2024-11-03T21:35:08.583Z"
   },
   {
    "duration": 8,
    "start_time": "2024-11-03T21:35:21.143Z"
   },
   {
    "duration": 3,
    "start_time": "2024-11-03T21:35:47.975Z"
   },
   {
    "duration": 475,
    "start_time": "2024-11-03T21:35:54.152Z"
   },
   {
    "duration": 464,
    "start_time": "2024-11-03T21:36:05.114Z"
   },
   {
    "duration": 615,
    "start_time": "2024-11-03T21:38:30.058Z"
   },
   {
    "duration": 510,
    "start_time": "2024-11-03T21:38:37.757Z"
   },
   {
    "duration": 476,
    "start_time": "2024-11-03T21:38:41.865Z"
   },
   {
    "duration": 430,
    "start_time": "2024-11-03T21:41:47.252Z"
   },
   {
    "duration": 1060,
    "start_time": "2024-11-03T21:41:47.684Z"
   },
   {
    "duration": 13,
    "start_time": "2024-11-03T21:41:48.746Z"
   },
   {
    "duration": 4,
    "start_time": "2024-11-03T21:41:48.761Z"
   },
   {
    "duration": 9,
    "start_time": "2024-11-03T21:41:48.768Z"
   },
   {
    "duration": 34,
    "start_time": "2024-11-03T21:41:48.779Z"
   },
   {
    "duration": 6,
    "start_time": "2024-11-03T21:41:48.814Z"
   },
   {
    "duration": 22,
    "start_time": "2024-11-03T21:41:48.822Z"
   },
   {
    "duration": 6,
    "start_time": "2024-11-03T21:41:48.846Z"
   },
   {
    "duration": 8,
    "start_time": "2024-11-03T21:41:48.853Z"
   },
   {
    "duration": 43,
    "start_time": "2024-11-03T21:41:48.863Z"
   },
   {
    "duration": 7,
    "start_time": "2024-11-03T21:41:48.908Z"
   },
   {
    "duration": 5,
    "start_time": "2024-11-03T21:41:48.917Z"
   },
   {
    "duration": 109,
    "start_time": "2024-11-03T21:41:48.926Z"
   },
   {
    "duration": 12,
    "start_time": "2024-11-03T21:41:49.037Z"
   },
   {
    "duration": 6,
    "start_time": "2024-11-03T21:41:49.051Z"
   },
   {
    "duration": 4,
    "start_time": "2024-11-03T21:41:49.058Z"
   },
   {
    "duration": 74,
    "start_time": "2024-11-03T21:41:49.063Z"
   },
   {
    "duration": 13,
    "start_time": "2024-11-03T21:41:49.140Z"
   },
   {
    "duration": 5,
    "start_time": "2024-11-03T21:41:49.154Z"
   },
   {
    "duration": 44,
    "start_time": "2024-11-03T21:41:49.161Z"
   },
   {
    "duration": 7,
    "start_time": "2024-11-03T21:41:49.206Z"
   },
   {
    "duration": 6,
    "start_time": "2024-11-03T21:41:49.215Z"
   },
   {
    "duration": 16,
    "start_time": "2024-11-03T21:41:49.222Z"
   },
   {
    "duration": 7,
    "start_time": "2024-11-03T21:41:49.240Z"
   },
   {
    "duration": 8,
    "start_time": "2024-11-03T21:41:49.249Z"
   },
   {
    "duration": 774,
    "start_time": "2024-11-03T21:41:49.259Z"
   },
   {
    "duration": 690,
    "start_time": "2024-11-03T21:41:50.035Z"
   },
   {
    "duration": 7,
    "start_time": "2024-11-03T21:41:50.727Z"
   },
   {
    "duration": 6,
    "start_time": "2024-11-03T21:41:50.736Z"
   },
   {
    "duration": 4,
    "start_time": "2024-11-03T21:41:50.744Z"
   },
   {
    "duration": 3,
    "start_time": "2024-11-03T21:41:50.750Z"
   },
   {
    "duration": 5,
    "start_time": "2024-11-03T21:41:50.755Z"
   },
   {
    "duration": 49,
    "start_time": "2024-11-03T21:41:50.762Z"
   },
   {
    "duration": 4,
    "start_time": "2024-11-03T21:41:50.813Z"
   },
   {
    "duration": 17,
    "start_time": "2024-11-03T21:41:50.819Z"
   },
   {
    "duration": 206,
    "start_time": "2024-11-03T21:41:50.838Z"
   },
   {
    "duration": 11,
    "start_time": "2024-11-03T21:41:51.046Z"
   },
   {
    "duration": 6,
    "start_time": "2024-11-03T21:41:51.058Z"
   },
   {
    "duration": 47,
    "start_time": "2024-11-03T21:41:51.065Z"
   },
   {
    "duration": 193,
    "start_time": "2024-11-03T21:41:51.116Z"
   },
   {
    "duration": 0,
    "start_time": "2024-11-03T21:41:51.310Z"
   },
   {
    "duration": 0,
    "start_time": "2024-11-03T21:41:51.312Z"
   },
   {
    "duration": 0,
    "start_time": "2024-11-03T21:41:51.313Z"
   },
   {
    "duration": 0,
    "start_time": "2024-11-03T21:41:51.314Z"
   },
   {
    "duration": 0,
    "start_time": "2024-11-03T21:41:51.316Z"
   },
   {
    "duration": 0,
    "start_time": "2024-11-03T21:41:51.317Z"
   },
   {
    "duration": 0,
    "start_time": "2024-11-03T21:41:51.318Z"
   },
   {
    "duration": 0,
    "start_time": "2024-11-03T21:41:51.319Z"
   },
   {
    "duration": 0,
    "start_time": "2024-11-03T21:41:51.320Z"
   },
   {
    "duration": 0,
    "start_time": "2024-11-03T21:41:51.322Z"
   },
   {
    "duration": 0,
    "start_time": "2024-11-03T21:41:51.323Z"
   },
   {
    "duration": 0,
    "start_time": "2024-11-03T21:41:51.325Z"
   },
   {
    "duration": 0,
    "start_time": "2024-11-03T21:41:51.326Z"
   },
   {
    "duration": 0,
    "start_time": "2024-11-03T21:41:51.327Z"
   },
   {
    "duration": 3,
    "start_time": "2024-11-03T21:42:02.928Z"
   },
   {
    "duration": 861,
    "start_time": "2024-11-03T21:42:02.933Z"
   },
   {
    "duration": 15,
    "start_time": "2024-11-03T21:42:03.795Z"
   },
   {
    "duration": 4,
    "start_time": "2024-11-03T21:42:03.812Z"
   },
   {
    "duration": 7,
    "start_time": "2024-11-03T21:42:03.819Z"
   },
   {
    "duration": 10,
    "start_time": "2024-11-03T21:42:03.827Z"
   },
   {
    "duration": 6,
    "start_time": "2024-11-03T21:42:03.838Z"
   },
   {
    "duration": 60,
    "start_time": "2024-11-03T21:42:03.845Z"
   },
   {
    "duration": 7,
    "start_time": "2024-11-03T21:42:03.907Z"
   },
   {
    "duration": 7,
    "start_time": "2024-11-03T21:42:03.916Z"
   },
   {
    "duration": 6,
    "start_time": "2024-11-03T21:42:03.925Z"
   },
   {
    "duration": 8,
    "start_time": "2024-11-03T21:42:03.932Z"
   },
   {
    "duration": 6,
    "start_time": "2024-11-03T21:42:03.942Z"
   },
   {
    "duration": 116,
    "start_time": "2024-11-03T21:42:03.953Z"
   },
   {
    "duration": 11,
    "start_time": "2024-11-03T21:42:04.071Z"
   },
   {
    "duration": 26,
    "start_time": "2024-11-03T21:42:04.083Z"
   },
   {
    "duration": 4,
    "start_time": "2024-11-03T21:42:04.110Z"
   },
   {
    "duration": 50,
    "start_time": "2024-11-03T21:42:04.116Z"
   },
   {
    "duration": 38,
    "start_time": "2024-11-03T21:42:04.168Z"
   },
   {
    "duration": 6,
    "start_time": "2024-11-03T21:42:04.207Z"
   },
   {
    "duration": 19,
    "start_time": "2024-11-03T21:42:04.215Z"
   },
   {
    "duration": 8,
    "start_time": "2024-11-03T21:42:04.236Z"
   },
   {
    "duration": 6,
    "start_time": "2024-11-03T21:42:04.246Z"
   },
   {
    "duration": 4,
    "start_time": "2024-11-03T21:42:04.254Z"
   },
   {
    "duration": 47,
    "start_time": "2024-11-03T21:42:04.260Z"
   },
   {
    "duration": 6,
    "start_time": "2024-11-03T21:42:04.308Z"
   },
   {
    "duration": 771,
    "start_time": "2024-11-03T21:42:04.315Z"
   },
   {
    "duration": 704,
    "start_time": "2024-11-03T21:42:05.088Z"
   },
   {
    "duration": 13,
    "start_time": "2024-11-03T21:42:05.794Z"
   },
   {
    "duration": 7,
    "start_time": "2024-11-03T21:42:05.808Z"
   },
   {
    "duration": 5,
    "start_time": "2024-11-03T21:42:05.817Z"
   },
   {
    "duration": 3,
    "start_time": "2024-11-03T21:42:05.824Z"
   },
   {
    "duration": 5,
    "start_time": "2024-11-03T21:42:05.829Z"
   },
   {
    "duration": 6,
    "start_time": "2024-11-03T21:42:05.835Z"
   },
   {
    "duration": 5,
    "start_time": "2024-11-03T21:42:05.842Z"
   },
   {
    "duration": 67,
    "start_time": "2024-11-03T21:42:05.849Z"
   },
   {
    "duration": 190,
    "start_time": "2024-11-03T21:42:05.917Z"
   },
   {
    "duration": 12,
    "start_time": "2024-11-03T21:42:06.109Z"
   },
   {
    "duration": 5,
    "start_time": "2024-11-03T21:42:06.123Z"
   },
   {
    "duration": 26,
    "start_time": "2024-11-03T21:42:06.130Z"
   },
   {
    "duration": 13,
    "start_time": "2024-11-03T21:42:06.162Z"
   },
   {
    "duration": 0,
    "start_time": "2024-11-03T21:42:06.206Z"
   },
   {
    "duration": 0,
    "start_time": "2024-11-03T21:42:06.207Z"
   },
   {
    "duration": 0,
    "start_time": "2024-11-03T21:42:06.208Z"
   },
   {
    "duration": 0,
    "start_time": "2024-11-03T21:42:06.209Z"
   },
   {
    "duration": 0,
    "start_time": "2024-11-03T21:42:06.210Z"
   },
   {
    "duration": 0,
    "start_time": "2024-11-03T21:42:06.212Z"
   },
   {
    "duration": 0,
    "start_time": "2024-11-03T21:42:06.213Z"
   },
   {
    "duration": 0,
    "start_time": "2024-11-03T21:42:06.214Z"
   },
   {
    "duration": 0,
    "start_time": "2024-11-03T21:42:06.215Z"
   },
   {
    "duration": 0,
    "start_time": "2024-11-03T21:42:06.216Z"
   },
   {
    "duration": 0,
    "start_time": "2024-11-03T21:42:06.217Z"
   },
   {
    "duration": 0,
    "start_time": "2024-11-03T21:42:06.218Z"
   },
   {
    "duration": 0,
    "start_time": "2024-11-03T21:42:06.219Z"
   },
   {
    "duration": 0,
    "start_time": "2024-11-03T21:42:06.221Z"
   },
   {
    "duration": 17,
    "start_time": "2024-11-03T21:42:13.169Z"
   },
   {
    "duration": 3,
    "start_time": "2024-11-03T21:42:19.705Z"
   },
   {
    "duration": 863,
    "start_time": "2024-11-03T21:42:19.709Z"
   },
   {
    "duration": 10,
    "start_time": "2024-11-03T21:42:20.574Z"
   },
   {
    "duration": 19,
    "start_time": "2024-11-03T21:42:20.586Z"
   },
   {
    "duration": 6,
    "start_time": "2024-11-03T21:42:20.607Z"
   },
   {
    "duration": 10,
    "start_time": "2024-11-03T21:42:20.615Z"
   },
   {
    "duration": 6,
    "start_time": "2024-11-03T21:42:20.626Z"
   },
   {
    "duration": 23,
    "start_time": "2024-11-03T21:42:20.634Z"
   },
   {
    "duration": 7,
    "start_time": "2024-11-03T21:42:20.658Z"
   },
   {
    "duration": 8,
    "start_time": "2024-11-03T21:42:20.706Z"
   },
   {
    "duration": 5,
    "start_time": "2024-11-03T21:42:20.719Z"
   },
   {
    "duration": 9,
    "start_time": "2024-11-03T21:42:20.726Z"
   },
   {
    "duration": 6,
    "start_time": "2024-11-03T21:42:20.736Z"
   },
   {
    "duration": 104,
    "start_time": "2024-11-03T21:42:20.744Z"
   },
   {
    "duration": 11,
    "start_time": "2024-11-03T21:42:20.850Z"
   },
   {
    "duration": 5,
    "start_time": "2024-11-03T21:42:20.862Z"
   },
   {
    "duration": 4,
    "start_time": "2024-11-03T21:42:20.868Z"
   },
   {
    "duration": 59,
    "start_time": "2024-11-03T21:42:20.874Z"
   },
   {
    "duration": 14,
    "start_time": "2024-11-03T21:42:20.935Z"
   },
   {
    "duration": 5,
    "start_time": "2024-11-03T21:42:20.950Z"
   },
   {
    "duration": 17,
    "start_time": "2024-11-03T21:42:20.957Z"
   },
   {
    "duration": 35,
    "start_time": "2024-11-03T21:42:20.975Z"
   },
   {
    "duration": 5,
    "start_time": "2024-11-03T21:42:21.012Z"
   },
   {
    "duration": 5,
    "start_time": "2024-11-03T21:42:21.019Z"
   },
   {
    "duration": 4,
    "start_time": "2024-11-03T21:42:21.026Z"
   },
   {
    "duration": 5,
    "start_time": "2024-11-03T21:42:21.032Z"
   },
   {
    "duration": 772,
    "start_time": "2024-11-03T21:42:21.039Z"
   },
   {
    "duration": 705,
    "start_time": "2024-11-03T21:42:21.813Z"
   },
   {
    "duration": 9,
    "start_time": "2024-11-03T21:42:22.523Z"
   },
   {
    "duration": 6,
    "start_time": "2024-11-03T21:42:22.534Z"
   },
   {
    "duration": 3,
    "start_time": "2024-11-03T21:42:22.541Z"
   },
   {
    "duration": 3,
    "start_time": "2024-11-03T21:42:22.546Z"
   },
   {
    "duration": 5,
    "start_time": "2024-11-03T21:42:22.552Z"
   },
   {
    "duration": 47,
    "start_time": "2024-11-03T21:42:22.559Z"
   },
   {
    "duration": 5,
    "start_time": "2024-11-03T21:42:22.608Z"
   },
   {
    "duration": 17,
    "start_time": "2024-11-03T21:42:22.615Z"
   },
   {
    "duration": 210,
    "start_time": "2024-11-03T21:42:22.636Z"
   },
   {
    "duration": 12,
    "start_time": "2024-11-03T21:42:22.848Z"
   },
   {
    "duration": 5,
    "start_time": "2024-11-03T21:42:22.862Z"
   },
   {
    "duration": 54,
    "start_time": "2024-11-03T21:42:22.869Z"
   },
   {
    "duration": 14,
    "start_time": "2024-11-03T21:42:22.925Z"
   },
   {
    "duration": 0,
    "start_time": "2024-11-03T21:42:22.941Z"
   },
   {
    "duration": 0,
    "start_time": "2024-11-03T21:42:22.942Z"
   },
   {
    "duration": 0,
    "start_time": "2024-11-03T21:42:22.943Z"
   },
   {
    "duration": 0,
    "start_time": "2024-11-03T21:42:22.944Z"
   },
   {
    "duration": 0,
    "start_time": "2024-11-03T21:42:22.946Z"
   },
   {
    "duration": 0,
    "start_time": "2024-11-03T21:42:22.947Z"
   },
   {
    "duration": 0,
    "start_time": "2024-11-03T21:42:22.948Z"
   },
   {
    "duration": 0,
    "start_time": "2024-11-03T21:42:22.949Z"
   },
   {
    "duration": 0,
    "start_time": "2024-11-03T21:42:22.951Z"
   },
   {
    "duration": 0,
    "start_time": "2024-11-03T21:42:22.951Z"
   },
   {
    "duration": 0,
    "start_time": "2024-11-03T21:42:22.952Z"
   },
   {
    "duration": 0,
    "start_time": "2024-11-03T21:42:22.954Z"
   },
   {
    "duration": 0,
    "start_time": "2024-11-03T21:42:22.954Z"
   },
   {
    "duration": 0,
    "start_time": "2024-11-03T21:42:22.956Z"
   },
   {
    "duration": 4,
    "start_time": "2024-11-03T21:42:56.425Z"
   },
   {
    "duration": 4,
    "start_time": "2024-11-03T21:43:09.672Z"
   },
   {
    "duration": 3,
    "start_time": "2024-11-03T21:43:12.733Z"
   },
   {
    "duration": 853,
    "start_time": "2024-11-03T21:43:12.738Z"
   },
   {
    "duration": 14,
    "start_time": "2024-11-03T21:43:13.594Z"
   },
   {
    "duration": 4,
    "start_time": "2024-11-03T21:43:13.609Z"
   },
   {
    "duration": 7,
    "start_time": "2024-11-03T21:43:13.616Z"
   },
   {
    "duration": 10,
    "start_time": "2024-11-03T21:43:13.625Z"
   },
   {
    "duration": 6,
    "start_time": "2024-11-03T21:43:13.636Z"
   },
   {
    "duration": 63,
    "start_time": "2024-11-03T21:43:13.644Z"
   },
   {
    "duration": 6,
    "start_time": "2024-11-03T21:43:13.709Z"
   },
   {
    "duration": 9,
    "start_time": "2024-11-03T21:43:13.718Z"
   },
   {
    "duration": 6,
    "start_time": "2024-11-03T21:43:13.731Z"
   },
   {
    "duration": 8,
    "start_time": "2024-11-03T21:43:13.739Z"
   },
   {
    "duration": 5,
    "start_time": "2024-11-03T21:43:13.749Z"
   },
   {
    "duration": 120,
    "start_time": "2024-11-03T21:43:13.757Z"
   },
   {
    "duration": 10,
    "start_time": "2024-11-03T21:43:13.879Z"
   },
   {
    "duration": 14,
    "start_time": "2024-11-03T21:43:13.891Z"
   },
   {
    "duration": 4,
    "start_time": "2024-11-03T21:43:13.907Z"
   },
   {
    "duration": 43,
    "start_time": "2024-11-03T21:43:13.913Z"
   },
   {
    "duration": 14,
    "start_time": "2024-11-03T21:43:13.957Z"
   },
   {
    "duration": 36,
    "start_time": "2024-11-03T21:43:13.972Z"
   },
   {
    "duration": 17,
    "start_time": "2024-11-03T21:43:14.009Z"
   },
   {
    "duration": 6,
    "start_time": "2024-11-03T21:43:14.028Z"
   },
   {
    "duration": 5,
    "start_time": "2024-11-03T21:43:14.035Z"
   },
   {
    "duration": 5,
    "start_time": "2024-11-03T21:43:14.042Z"
   },
   {
    "duration": 5,
    "start_time": "2024-11-03T21:43:14.049Z"
   },
   {
    "duration": 53,
    "start_time": "2024-11-03T21:43:14.056Z"
   },
   {
    "duration": 767,
    "start_time": "2024-11-03T21:43:14.110Z"
   },
   {
    "duration": 678,
    "start_time": "2024-11-03T21:43:14.878Z"
   },
   {
    "duration": 8,
    "start_time": "2024-11-03T21:43:15.560Z"
   },
   {
    "duration": 6,
    "start_time": "2024-11-03T21:43:15.570Z"
   },
   {
    "duration": 28,
    "start_time": "2024-11-03T21:43:15.578Z"
   },
   {
    "duration": 3,
    "start_time": "2024-11-03T21:43:15.607Z"
   },
   {
    "duration": 5,
    "start_time": "2024-11-03T21:43:15.612Z"
   },
   {
    "duration": 7,
    "start_time": "2024-11-03T21:43:15.619Z"
   },
   {
    "duration": 5,
    "start_time": "2024-11-03T21:43:15.627Z"
   },
   {
    "duration": 18,
    "start_time": "2024-11-03T21:43:15.634Z"
   },
   {
    "duration": 226,
    "start_time": "2024-11-03T21:43:15.654Z"
   },
   {
    "duration": 11,
    "start_time": "2024-11-03T21:43:15.881Z"
   },
   {
    "duration": 6,
    "start_time": "2024-11-03T21:43:15.907Z"
   },
   {
    "duration": 28,
    "start_time": "2024-11-03T21:43:15.914Z"
   },
   {
    "duration": 5,
    "start_time": "2024-11-03T21:43:15.943Z"
   },
   {
    "duration": 4,
    "start_time": "2024-11-03T21:43:15.950Z"
   },
   {
    "duration": 8,
    "start_time": "2024-11-03T21:43:15.956Z"
   },
   {
    "duration": 2,
    "start_time": "2024-11-03T21:43:15.965Z"
   },
   {
    "duration": 7,
    "start_time": "2024-11-03T21:43:16.006Z"
   },
   {
    "duration": 8,
    "start_time": "2024-11-03T21:43:16.015Z"
   },
   {
    "duration": 4,
    "start_time": "2024-11-03T21:43:16.024Z"
   },
   {
    "duration": 269,
    "start_time": "2024-11-03T21:43:16.030Z"
   },
   {
    "duration": 3,
    "start_time": "2024-11-03T21:43:16.305Z"
   },
   {
    "duration": 231,
    "start_time": "2024-11-03T21:43:16.310Z"
   },
   {
    "duration": 2,
    "start_time": "2024-11-03T21:43:16.543Z"
   },
   {
    "duration": 571,
    "start_time": "2024-11-03T21:43:16.548Z"
   },
   {
    "duration": 466,
    "start_time": "2024-11-03T21:43:17.121Z"
   },
   {
    "duration": 476,
    "start_time": "2024-11-03T21:43:17.588Z"
   },
   {
    "duration": 558,
    "start_time": "2024-11-03T21:43:18.066Z"
   },
   {
    "duration": 113,
    "start_time": "2024-11-03T21:43:59.861Z"
   },
   {
    "duration": 4,
    "start_time": "2024-11-03T21:49:05.867Z"
   },
   {
    "duration": 15,
    "start_time": "2024-11-03T21:49:47.227Z"
   },
   {
    "duration": 46,
    "start_time": "2024-11-03T21:49:51.675Z"
   },
   {
    "duration": 2090,
    "start_time": "2024-11-03T21:55:48.751Z"
   },
   {
    "duration": 1000,
    "start_time": "2024-11-03T21:55:50.843Z"
   },
   {
    "duration": 14,
    "start_time": "2024-11-03T21:55:51.845Z"
   },
   {
    "duration": 11,
    "start_time": "2024-11-03T21:55:51.860Z"
   },
   {
    "duration": 10,
    "start_time": "2024-11-03T21:55:51.886Z"
   },
   {
    "duration": 6,
    "start_time": "2024-11-03T21:55:51.897Z"
   },
   {
    "duration": 22,
    "start_time": "2024-11-03T21:55:51.905Z"
   },
   {
    "duration": 6,
    "start_time": "2024-11-03T21:55:51.928Z"
   },
   {
    "duration": 7,
    "start_time": "2024-11-03T21:55:51.936Z"
   },
   {
    "duration": 5,
    "start_time": "2024-11-03T21:55:51.945Z"
   },
   {
    "duration": 8,
    "start_time": "2024-11-03T21:55:51.987Z"
   },
   {
    "duration": 5,
    "start_time": "2024-11-03T21:55:51.997Z"
   },
   {
    "duration": 98,
    "start_time": "2024-11-03T21:55:52.003Z"
   },
   {
    "duration": 11,
    "start_time": "2024-11-03T21:55:52.105Z"
   },
   {
    "duration": 5,
    "start_time": "2024-11-03T21:55:52.118Z"
   },
   {
    "duration": 4,
    "start_time": "2024-11-03T21:55:52.124Z"
   },
   {
    "duration": 68,
    "start_time": "2024-11-03T21:55:52.129Z"
   },
   {
    "duration": 12,
    "start_time": "2024-11-03T21:55:52.199Z"
   },
   {
    "duration": 5,
    "start_time": "2024-11-03T21:55:52.213Z"
   },
   {
    "duration": 17,
    "start_time": "2024-11-03T21:55:52.219Z"
   },
   {
    "duration": 6,
    "start_time": "2024-11-03T21:55:52.238Z"
   },
   {
    "duration": 5,
    "start_time": "2024-11-03T21:55:52.245Z"
   },
   {
    "duration": 40,
    "start_time": "2024-11-03T21:55:52.251Z"
   },
   {
    "duration": 4,
    "start_time": "2024-11-03T21:55:52.292Z"
   },
   {
    "duration": 6,
    "start_time": "2024-11-03T21:55:52.297Z"
   },
   {
    "duration": 788,
    "start_time": "2024-11-03T21:55:52.304Z"
   },
   {
    "duration": 755,
    "start_time": "2024-11-03T21:55:53.093Z"
   },
   {
    "duration": 7,
    "start_time": "2024-11-03T21:55:53.851Z"
   },
   {
    "duration": 6,
    "start_time": "2024-11-03T21:55:53.860Z"
   },
   {
    "duration": 20,
    "start_time": "2024-11-03T21:55:53.867Z"
   },
   {
    "duration": 3,
    "start_time": "2024-11-03T21:55:53.889Z"
   },
   {
    "duration": 5,
    "start_time": "2024-11-03T21:55:53.894Z"
   },
   {
    "duration": 7,
    "start_time": "2024-11-03T21:55:53.901Z"
   },
   {
    "duration": 5,
    "start_time": "2024-11-03T21:55:53.909Z"
   },
   {
    "duration": 17,
    "start_time": "2024-11-03T21:55:53.915Z"
   },
   {
    "duration": 223,
    "start_time": "2024-11-03T21:55:53.934Z"
   },
   {
    "duration": 11,
    "start_time": "2024-11-03T21:55:54.160Z"
   },
   {
    "duration": 15,
    "start_time": "2024-11-03T21:55:54.173Z"
   },
   {
    "duration": 27,
    "start_time": "2024-11-03T21:55:54.190Z"
   },
   {
    "duration": 5,
    "start_time": "2024-11-03T21:55:54.218Z"
   },
   {
    "duration": 3,
    "start_time": "2024-11-03T21:55:54.228Z"
   },
   {
    "duration": 7,
    "start_time": "2024-11-03T21:55:54.233Z"
   },
   {
    "duration": 3,
    "start_time": "2024-11-03T21:55:54.241Z"
   },
   {
    "duration": 43,
    "start_time": "2024-11-03T21:55:54.245Z"
   },
   {
    "duration": 6,
    "start_time": "2024-11-03T21:55:54.290Z"
   },
   {
    "duration": 4,
    "start_time": "2024-11-03T21:55:54.297Z"
   },
   {
    "duration": 254,
    "start_time": "2024-11-03T21:55:54.303Z"
   },
   {
    "duration": 2,
    "start_time": "2024-11-03T21:55:54.559Z"
   },
   {
    "duration": 234,
    "start_time": "2024-11-03T21:55:54.563Z"
   },
   {
    "duration": 4,
    "start_time": "2024-11-03T21:55:54.799Z"
   },
   {
    "duration": 572,
    "start_time": "2024-11-03T21:55:54.804Z"
   },
   {
    "duration": 462,
    "start_time": "2024-11-03T21:55:55.378Z"
   },
   {
    "duration": 461,
    "start_time": "2024-11-03T21:55:55.842Z"
   },
   {
    "duration": 165,
    "start_time": "2024-11-03T21:55:56.305Z"
   },
   {
    "duration": 15,
    "start_time": "2024-11-03T23:18:48.933Z"
   },
   {
    "duration": 209,
    "start_time": "2024-11-03T23:42:08.269Z"
   },
   {
    "duration": 1976,
    "start_time": "2024-11-03T23:42:17.541Z"
   },
   {
    "duration": 5,
    "start_time": "2024-11-03T23:43:30.642Z"
   },
   {
    "duration": 6,
    "start_time": "2024-11-03T23:43:32.661Z"
   },
   {
    "duration": 14,
    "start_time": "2024-11-03T23:43:33.929Z"
   },
   {
    "duration": 5,
    "start_time": "2024-11-03T23:46:40.777Z"
   },
   {
    "duration": 5,
    "start_time": "2024-11-03T23:47:09.113Z"
   },
   {
    "duration": 6,
    "start_time": "2024-11-03T23:49:46.264Z"
   },
   {
    "duration": 464,
    "start_time": "2024-11-04T00:13:42.707Z"
   },
   {
    "duration": 44,
    "start_time": "2024-11-04T00:15:29.015Z"
   },
   {
    "duration": 79,
    "start_time": "2024-11-04T00:15:45.529Z"
   },
   {
    "duration": 159,
    "start_time": "2024-11-04T00:16:27.271Z"
   },
   {
    "duration": 164,
    "start_time": "2024-11-04T00:16:44.133Z"
   },
   {
    "duration": 159,
    "start_time": "2024-11-04T00:16:56.051Z"
   },
   {
    "duration": 163,
    "start_time": "2024-11-04T00:17:05.728Z"
   },
   {
    "duration": 160,
    "start_time": "2024-11-04T00:17:16.861Z"
   },
   {
    "duration": 160,
    "start_time": "2024-11-04T00:17:58.366Z"
   },
   {
    "duration": 216,
    "start_time": "2024-11-04T00:18:12.977Z"
   },
   {
    "duration": 184,
    "start_time": "2024-11-04T00:18:37.239Z"
   },
   {
    "duration": 260,
    "start_time": "2024-11-04T00:18:55.473Z"
   },
   {
    "duration": 292,
    "start_time": "2024-11-04T00:19:02.718Z"
   },
   {
    "duration": 425,
    "start_time": "2024-11-04T00:21:00.385Z"
   },
   {
    "duration": 124,
    "start_time": "2024-11-04T00:26:31.356Z"
   },
   {
    "duration": 127,
    "start_time": "2024-11-04T00:26:50.680Z"
   },
   {
    "duration": 131,
    "start_time": "2024-11-04T00:27:12.641Z"
   },
   {
    "duration": 3,
    "start_time": "2024-11-04T00:35:23.795Z"
   },
   {
    "duration": 845,
    "start_time": "2024-11-04T00:35:23.800Z"
   },
   {
    "duration": 11,
    "start_time": "2024-11-04T00:35:24.647Z"
   },
   {
    "duration": 7,
    "start_time": "2024-11-04T00:35:24.660Z"
   },
   {
    "duration": 10,
    "start_time": "2024-11-04T00:35:24.669Z"
   },
   {
    "duration": 7,
    "start_time": "2024-11-04T00:35:24.705Z"
   },
   {
    "duration": 20,
    "start_time": "2024-11-04T00:35:24.714Z"
   },
   {
    "duration": 6,
    "start_time": "2024-11-04T00:35:24.736Z"
   },
   {
    "duration": 8,
    "start_time": "2024-11-04T00:35:24.744Z"
   },
   {
    "duration": 7,
    "start_time": "2024-11-04T00:35:24.755Z"
   },
   {
    "duration": 44,
    "start_time": "2024-11-04T00:35:24.763Z"
   },
   {
    "duration": 5,
    "start_time": "2024-11-04T00:35:24.809Z"
   },
   {
    "duration": 70,
    "start_time": "2024-11-04T00:35:24.815Z"
   },
   {
    "duration": 10,
    "start_time": "2024-11-04T00:35:24.909Z"
   },
   {
    "duration": 5,
    "start_time": "2024-11-04T00:35:24.921Z"
   },
   {
    "duration": 4,
    "start_time": "2024-11-04T00:35:24.927Z"
   },
   {
    "duration": 39,
    "start_time": "2024-11-04T00:35:24.933Z"
   },
   {
    "duration": 16,
    "start_time": "2024-11-04T00:35:25.005Z"
   },
   {
    "duration": 6,
    "start_time": "2024-11-04T00:35:25.023Z"
   },
   {
    "duration": 16,
    "start_time": "2024-11-04T00:35:25.030Z"
   },
   {
    "duration": 6,
    "start_time": "2024-11-04T00:35:25.048Z"
   },
   {
    "duration": 5,
    "start_time": "2024-11-04T00:35:25.056Z"
   },
   {
    "duration": 43,
    "start_time": "2024-11-04T00:35:25.063Z"
   },
   {
    "duration": 5,
    "start_time": "2024-11-04T00:35:25.107Z"
   },
   {
    "duration": 5,
    "start_time": "2024-11-04T00:35:25.114Z"
   },
   {
    "duration": 776,
    "start_time": "2024-11-04T00:35:25.121Z"
   },
   {
    "duration": 651,
    "start_time": "2024-11-04T00:35:25.898Z"
   },
   {
    "duration": 7,
    "start_time": "2024-11-04T00:35:26.552Z"
   },
   {
    "duration": 7,
    "start_time": "2024-11-04T00:35:26.561Z"
   },
   {
    "duration": 7,
    "start_time": "2024-11-04T00:35:26.570Z"
   },
   {
    "duration": 30,
    "start_time": "2024-11-04T00:35:26.578Z"
   },
   {
    "duration": 6,
    "start_time": "2024-11-04T00:35:26.610Z"
   },
   {
    "duration": 8,
    "start_time": "2024-11-04T00:35:26.619Z"
   },
   {
    "duration": 4,
    "start_time": "2024-11-04T00:35:26.628Z"
   },
   {
    "duration": 15,
    "start_time": "2024-11-04T00:35:26.634Z"
   },
   {
    "duration": 225,
    "start_time": "2024-11-04T00:35:26.651Z"
   },
   {
    "duration": 11,
    "start_time": "2024-11-04T00:35:26.878Z"
   },
   {
    "duration": 19,
    "start_time": "2024-11-04T00:35:26.890Z"
   },
   {
    "duration": 33,
    "start_time": "2024-11-04T00:35:26.910Z"
   },
   {
    "duration": 4,
    "start_time": "2024-11-04T00:35:26.945Z"
   },
   {
    "duration": 4,
    "start_time": "2024-11-04T00:35:26.956Z"
   },
   {
    "duration": 155,
    "start_time": "2024-11-04T00:35:26.962Z"
   },
   {
    "duration": 3,
    "start_time": "2024-11-04T00:35:27.119Z"
   },
   {
    "duration": 6,
    "start_time": "2024-11-04T00:35:27.123Z"
   },
   {
    "duration": 6,
    "start_time": "2024-11-04T00:35:27.131Z"
   },
   {
    "duration": 3,
    "start_time": "2024-11-04T00:35:27.140Z"
   },
   {
    "duration": 269,
    "start_time": "2024-11-04T00:35:27.145Z"
   },
   {
    "duration": 227,
    "start_time": "2024-11-04T00:35:27.416Z"
   },
   {
    "duration": 623,
    "start_time": "2024-11-04T00:35:27.645Z"
   },
   {
    "duration": 447,
    "start_time": "2024-11-04T00:35:28.270Z"
   },
   {
    "duration": 442,
    "start_time": "2024-11-04T00:35:28.719Z"
   },
   {
    "duration": 151,
    "start_time": "2024-11-04T00:35:29.162Z"
   }
  ],
  "kernelspec": {
   "display_name": "Python 3 (ipykernel)",
   "language": "python",
   "name": "python3"
  },
  "language_info": {
   "codemirror_mode": {
    "name": "ipython",
    "version": 3
   },
   "file_extension": ".py",
   "mimetype": "text/x-python",
   "name": "python",
   "nbconvert_exporter": "python",
   "pygments_lexer": "ipython3",
   "version": "3.9.19"
  },
  "toc": {
   "base_numbering": 1,
   "nav_menu": {},
   "number_sections": true,
   "sideBar": true,
   "skip_h1_title": true,
   "title_cell": "Table of Contents",
   "title_sidebar": "Contents",
   "toc_cell": false,
   "toc_position": {},
   "toc_section_display": true,
   "toc_window_display": true
  },
  "vscode": {
   "interpreter": {
    "hash": "01a7be9ec63e704a62cefc5fe7a4756944464ee731be31632bdf42a4cb4688cf"
   }
  }
 },
 "nbformat": 4,
 "nbformat_minor": 5
}
